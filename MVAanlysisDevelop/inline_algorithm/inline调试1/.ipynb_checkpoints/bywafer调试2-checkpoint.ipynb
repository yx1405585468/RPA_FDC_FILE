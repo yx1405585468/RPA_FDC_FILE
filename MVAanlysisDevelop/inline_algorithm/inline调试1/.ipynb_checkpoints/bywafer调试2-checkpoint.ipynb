{
 "cells": [
  {
   "cell_type": "code",
   "execution_count": 32,
   "id": "0db45010",
   "metadata": {},
   "outputs": [],
   "source": [
    "import pyspark\n",
    "import pandas as pd\n",
    "from pca import pca\n",
    "from typing import Union, List, Dict\n",
    "from sklearn.ensemble import RandomForestClassifier\n",
    "from sklearn.svm import LinearSVC\n",
    "from sklearn.tree import DecisionTreeClassifier\n",
    "from sklearn.linear_model import SGDClassifier, LogisticRegression\n",
    "from sklearn.pipeline import Pipeline\n",
    "from sklearn.impute import SimpleImputer\n",
    "from sklearn.preprocessing import StandardScaler\n",
    "from sklearn.model_selection import GridSearchCV\n",
    "from pyspark.sql.types import StructType, StructField, StringType, IntegerType, FloatType, BooleanType\n",
    "from pyspark.sql.functions import pandas_udf, PandasUDFType, lit, col, when, sum as spark_sum, monotonically_increasing_id\n",
    "\n",
    "import pyspark\n",
    "import pandas as pd\n",
    "from pca import pca\n",
    "from sklearn.model_selection import GridSearchCV\n",
    "from sklearn.preprocessing import StandardScaler\n",
    "from sklearn.ensemble import RandomForestClassifier\n",
    "from sklearn.impute import SimpleImputer\n",
    "from sklearn.pipeline import Pipeline\n",
    "from sklearn.svm import LinearSVC\n",
    "from sklearn.tree import DecisionTreeClassifier\n",
    "from sklearn.linear_model import SGDClassifier, LogisticRegression\n",
    "from pyspark.sql.types import StructType, StructField, StringType, FloatType, BooleanType\n",
    "from pyspark.sql.functions import pandas_udf, PandasUDFType, lit, col, countDistinct, when, monotonically_increasing_id, \\\n",
    "    sum as spark_sum, collect_set, explode\n",
    "from typing import List, Dict, Union"
   ]
  },
  {
   "cell_type": "code",
   "execution_count": 2,
   "id": "b4101fe7",
   "metadata": {},
   "outputs": [
    {
     "name": "stderr",
     "output_type": "stream",
     "text": [
      "[scatterd] >WARNING> 'PYARROW_IGNORE_TIMEZONE' environment variable was not set. It is required to set this environment variable to '1' in both driver and executor sides if you use pyarrow>=2.0.0. pandas-on-Spark will set it for you but it does not work if there is a Spark context already launched.\n"
     ]
    }
   ],
   "source": [
    "import os\n",
    "import json\n",
    "from pyspark.sql import SparkSession\n",
    "import pyspark.pandas as ps\n",
    "\n",
    "os.environ['PYSPARK_PYTHON'] = '/usr/local/python-3.9.13/bin/python3'\n",
    "spark = SparkSession.builder \\\n",
    "    .appName(\"pandas_udf\") \\\n",
    "    .config('spark.sql.session.timeZone', 'Asia/Shanghai') \\\n",
    "    .config(\"spark.scheduler.mode\", \"FAIR\") \\\n",
    "    .config('spark.driver.memory', '8g') \\\n",
    "    .config('spark.driver.cores', '12') \\\n",
    "    .config('spark.executor.memory', '8g') \\\n",
    "    .config('spark.executor.cores', '12') \\\n",
    "    .config('spark.cores.max', '12') \\\n",
    "    .config('spark.driver.host', '192.168.22.28') \\\n",
    "    .master(\"spark://192.168.12.47:7077,192.168.12.48:7077\") \\\n",
    "    .getOrCreate()"
   ]
  },
  {
   "cell_type": "code",
   "execution_count": 81,
   "id": "811d5781",
   "metadata": {},
   "outputs": [
    {
     "name": "stderr",
     "output_type": "stream",
     "text": [
      "C:\\Users\\yang.wenjun\\AppData\\Local\\Temp\\ipykernel_33676\\3289620642.py:1: DtypeWarning: Columns (134) have mixed types. Specify dtype option on import or set low_memory=False.\n",
      "  df_pandas = pd.read_csv(\n",
      "D:\\developer\\Anaconda\\lib\\site-packages\\pyspark\\pandas\\internal.py:1573: FutureWarning: iteritems is deprecated and will be removed in a future version. Use .items instead.\n",
      "  fields = [\n",
      "D:\\developer\\Anaconda\\lib\\site-packages\\pyspark\\sql\\pandas\\conversion.py:486: FutureWarning: iteritems is deprecated and will be removed in a future version. Use .items instead.\n",
      "  for column, series in pdf.iteritems():\n",
      "D:\\developer\\Anaconda\\lib\\site-packages\\pyspark\\pandas\\utils.py:975: PandasAPIOnSparkAdviceWarning: If `index_col` is not specified for `to_spark`, the existing index is lost when converting to Spark DataFrame.\n",
      "  warnings.warn(message, PandasAPIOnSparkAdviceWarning)\n"
     ]
    },
    {
     "name": "stdout",
     "output_type": "stream",
     "text": [
      "df_spark shape: (2461, 144)\n",
      "+---------+--------+-------------------+-------------------+-----------+------+--------------+---------+-----------------+---------+---------+----------+---------------+-------------+-------------+----------+---------+---------+---------+---------+---------+---------+---------+---------+---------+----------+----------+----------+----------+----------+----------+----------+----------+----------+----------+----------+----------+----------+----------+----------+----------+----------+----------+----------+----------+----------+----------+----------+----------+----------+----------+----------+----------+----------+----------+----------+----------+----------+----------+----------+----------+----------+----------+----------+----------+----------+------------------+--------------+--------+------------+-------+-------------------+---------------------+---------------------+---------------------+---------------------+---------------------+---------------------+---------------------+---------------------+---------------------+----------------------+----------------------+----------------------+----------------------+----------------------+----------------------+----------------------+----------------------+----------------------+----------------------+----------------------+----------------------+----------------------+----------------------+----------------------+----------------------+----------------------+----------------------+----------------------+----------------------+----------------------+----------------------+----------------------+----------------------+----------------------+----------------------+----------------------+----------------------+----------------------+----------------------+----------------------+----------------------+----------------------+----------------------+----------------------+----------------------+----------------------+----------------------+----------------------+----------------------+----------------------+-----------+----------+------------+------------+-----------+---------+--------+----------+---------+----+---------+-----------------+--------+-------------------+------------+-------------------+------------+-------------+----------+--------------------+-------------------+-----+\n",
      "| WAFER_ID| OPER_NO|INLINE_PARAMETER_ID|       MEASURE_TIME|RANGE_INDEX|FAB_ID|    PRODUCT_ID|   LOT_ID|          AVERAGE|  MAX_VAL|   MEDIAN|   MIN_VAL|        STD_DEV|PERCENTILE_25|PERCENTILE_75|SITE_COUNT|SITE1_VAL|SITE2_VAL|SITE3_VAL|SITE4_VAL|SITE5_VAL|SITE6_VAL|SITE7_VAL|SITE8_VAL|SITE9_VAL|SITE10_VAL|SITE11_VAL|SITE12_VAL|SITE13_VAL|SITE14_VAL|SITE15_VAL|SITE16_VAL|SITE17_VAL|SITE18_VAL|SITE19_VAL|SITE20_VAL|SITE21_VAL|SITE22_VAL|SITE23_VAL|SITE24_VAL|SITE25_VAL|SITE26_VAL|SITE27_VAL|SITE28_VAL|SITE29_VAL|SITE30_VAL|SITE31_VAL|SITE32_VAL|SITE33_VAL|SITE34_VAL|SITE35_VAL|SITE36_VAL|SITE37_VAL|SITE38_VAL|SITE39_VAL|SITE40_VAL|SITE41_VAL|SITE42_VAL|SITE43_VAL|SITE44_VAL|SITE45_VAL|SITE46_VAL|SITE47_VAL|SITE48_VAL|SITE49_VAL|SITE50_VAL|          BATCH_ID|DUPLICATE_FLAG|TEXT_VAL|EQUIPMENT_ID|CHAMBER|AVG_SPEC_CHK_RESULT|SITE1_SPEC_CHK_RESULT|SITE2_SPEC_CHK_RESULT|SITE3_SPEC_CHK_RESULT|SITE4_SPEC_CHK_RESULT|SITE5_SPEC_CHK_RESULT|SITE6_SPEC_CHK_RESULT|SITE7_SPEC_CHK_RESULT|SITE8_SPEC_CHK_RESULT|SITE9_SPEC_CHK_RESULT|SITE10_SPEC_CHK_RESULT|SITE11_SPEC_CHK_RESULT|SITE12_SPEC_CHK_RESULT|SITE13_SPEC_CHK_RESULT|SITE14_SPEC_CHK_RESULT|SITE15_SPEC_CHK_RESULT|SITE16_SPEC_CHK_RESULT|SITE17_SPEC_CHK_RESULT|SITE18_SPEC_CHK_RESULT|SITE19_SPEC_CHK_RESULT|SITE20_SPEC_CHK_RESULT|SITE21_SPEC_CHK_RESULT|SITE22_SPEC_CHK_RESULT|SITE23_SPEC_CHK_RESULT|SITE24_SPEC_CHK_RESULT|SITE25_SPEC_CHK_RESULT|SITE26_SPEC_CHK_RESULT|SITE27_SPEC_CHK_RESULT|SITE28_SPEC_CHK_RESULT|SITE29_SPEC_CHK_RESULT|SITE30_SPEC_CHK_RESULT|SITE31_SPEC_CHK_RESULT|SITE32_SPEC_CHK_RESULT|SITE33_SPEC_CHK_RESULT|SITE34_SPEC_CHK_RESULT|SITE35_SPEC_CHK_RESULT|SITE36_SPEC_CHK_RESULT|SITE37_SPEC_CHK_RESULT|SITE38_SPEC_CHK_RESULT|SITE39_SPEC_CHK_RESULT|SITE40_SPEC_CHK_RESULT|SITE41_SPEC_CHK_RESULT|SITE42_SPEC_CHK_RESULT|SITE43_SPEC_CHK_RESULT|SITE44_SPEC_CHK_RESULT|SITE45_SPEC_CHK_RESULT|SITE46_SPEC_CHK_RESULT|SITE47_SPEC_CHK_RESULT|SITE48_SPEC_CHK_RESULT|SITE49_SPEC_CHK_RESULT|SITE50_SPEC_CHK_RESULT|DATA_SOURCE|DATA_LEVEL|TARGET_VALUE|CONTROL_HIGH|CONTROL_LOW|SPEC_HIGH|SPEC_LOW|VALID_HIGH|VALID_LOW|UNIT|DATA_TYPE|            RANGE|ACT_CODE|    ETL_INSERT_TIME|ETL_ARC_FLAG|  ETL_BATCH_SYNC_TS|ETL_DEL_FLAG|ETL_DS_JOB_NM|ETL_SRC_DB|         ETL_SRC_TBL|    ETL_TBL_OPER_TS|label|\n",
      "+---------+--------+-------------------+-------------------+-----------+------+--------------+---------+-----------------+---------+---------+----------+---------------+-------------+-------------+----------+---------+---------+---------+---------+---------+---------+---------+---------+---------+----------+----------+----------+----------+----------+----------+----------+----------+----------+----------+----------+----------+----------+----------+----------+----------+----------+----------+----------+----------+----------+----------+----------+----------+----------+----------+----------+----------+----------+----------+----------+----------+----------+----------+----------+----------+----------+----------+----------+----------+----------+------------------+--------------+--------+------------+-------+-------------------+---------------------+---------------------+---------------------+---------------------+---------------------+---------------------+---------------------+---------------------+---------------------+----------------------+----------------------+----------------------+----------------------+----------------------+----------------------+----------------------+----------------------+----------------------+----------------------+----------------------+----------------------+----------------------+----------------------+----------------------+----------------------+----------------------+----------------------+----------------------+----------------------+----------------------+----------------------+----------------------+----------------------+----------------------+----------------------+----------------------+----------------------+----------------------+----------------------+----------------------+----------------------+----------------------+----------------------+----------------------+----------------------+----------------------+----------------------+----------------------+----------------------+----------------------+-----------+----------+------------+------------+-----------+---------+--------+----------+---------+----+---------+-----------------+--------+-------------------+------------+-------------------+------------+-------------+----------+--------------------+-------------------+-----+\n",
      "|NAZ439-03|1F.FQE10|               CXS1|2023-01-31 22:52:24|          0|    N1|AFPNM301N.0A01|NAZ439000|              0.0|   144.06|      0.0|   -144.06|80.532415554653|   -61.482015|    61.482015|      17.0|      0.0|   -72.03|-50.93403|      0.0| 50.93403|    72.03| 50.93403|      0.0|-50.93403|   -144.06|-101.86659|       0.0| 101.86659|    144.06| 101.86659|       0.0|-101.86659|      null|      null|      null|      null|      null|      null|      null|      null|      null|      null|      null|      null|      null|      null|      null|      null|      null|      null|      null|      null|      null|      null|      null|      null|      null|      null|      null|      null|      null|      null|      null|      null|      null|2.0230131000211E13|             Y|    null|       QEK01|   null|               null|                 null|                 null|                 null|                 null|                 null|                 null|                 null|                 null|                 null|                  null|                  null|                  null|                  null|                  null|                  null|                  null|                  null|                  null|                  null|                  null|                  null|                  null|                  null|                  null|                  null|                  null|                  null|                  null|                  null|                  null|                  null|                  null|                  null|                  null|                  null|                  null|                  null|                  null|                  null|                  null|                  null|                  null|                  null|                  null|                  null|                  null|                  null|                  null|                  null|                  null|       null|      Site|         0.0|         0.0|        0.0|      0.0|     0.0|       0.0|      0.0|null|        N|           288.12|    null|2023-05-29 06:00:43|           0|1970-01-01 00:00:00|           0|         null|       EDA|INLINE_WAFER_SUMMARY|1970-01-01 00:00:00|    0|\n",
      "|NAZ439-03|1F.FQE10|               CYS1|2023-01-31 22:52:24|          0|    N1|AFPNM301N.0A01|NAZ439000|0.287947058823527|   144.06|      0.0|-139.16049|79.991939676461|   -61.482015|    61.482015|      17.0|      0.0|      0.0| 50.93403|    72.03| 50.93403|      0.0|-50.93403|   -72.03|-50.93403|       0.0| 101.86659|    144.06| 101.86659|       0.0|-101.86659|-139.16049|  -101.871|      null|      null|      null|      null|      null|      null|      null|      null|      null|      null|      null|      null|      null|      null|      null|      null|      null|      null|      null|      null|      null|      null|      null|      null|      null|      null|      null|      null|      null|      null|      null|      null|      null|2.0230131000211E13|             Y|    null|       QEK01|   null|               null|                 null|                 null|                 null|                 null|                 null|                 null|                 null|                 null|                 null|                  null|                  null|                  null|                  null|                  null|                  null|                  null|                  null|                  null|                  null|                  null|                  null|                  null|                  null|                  null|                  null|                  null|                  null|                  null|                  null|                  null|                  null|                  null|                  null|                  null|                  null|                  null|                  null|                  null|                  null|                  null|                  null|                  null|                  null|                  null|                  null|                  null|                  null|                  null|                  null|                  null|       null|      Site|         0.0|         0.0|        0.0|      0.0|     0.0|       0.0|      0.0|null|        N|        283.22049|    null|2023-05-29 06:00:43|           0|1970-01-01 00:00:00|           0|         null|       EDA|INLINE_WAFER_SUMMARY|1970-01-01 00:00:00|    0|\n",
      "|NAZ439-03|1F.FQE10|               FDS1|2023-01-31 22:52:24|          0|    N1|AFPNM301N.0A01|NAZ439000|0.993052047058824|0.9930901|0.9930528| 0.9930084|   2.2011336E-5|   0.99304245|    0.9930656|      17.0|0.9930528|0.9930584|0.9930657|0.9930463|0.9930655|0.9930901|0.9930084|0.9930854|0.9930577| 0.9930423| 0.9930479| 0.9930426| 0.9930205|  0.993059| 0.9930769| 0.9930426| 0.9930227|      null|      null|      null|      null|      null|      null|      null|      null|      null|      null|      null|      null|      null|      null|      null|      null|      null|      null|      null|      null|      null|      null|      null|      null|      null|      null|      null|      null|      null|      null|      null|      null|      null|2.0230131000211E13|             Y|    null|       QEK01|   null|               null|                 null|                 null|                 null|                 null|                 null|                 null|                 null|                 null|                 null|                  null|                  null|                  null|                  null|                  null|                  null|                  null|                  null|                  null|                  null|                  null|                  null|                  null|                  null|                  null|                  null|                  null|                  null|                  null|                  null|                  null|                  null|                  null|                  null|                  null|                  null|                  null|                  null|                  null|                  null|                  null|                  null|                  null|                  null|                  null|                  null|                  null|                  null|                  null|                  null|                  null|       null|      Site|         0.0|         0.0|        0.0|      0.0|     0.0|       0.0|      0.0|null|        N|8.169999999996E-5|    null|2023-05-29 06:00:43|           0|1970-01-01 00:00:00|           0|         null|       EDA|INLINE_WAFER_SUMMARY|1970-01-01 00:00:00|    0|\n",
      "|NAZ439-03|1F.FQE10|               TAW1|2023-01-31 22:52:24|          0|    N1|AFPNM301N.0A01|NAZ439000|         109.2519|     null|     null|      null|           null|         null|         null|      null|     null|     null|     null|     null|     null|     null|     null|     null|     null|      null|      null|      null|      null|      null|      null|      null|      null|      null|      null|      null|      null|      null|      null|      null|      null|      null|      null|      null|      null|      null|      null|      null|      null|      null|      null|      null|      null|      null|      null|      null|      null|      null|      null|      null|      null|      null|      null|      null|      null|      null|2.0230131000211E13|             Y|    null|       QEK01|   null|                0.0|                 null|                 null|                 null|                 null|                 null|                 null|                 null|                 null|                 null|                  null|                  null|                  null|                  null|                  null|                  null|                  null|                  null|                  null|                  null|                  null|                  null|                  null|                  null|                  null|                  null|                  null|                  null|                  null|                  null|                  null|                  null|                  null|                  null|                  null|                  null|                  null|                  null|                  null|                  null|                  null|                  null|                  null|                  null|                  null|                  null|                  null|                  null|                  null|                  null|                  null|       null|     Wafer|       110.0|       120.0|      100.0|    120.0|   100.0|     120.0|    100.0|null|        N|             null|    null|2023-05-29 06:00:43|           0|1970-01-01 00:00:00|           0|         null|       EDA|INLINE_WAFER_SUMMARY|1970-01-01 00:00:00|    0|\n",
      "|NAZ439-03|1F.FQE10|               TAWB|2023-01-31 22:52:24|          0|    N1|AFPNM301N.0A01|NAZ439000|         109.2519|     null|     null|      null|           null|         null|         null|      null|     null|     null|     null|     null|     null|     null|     null|     null|     null|      null|      null|      null|      null|      null|      null|      null|      null|      null|      null|      null|      null|      null|      null|      null|      null|      null|      null|      null|      null|      null|      null|      null|      null|      null|      null|      null|      null|      null|      null|      null|      null|      null|      null|      null|      null|      null|      null|      null|      null|      null|2.0230131000211E13|             Y|    null|       QEK01|   null|               null|                 null|                 null|                 null|                 null|                 null|                 null|                 null|                 null|                 null|                  null|                  null|                  null|                  null|                  null|                  null|                  null|                  null|                  null|                  null|                  null|                  null|                  null|                  null|                  null|                  null|                  null|                  null|                  null|                  null|                  null|                  null|                  null|                  null|                  null|                  null|                  null|                  null|                  null|                  null|                  null|                  null|                  null|                  null|                  null|                  null|                  null|                  null|                  null|                  null|                  null|       null|     Wafer|         0.0|         0.0|        0.0|      0.0|     0.0|       0.0|      0.0|null|        N|             null|    null|2023-05-29 06:00:43|           0|1970-01-01 00:00:00|           0|         null|       EDA|INLINE_WAFER_SUMMARY|1970-01-01 00:00:00|    0|\n",
      "|NAZ439-03|1F.FQE10|               TDS0|2023-01-31 22:52:24|          0|    N1|AFPNM301N.0A01|NAZ439000|         108.4117| 108.4117| 108.4117|  108.4117|            0.0|     108.4117|     108.4117|       1.0| 108.4117|     null|     null|     null|     null|     null|     null|     null|     null|      null|      null|      null|      null|      null|      null|      null|      null|      null|      null|      null|      null|      null|      null|      null|      null|      null|      null|      null|      null|      null|      null|      null|      null|      null|      null|      null|      null|      null|      null|      null|      null|      null|      null|      null|      null|      null|      null|      null|      null|      null|2.0230131000211E13|             Y|    null|       QEK01|   null|               null|                 null|                 null|                 null|                 null|                 null|                 null|                 null|                 null|                 null|                  null|                  null|                  null|                  null|                  null|                  null|                  null|                  null|                  null|                  null|                  null|                  null|                  null|                  null|                  null|                  null|                  null|                  null|                  null|                  null|                  null|                  null|                  null|                  null|                  null|                  null|                  null|                  null|                  null|                  null|                  null|                  null|                  null|                  null|                  null|                  null|                  null|                  null|                  null|                  null|                  null|       null|      Site|         0.0|         0.0|        0.0|      0.0|     0.0|       0.0|      0.0|null|        N|              0.0|    null|2023-05-29 06:00:43|           0|1970-01-01 00:00:00|           0|         null|       EDA|INLINE_WAFER_SUMMARY|1970-01-01 00:00:00|    0|\n",
      "|NAZ439-03|1F.FQE10|               TDS1|2023-01-31 22:52:24|          0|    N1|AFPNM301N.0A01|NAZ439000| 109.251923529412| 110.1915| 109.1703|  108.4117| 0.547565949829|     108.8124|     109.7011|      17.0| 108.4117| 109.1703| 109.0072| 108.8928| 108.6027| 108.6326| 108.7895| 108.8353| 109.0181|   110.171|  110.1915|  109.5629|  109.7379|  109.1812|  109.7058|  109.6758|  109.6964|      null|      null|      null|      null|      null|      null|      null|      null|      null|      null|      null|      null|      null|      null|      null|      null|      null|      null|      null|      null|      null|      null|      null|      null|      null|      null|      null|      null|      null|      null|      null|      null|      null|2.0230131000211E13|             Y|    null|       QEK01|   null|               null|                 null|                 null|                 null|                 null|                 null|                 null|                 null|                 null|                 null|                  null|                  null|                  null|                  null|                  null|                  null|                  null|                  null|                  null|                  null|                  null|                  null|                  null|                  null|                  null|                  null|                  null|                  null|                  null|                  null|                  null|                  null|                  null|                  null|                  null|                  null|                  null|                  null|                  null|                  null|                  null|                  null|                  null|                  null|                  null|                  null|                  null|                  null|                  null|                  null|                  null|       null|      Site|         0.0|         0.0|        0.0|      0.0|     0.0|       0.0|      0.0|null|        N| 1.77980000000001|    null|2023-05-29 06:00:43|           0|1970-01-01 00:00:00|           0|         null|       EDA|INLINE_WAFER_SUMMARY|1970-01-01 00:00:00|    0|\n",
      "|NAZ439-03|1F.FQE10|               THW1|2023-01-31 22:52:24|          0|    N1|AFPNM301N.0A01|NAZ439000|         110.1915|     null|     null|      null|           null|         null|         null|      null|     null|     null|     null|     null|     null|     null|     null|     null|     null|      null|      null|      null|      null|      null|      null|      null|      null|      null|      null|      null|      null|      null|      null|      null|      null|      null|      null|      null|      null|      null|      null|      null|      null|      null|      null|      null|      null|      null|      null|      null|      null|      null|      null|      null|      null|      null|      null|      null|      null|      null|2.0230131000211E13|             Y|    null|       QEK01|   null|               null|                 null|                 null|                 null|                 null|                 null|                 null|                 null|                 null|                 null|                  null|                  null|                  null|                  null|                  null|                  null|                  null|                  null|                  null|                  null|                  null|                  null|                  null|                  null|                  null|                  null|                  null|                  null|                  null|                  null|                  null|                  null|                  null|                  null|                  null|                  null|                  null|                  null|                  null|                  null|                  null|                  null|                  null|                  null|                  null|                  null|                  null|                  null|                  null|                  null|                  null|       null|     Wafer|         0.0|         0.0|        0.0|      0.0|     0.0|       0.0|      0.0|null|        N|             null|    null|2023-05-29 06:00:43|           0|1970-01-01 00:00:00|           0|         null|       EDA|INLINE_WAFER_SUMMARY|1970-01-01 00:00:00|    0|\n",
      "|NAZ439-03|1F.FQE10|               TLW1|2023-01-31 22:52:24|          0|    N1|AFPNM301N.0A01|NAZ439000|         108.4117|     null|     null|      null|           null|         null|         null|      null|     null|     null|     null|     null|     null|     null|     null|     null|     null|      null|      null|      null|      null|      null|      null|      null|      null|      null|      null|      null|      null|      null|      null|      null|      null|      null|      null|      null|      null|      null|      null|      null|      null|      null|      null|      null|      null|      null|      null|      null|      null|      null|      null|      null|      null|      null|      null|      null|      null|      null|2.0230131000211E13|             Y|    null|       QEK01|   null|               null|                 null|                 null|                 null|                 null|                 null|                 null|                 null|                 null|                 null|                  null|                  null|                  null|                  null|                  null|                  null|                  null|                  null|                  null|                  null|                  null|                  null|                  null|                  null|                  null|                  null|                  null|                  null|                  null|                  null|                  null|                  null|                  null|                  null|                  null|                  null|                  null|                  null|                  null|                  null|                  null|                  null|                  null|                  null|                  null|                  null|                  null|                  null|                  null|                  null|                  null|       null|     Wafer|         0.0|         0.0|        0.0|      0.0|     0.0|       0.0|      0.0|null|        N|             null|    null|2023-05-29 06:00:43|           0|1970-01-01 00:00:00|           0|         null|       EDA|INLINE_WAFER_SUMMARY|1970-01-01 00:00:00|    0|\n",
      "|NAZ439-03|1F.FQE10|               TRW1|2023-01-31 22:52:24|          0|    N1|AFPNM301N.0A01|NAZ439000|     1.7797851562|     null|     null|      null|           null|         null|         null|      null|     null|     null|     null|     null|     null|     null|     null|     null|     null|      null|      null|      null|      null|      null|      null|      null|      null|      null|      null|      null|      null|      null|      null|      null|      null|      null|      null|      null|      null|      null|      null|      null|      null|      null|      null|      null|      null|      null|      null|      null|      null|      null|      null|      null|      null|      null|      null|      null|      null|      null|2.0230131000211E13|             Y|    null|       QEK01|   null|               null|                 null|                 null|                 null|                 null|                 null|                 null|                 null|                 null|                 null|                  null|                  null|                  null|                  null|                  null|                  null|                  null|                  null|                  null|                  null|                  null|                  null|                  null|                  null|                  null|                  null|                  null|                  null|                  null|                  null|                  null|                  null|                  null|                  null|                  null|                  null|                  null|                  null|                  null|                  null|                  null|                  null|                  null|                  null|                  null|                  null|                  null|                  null|                  null|                  null|                  null|       null|     Wafer|         0.0|         0.0|        0.0|      0.0|     0.0|       0.0|      0.0|null|        N|             null|    null|2023-05-29 06:00:43|           0|1970-01-01 00:00:00|           0|         null|       EDA|INLINE_WAFER_SUMMARY|1970-01-01 00:00:00|    0|\n",
      "|NAZ439-03|1F.FQE10|               TUW1|2023-01-31 22:52:24|          0|    N1|AFPNM301N.0A01|NAZ439000|       0.00814539|     null|     null|      null|           null|         null|         null|      null|     null|     null|     null|     null|     null|     null|     null|     null|     null|      null|      null|      null|      null|      null|      null|      null|      null|      null|      null|      null|      null|      null|      null|      null|      null|      null|      null|      null|      null|      null|      null|      null|      null|      null|      null|      null|      null|      null|      null|      null|      null|      null|      null|      null|      null|      null|      null|      null|      null|      null|2.0230131000211E13|             Y|    null|       QEK01|   null|               null|                 null|                 null|                 null|                 null|                 null|                 null|                 null|                 null|                 null|                  null|                  null|                  null|                  null|                  null|                  null|                  null|                  null|                  null|                  null|                  null|                  null|                  null|                  null|                  null|                  null|                  null|                  null|                  null|                  null|                  null|                  null|                  null|                  null|                  null|                  null|                  null|                  null|                  null|                  null|                  null|                  null|                  null|                  null|                  null|                  null|                  null|                  null|                  null|                  null|                  null|       null|     Wafer|         0.0|         0.0|        0.0|      0.0|     0.0|       0.0|      0.0|null|        N|             null|    null|2023-05-29 06:00:43|           0|1970-01-01 00:00:00|           0|         null|       EDA|INLINE_WAFER_SUMMARY|1970-01-01 00:00:00|    0|\n",
      "|NAZ439-03|1F.FQE10|               TUW9|2023-01-31 22:52:24|          0|    N1|AFPNM301N.0A01|NAZ439000|     0.0081453264|     null|     null|      null|           null|         null|         null|      null|     null|     null|     null|     null|     null|     null|     null|     null|     null|      null|      null|      null|      null|      null|      null|      null|      null|      null|      null|      null|      null|      null|      null|      null|      null|      null|      null|      null|      null|      null|      null|      null|      null|      null|      null|      null|      null|      null|      null|      null|      null|      null|      null|      null|      null|      null|      null|      null|      null|      null|2.0230131000211E13|             Y|    null|       QEK01|   null|               null|                 null|                 null|                 null|                 null|                 null|                 null|                 null|                 null|                 null|                  null|                  null|                  null|                  null|                  null|                  null|                  null|                  null|                  null|                  null|                  null|                  null|                  null|                  null|                  null|                  null|                  null|                  null|                  null|                  null|                  null|                  null|                  null|                  null|                  null|                  null|                  null|                  null|                  null|                  null|                  null|                  null|                  null|                  null|                  null|                  null|                  null|                  null|                  null|                  null|                  null|       null|     Wafer|         0.0|         0.0|        0.0|      0.0|     0.0|       0.0|      0.0|null|        N|             null|    null|2023-05-29 06:00:43|           0|1970-01-01 00:00:00|           0|         null|       EDA|INLINE_WAFER_SUMMARY|1970-01-01 00:00:00|    0|\n",
      "|NAZ439-03|1F.FQE10|               TUWB|2023-01-31 22:52:24|          0|    N1|AFPNM301N.0A01|NAZ439000|       0.00814539|     null|     null|      null|           null|         null|         null|      null|     null|     null|     null|     null|     null|     null|     null|     null|     null|      null|      null|      null|      null|      null|      null|      null|      null|      null|      null|      null|      null|      null|      null|      null|      null|      null|      null|      null|      null|      null|      null|      null|      null|      null|      null|      null|      null|      null|      null|      null|      null|      null|      null|      null|      null|      null|      null|      null|      null|      null|2.0230131000211E13|             Y|    null|       QEK01|   null|               null|                 null|                 null|                 null|                 null|                 null|                 null|                 null|                 null|                 null|                  null|                  null|                  null|                  null|                  null|                  null|                  null|                  null|                  null|                  null|                  null|                  null|                  null|                  null|                  null|                  null|                  null|                  null|                  null|                  null|                  null|                  null|                  null|                  null|                  null|                  null|                  null|                  null|                  null|                  null|                  null|                  null|                  null|                  null|                  null|                  null|                  null|                  null|                  null|                  null|                  null|       null|     Wafer|         0.0|         0.0|        0.0|      0.0|     0.0|       0.0|      0.0|null|        N|             null|    null|2023-05-29 06:00:43|           0|1970-01-01 00:00:00|           0|         null|       EDA|INLINE_WAFER_SUMMARY|1970-01-01 00:00:00|    0|\n",
      "|NAZ703-08|1C.CDG10|               CIW0|2023-03-16 03:40:42|          0|    N1|AFPNM301N.0B01|NAZ703000|             null|     null|     null|      null|           null|         null|         null|      null|     null|     null|     null|     null|     null|     null|     null|     null|     null|      null|      null|      null|      null|      null|      null|      null|      null|      null|      null|      null|      null|      null|      null|      null|      null|      null|      null|      null|      null|      null|      null|      null|      null|      null|      null|      null|      null|      null|      null|      null|      null|      null|      null|      null|      null|      null|      null|      null|      null|      null|              null|             N|      C2|       DGA01|   null|               null|                 null|                 null|                 null|                 null|                 null|                 null|                 null|                 null|                 null|                  null|                  null|                  null|                  null|                  null|                  null|                  null|                  null|                  null|                  null|                  null|                  null|                  null|                  null|                  null|                  null|                  null|                  null|                  null|                  null|                  null|                  null|                  null|                  null|                  null|                  null|                  null|                  null|                  null|                  null|                  null|                  null|                  null|                  null|                  null|                  null|                  null|                  null|                  null|                  null|                  null|       null|     Wafer|         0.0|         0.0|        0.0|      0.0|     0.0|       0.0|      0.0|null|        T|             null|    null|2023-05-29 07:11:02|           0|1970-01-01 00:00:00|           0|         null|       EDA|INLINE_WAFER_SUMMARY|1970-01-01 00:00:00|    1|\n",
      "|NAZ703-08|1C.CDG10|               EEW0|2023-03-16 03:40:42|          0|    N1|AFPNM301N.0B01|NAZ703000|      3999.795302|     null|     null|      null|           null|         null|         null|      null|     null|     null|     null|     null|     null|     null|     null|     null|     null|      null|      null|      null|      null|      null|      null|      null|      null|      null|      null|      null|      null|      null|      null|      null|      null|      null|      null|      null|      null|      null|      null|      null|      null|      null|      null|      null|      null|      null|      null|      null|      null|      null|      null|      null|      null|      null|      null|      null|      null|      null|              null|             N|    null|       DGA01|   null|               null|                 null|                 null|                 null|                 null|                 null|                 null|                 null|                 null|                 null|                  null|                  null|                  null|                  null|                  null|                  null|                  null|                  null|                  null|                  null|                  null|                  null|                  null|                  null|                  null|                  null|                  null|                  null|                  null|                  null|                  null|                  null|                  null|                  null|                  null|                  null|                  null|                  null|                  null|                  null|                  null|                  null|                  null|                  null|                  null|                  null|                  null|                  null|                  null|                  null|                  null|       null|     Wafer|         0.0|         0.0|        0.0|      0.0|     0.0|       0.0|      0.0|null|        N|             null|    null|2023-05-29 07:11:02|           0|1970-01-01 00:00:00|           0|         null|       EDA|INLINE_WAFER_SUMMARY|1970-01-01 00:00:00|    1|\n",
      "|NAZ703-08|1C.CDG10|               FEW0|2023-03-16 03:40:42|          0|    N1|AFPNM301N.0B01|NAZ703000|     123.30957013|     null|     null|      null|           null|         null|         null|      null|     null|     null|     null|     null|     null|     null|     null|     null|     null|      null|      null|      null|      null|      null|      null|      null|      null|      null|      null|      null|      null|      null|      null|      null|      null|      null|      null|      null|      null|      null|      null|      null|      null|      null|      null|      null|      null|      null|      null|      null|      null|      null|      null|      null|      null|      null|      null|      null|      null|      null|              null|             N|    null|       DGA01|   null|               null|                 null|                 null|                 null|                 null|                 null|                 null|                 null|                 null|                 null|                  null|                  null|                  null|                  null|                  null|                  null|                  null|                  null|                  null|                  null|                  null|                  null|                  null|                  null|                  null|                  null|                  null|                  null|                  null|                  null|                  null|                  null|                  null|                  null|                  null|                  null|                  null|                  null|                  null|                  null|                  null|                  null|                  null|                  null|                  null|                  null|                  null|                  null|                  null|                  null|                  null|       null|     Wafer|         0.0|         0.0|        0.0|      0.0|     0.0|       0.0|      0.0|null|        N|             null|    null|2023-05-29 07:11:02|           0|1970-01-01 00:00:00|           0|         null|       EDA|INLINE_WAFER_SUMMARY|1970-01-01 00:00:00|    1|\n",
      "|NAZ703-08|1C.CDG10|               HFT0|2023-03-16 03:40:42|          0|    N1|AFPNM301N.0B01|NAZ703000|           44.599|     null|     null|      null|           null|         null|         null|      null|     null|     null|     null|     null|     null|     null|     null|     null|     null|      null|      null|      null|      null|      null|      null|      null|      null|      null|      null|      null|      null|      null|      null|      null|      null|      null|      null|      null|      null|      null|      null|      null|      null|      null|      null|      null|      null|      null|      null|      null|      null|      null|      null|      null|      null|      null|      null|      null|      null|      null|              null|             N|    null|       DGA01|   null|               null|                 null|                 null|                 null|                 null|                 null|                 null|                 null|                 null|                 null|                  null|                  null|                  null|                  null|                  null|                  null|                  null|                  null|                  null|                  null|                  null|                  null|                  null|                  null|                  null|                  null|                  null|                  null|                  null|                  null|                  null|                  null|                  null|                  null|                  null|                  null|                  null|                  null|                  null|                  null|                  null|                  null|                  null|                  null|                  null|                  null|                  null|                  null|                  null|                  null|                  null|       null|     Wafer|         0.0|         0.0|        0.0|      0.0|     0.0|       0.0|      0.0|null|        N|             null|    null|2023-05-29 07:11:02|           0|1970-01-01 00:00:00|           0|         null|       EDA|INLINE_WAFER_SUMMARY|1970-01-01 00:00:00|    1|\n",
      "|NAZ703-08|1C.CDG10|               OEW0|2023-03-16 03:40:42|          0|    N1|AFPNM301N.0B01|NAZ703000|     5999.4883668|     null|     null|      null|           null|         null|         null|      null|     null|     null|     null|     null|     null|     null|     null|     null|     null|      null|      null|      null|      null|      null|      null|      null|      null|      null|      null|      null|      null|      null|      null|      null|      null|      null|      null|      null|      null|      null|      null|      null|      null|      null|      null|      null|      null|      null|      null|      null|      null|      null|      null|      null|      null|      null|      null|      null|      null|      null|              null|             N|    null|       DGA01|   null|               null|                 null|                 null|                 null|                 null|                 null|                 null|                 null|                 null|                 null|                  null|                  null|                  null|                  null|                  null|                  null|                  null|                  null|                  null|                  null|                  null|                  null|                  null|                  null|                  null|                  null|                  null|                  null|                  null|                  null|                  null|                  null|                  null|                  null|                  null|                  null|                  null|                  null|                  null|                  null|                  null|                  null|                  null|                  null|                  null|                  null|                  null|                  null|                  null|                  null|                  null|       null|     Wafer|         0.0|         0.0|        0.0|      0.0|     0.0|       0.0|      0.0|null|        N|             null|    null|2023-05-29 07:11:02|           0|1970-01-01 00:00:00|           0|         null|       EDA|INLINE_WAFER_SUMMARY|1970-01-01 00:00:00|    1|\n",
      "|NAZ703-08|1C.CDG10|               PEW0|2023-03-16 03:40:42|          0|    N1|AFPNM301N.0B01|NAZ703000|      6.999991567|     null|     null|      null|           null|         null|         null|      null|     null|     null|     null|     null|     null|     null|     null|     null|     null|      null|      null|      null|      null|      null|      null|      null|      null|      null|      null|      null|      null|      null|      null|      null|      null|      null|      null|      null|      null|      null|      null|      null|      null|      null|      null|      null|      null|      null|      null|      null|      null|      null|      null|      null|      null|      null|      null|      null|      null|      null|              null|             N|    null|       DGA01|   null|               null|                 null|                 null|                 null|                 null|                 null|                 null|                 null|                 null|                 null|                  null|                  null|                  null|                  null|                  null|                  null|                  null|                  null|                  null|                  null|                  null|                  null|                  null|                  null|                  null|                  null|                  null|                  null|                  null|                  null|                  null|                  null|                  null|                  null|                  null|                  null|                  null|                  null|                  null|                  null|                  null|                  null|                  null|                  null|                  null|                  null|                  null|                  null|                  null|                  null|                  null|       null|     Wafer|         0.0|         0.0|        0.0|      0.0|     0.0|       0.0|      0.0|null|        N|             null|    null|2023-05-29 07:11:02|           0|1970-01-01 00:00:00|           0|         null|       EDA|INLINE_WAFER_SUMMARY|1970-01-01 00:00:00|    1|\n",
      "|NAZ703-08|1C.CDG10|               PTW0|2023-03-16 03:40:42|          0|    N1|AFPNM301N.0B01|NAZ703000|          44799.0|     null|     null|      null|           null|         null|         null|      null|     null|     null|     null|     null|     null|     null|     null|     null|     null|      null|      null|      null|      null|      null|      null|      null|      null|      null|      null|      null|      null|      null|      null|      null|      null|      null|      null|      null|      null|      null|      null|      null|      null|      null|      null|      null|      null|      null|      null|      null|      null|      null|      null|      null|      null|      null|      null|      null|      null|      null|              null|             N|    null|       DGA01|   null|               null|                 null|                 null|                 null|                 null|                 null|                 null|                 null|                 null|                 null|                  null|                  null|                  null|                  null|                  null|                  null|                  null|                  null|                  null|                  null|                  null|                  null|                  null|                  null|                  null|                  null|                  null|                  null|                  null|                  null|                  null|                  null|                  null|                  null|                  null|                  null|                  null|                  null|                  null|                  null|                  null|                  null|                  null|                  null|                  null|                  null|                  null|                  null|                  null|                  null|                  null|       null|     Wafer|         0.0|         0.0|        0.0|      0.0|     0.0|       0.0|      0.0|null|        N|             null|    null|2023-05-29 07:11:02|           0|1970-01-01 00:00:00|           0|         null|       EDA|INLINE_WAFER_SUMMARY|1970-01-01 00:00:00|    1|\n",
      "+---------+--------+-------------------+-------------------+-----------+------+--------------+---------+-----------------+---------+---------+----------+---------------+-------------+-------------+----------+---------+---------+---------+---------+---------+---------+---------+---------+---------+----------+----------+----------+----------+----------+----------+----------+----------+----------+----------+----------+----------+----------+----------+----------+----------+----------+----------+----------+----------+----------+----------+----------+----------+----------+----------+----------+----------+----------+----------+----------+----------+----------+----------+----------+----------+----------+----------+----------+----------+----------+------------------+--------------+--------+------------+-------+-------------------+---------------------+---------------------+---------------------+---------------------+---------------------+---------------------+---------------------+---------------------+---------------------+----------------------+----------------------+----------------------+----------------------+----------------------+----------------------+----------------------+----------------------+----------------------+----------------------+----------------------+----------------------+----------------------+----------------------+----------------------+----------------------+----------------------+----------------------+----------------------+----------------------+----------------------+----------------------+----------------------+----------------------+----------------------+----------------------+----------------------+----------------------+----------------------+----------------------+----------------------+----------------------+----------------------+----------------------+----------------------+----------------------+----------------------+----------------------+----------------------+----------------------+----------------------+-----------+----------+------------+------------+-----------+---------+--------+----------+---------+----+---------+-----------------+--------+-------------------+------------+-------------------+------------+-------------+----------+--------------------+-------------------+-----+\n",
      "only showing top 20 rows\n",
      "\n"
     ]
    }
   ],
   "source": [
    "df_pandas = pd.read_csv(\n",
    "    \"D:/Jupyterfiles/晶合MVAFDC_general开发/MVAanlysisDevelop/inline_algorithm/inline_case5_label.csv\")\n",
    "df_pandas = df_pandas[\n",
    "    df_pandas['OPE_NO'].isin(['1V.EQW10', '1V.PQW10', '1F.FQE10', '1C.CDG10', '1U.EQW10', '1U.PQW10'])]\n",
    "df_spark = ps.from_pandas(df_pandas).to_spark()\n",
    "df_spark = df_spark.withColumnRenamed('OPE_NO', 'OPER_NO')\n",
    "print(f\"df_spark shape: ({df_spark.count()}, {len(df_spark.columns)})\")\n",
    "df_spark.show()"
   ]
  },
  {
   "cell_type": "code",
   "execution_count": 82,
   "id": "6a935190",
   "metadata": {},
   "outputs": [
    {
     "data": {
      "text/plain": [
       "OPE_NO\n",
       "1C.CDG10     11\n",
       "1F.FQE10     15\n",
       "1U.EQW10     97\n",
       "1U.PQW10     74\n",
       "1V.EQW10    117\n",
       "1V.PQW10    270\n",
       "Name: INLINE_PARAMETER_ID, dtype: int64"
      ]
     },
     "execution_count": 82,
     "metadata": {},
     "output_type": "execute_result"
    }
   ],
   "source": [
    "df_pandas.groupby('OPE_NO')['INLINE_PARAMETER_ID'].nunique()"
   ]
  },
  {
   "cell_type": "code",
   "execution_count": 38,
   "id": "0e9885fa",
   "metadata": {},
   "outputs": [
    {
     "data": {
      "text/plain": [
       "584"
      ]
     },
     "execution_count": 38,
     "metadata": {},
     "output_type": "execute_result"
    }
   ],
   "source": [
    "sum(df_pandas.groupby('OPE_NO')['INLINE_PARAMETER_ID'].nunique())"
   ]
  },
  {
   "cell_type": "code",
   "execution_count": 141,
   "id": "fde96b07",
   "metadata": {
    "scrolled": true
   },
   "outputs": [
    {
     "data": {
      "text/plain": [
       "97"
      ]
     },
     "execution_count": 141,
     "metadata": {},
     "output_type": "execute_result"
    }
   ],
   "source": [
    "set1 = (set(df_pandas[df_pandas['OPE_NO'] == '1U.EQW10']['INLINE_PARAMETER_ID'].values))\n",
    "len(set1)"
   ]
  },
  {
   "cell_type": "code",
   "execution_count": 144,
   "id": "8b3fd0ea",
   "metadata": {},
   "outputs": [
    {
     "data": {
      "text/plain": [
       "74"
      ]
     },
     "execution_count": 144,
     "metadata": {},
     "output_type": "execute_result"
    }
   ],
   "source": [
    "set2 = (set(df_pandas[df_pandas['OPE_NO'] == '1U.PQW10']['INLINE_PARAMETER_ID'].values))\n",
    "len(set2)"
   ]
  },
  {
   "cell_type": "code",
   "execution_count": 146,
   "id": "5bc9c29e",
   "metadata": {},
   "outputs": [
    {
     "data": {
      "text/plain": [
       "74"
      ]
     },
     "execution_count": 146,
     "metadata": {},
     "output_type": "execute_result"
    }
   ],
   "source": [
    "len(set1.intersection(set2))"
   ]
  },
  {
   "cell_type": "code",
   "execution_count": 37,
   "id": "61e2d614",
   "metadata": {},
   "outputs": [],
   "source": [
    "# grouped = df_pandas.groupby('OPE_NO')['INLINE_PARAMETER_ID']\n",
    "# unique_values_within_groups = grouped.apply(lambda x: x.drop_duplicates()).reset_index(drop=False)\n",
    "# unique_values_within_groups = unique_values_within_groups[['OPE_NO', 'INLINE_PARAMETER_ID']]\n",
    "# # unique_values_within_groups\n",
    "\n",
    "# len(unique_values_within_groups[unique_values_within_groups['OPE_NO'] == '1U.EQW10'])"
   ]
  },
  {
   "cell_type": "code",
   "execution_count": 128,
   "id": "afba78e2",
   "metadata": {
    "scrolled": true
   },
   "outputs": [],
   "source": [
    "# grouped = df_spark.groupby('OPER_NO').agg(collect_set('INLINE_PARAMETER_ID').alias('unique_values'))\n",
    "# exploded = grouped.select(col('OPER_NO'), explode(col('unique_values')).alias('INLINE_PARAMETER_ID'))\n",
    "# unique_params_within_groups = exploded.dropDuplicates()\n",
    "# unique_params_within_groups.show()"
   ]
  },
  {
   "cell_type": "code",
   "execution_count": null,
   "id": "c45404a3",
   "metadata": {},
   "outputs": [],
   "source": []
  },
  {
   "cell_type": "code",
   "execution_count": 123,
   "id": "2e30e115",
   "metadata": {},
   "outputs": [],
   "source": [
    "json_loads_dict = {\"requestId\": \"269\",\n",
    "                   \"algorithm\": \"inline_by_wafer\",\n",
    "                   \"requestParam\": {\"dateRange\": {\"start\": \"2021-12-06 19:50:49\", \"end\": \"2024-03-06 19:50:49\"},\n",
    "                                    \"operNo\": [],\n",
    "                                    \"uploadId\": \"84f6a2b46a5443ec9797347424402058\",\n",
    "                                    \"flagMergeAllProdg1\": \"0\",\n",
    "                                    \"flagMergeAllProductId\": \"0\",\n",
    "                                    \"flagMergeAllChamber\": \"0\",\n",
    "                                    \"mergeProdg1\": [],\n",
    "                                    \"mergeProductId\": [],\n",
    "                                    \"mergeEqp\": [],\n",
    "                                    \"mergeChamber\": [],\n",
    "\n",
    "                                    \"mergeOperno\": [{\"1F.FQE10,1C.CDG10\": [\"1F.FQE10\", \"1C.CDG10\"]},\n",
    "                                                    {\"1U.EQW10_1U.PQW10\": [\"1U.EQW10\", \"1U.PQW10\"]}],\n",
    "\n",
    "#                                     \"mergeOperno\": None\n",
    "                                    }\n",
    "                   }\n",
    "\n",
    "df_ = pd.DataFrame({\"requestId\": [json_loads_dict[\"requestId\"]],\n",
    "                    \"requestParam\": [json.dumps(json_loads_dict[\"requestParam\"])]})\n",
    "\n",
    "request_id_ = df_[\"requestId\"].values[0]\n",
    "request_params = df_[\"requestParam\"].values[0]\n",
    "parse_dict = json.loads(request_params)\n",
    "\n",
    "merge_operno = list(parse_dict.get('mergeOperno')) if parse_dict.get('mergeOperno') else None\n",
    "merge_prodg1 = list(parse_dict.get('mergeProdg1')) if parse_dict.get('mergeProdg1') else None\n",
    "merge_product = list(parse_dict.get('mergeProductId')) if parse_dict.get('mergeProductId') else None"
   ]
  },
  {
   "cell_type": "code",
   "execution_count": 150,
   "id": "76722994",
   "metadata": {},
   "outputs": [],
   "source": [
    "class DataPreprocessorForInline:\n",
    "    def __init__(self,\n",
    "                 df: pyspark.sql.dataframe,\n",
    "                 columns_list: list[str],\n",
    "                 certain_column: str,\n",
    "                 key_words: list[str],\n",
    "                 convert_to_numeric_list: list[str],\n",
    "                 merge_operno_list: List[Dict[str, List[str]]],\n",
    "                 merge_prodg1_list: List[Dict[str, List[str]]],\n",
    "                 merge_product_list: List[Dict[str, List[str]]]\n",
    "                 ):\n",
    "        self.df = df\n",
    "        self.columns_list = columns_list\n",
    "        self.certain_column = certain_column\n",
    "        self.key_words = key_words\n",
    "        self.convert_to_numeric_list = convert_to_numeric_list\n",
    "        self.merge_operno_list = merge_operno_list\n",
    "        self.merge_prodg1_list = merge_prodg1_list\n",
    "        self.merge_product_list = merge_product_list\n",
    "\n",
    "    @staticmethod\n",
    "    def select_columns(df: pyspark.sql.dataframe, columns_list: list[str]) -> pyspark.sql.dataframe:\n",
    "        return df.select(columns_list)\n",
    "\n",
    "    @staticmethod\n",
    "    def exclude_some_data(df: pyspark.sql.dataframe, key_words: list[str],\n",
    "                          certain_column: str) -> pyspark.sql.dataframe:\n",
    "        key_words_str = '|'.join(key_words)\n",
    "        df_filtered = df.filter(~col(certain_column).rlike(key_words_str))\n",
    "        return df_filtered\n",
    "\n",
    "    @staticmethod\n",
    "    def pre_process(df: pyspark.sql.dataframe, convert_to_numeric_list: list[str]) -> pyspark.sql.dataframe:\n",
    "        for column in convert_to_numeric_list:\n",
    "            df = df.withColumn(column, col(column).cast('double'))\n",
    "        if 'SITE_COUNT' in convert_to_numeric_list:\n",
    "            convert_to_numeric_list.remove('SITE_COUNT')\n",
    "        df = df.dropna(subset=convert_to_numeric_list, how='all')\n",
    "        return df\n",
    "\n",
    "    @staticmethod\n",
    "    def integrate_columns(df: pyspark.sql.dataframe,\n",
    "                          merge_operno_list: List[Dict[str, List[str]]],\n",
    "                          merge_prodg1_list: List[Dict[str, List[str]]],\n",
    "                          merge_product_list: List[Dict[str, List[str]]]) -> pyspark.sql.dataframe:\n",
    "        \"\"\"\n",
    "        Integrate columns in the DataFrame based on the provided list.\n",
    "\n",
    "        :param df: The input DataFrame.\n",
    "        :param merge_operno_list: A list of dictionaries where each dictionary contains values to be merged.\n",
    "               Example: [{'2F.CDS10_XX.TDS01': ['2F.CDS10', 'XX.TDS01']},\n",
    "                         {'2F.CDS20_XX.CDS20': ['2F.CDS20', 'XX.CDS20']}]\n",
    "        :param merge_prodg1_list: A list of dictionaries for merging 'PRODG1' column in a similar fashion.\n",
    "        :param merge_product_list: A list of dictionaries for merging 'PRODUCT_ID' column in a similar fashion.\n",
    "\n",
    "        :return: DataFrame with 'OPER_NO' and other specified columns integrated according to the merge rules.\n",
    "        \"\"\"\n",
    "        df_merged = DataPreprocessorForInline.integrate_single_column(df, merge_operno_list, 'OPER_NO')\n",
    "        df_merged = DataPreprocessorForInline.integrate_single_column(df_merged, merge_prodg1_list, 'PRODG1')\n",
    "        df_merged = DataPreprocessorForInline.integrate_single_column(df_merged, merge_product_list, 'PRODUCT_ID')\n",
    "        return df_merged\n",
    "\n",
    "    @staticmethod\n",
    "    def integrate_single_column(df: pyspark.sql.dataframe,\n",
    "                                merge_list: List[Dict[str, List[str]]],\n",
    "                                column_name: str) -> pyspark.sql.dataframe:\n",
    "        \"\"\"\n",
    "        Integrate columns in the DataFrame based on the provided list.\n",
    "\n",
    "        :param df: The input DataFrame.\n",
    "        :param merge_list: A list of dictionaries where each dictionary contains values to be merged.\n",
    "        :param column_name: The name of the column to be merged.\n",
    "\n",
    "        :return: DataFrame with specified column integrated according to the merge rules.\n",
    "        \"\"\"\n",
    "        splitter_comma = \",\"\n",
    "        if merge_list is not None and len(merge_list) > 0:\n",
    "            values_to_replace = [list(rule.values())[0] for rule in merge_list]\n",
    "            merged_values = [splitter_comma.join(list(rule.values())[0]) for rule in merge_list]\n",
    "\n",
    "            for values, replacement_value in zip(values_to_replace, merged_values):\n",
    "                df = df.withColumn(column_name,\n",
    "                                   when(col(column_name).isin(values), replacement_value).otherwise(col(column_name)))\n",
    "        return df\n",
    "\n",
    "    def run(self) -> pyspark.sql.dataframe:\n",
    "        df_select = self.select_columns(df=self.df, columns_list=self.columns_list)\n",
    "        df_esd = self.exclude_some_data(df=df_select, key_words=self.key_words, certain_column=self.certain_column)\n",
    "        df_pp = self.pre_process(df=df_esd, convert_to_numeric_list=self.convert_to_numeric_list)\n",
    "        df_integrate = self.integrate_columns(df=df_pp,\n",
    "                                              merge_operno_list=self.merge_operno_list,\n",
    "                                              merge_prodg1_list=self.merge_prodg1_list,\n",
    "                                              merge_product_list=self.merge_product_list)\n",
    "        df_original = self.integrate_columns(df=self.df, \n",
    "                                              merge_operno_list=self.merge_operno_list,\n",
    "                                              merge_prodg1_list=self.merge_prodg1_list,\n",
    "                                              merge_product_list=self.merge_product_list)\n",
    "        return df_integrate, df_original\n",
    "    \n",
    "\n",
    "class GetTrainDataForInline:\n",
    "    def __init__(self, df: pyspark.sql.dataframe, grpby_list: list[str]):\n",
    "        \"\"\"\n",
    "        Initialize the GetTrainDataForInline class.\n",
    "\n",
    "        Parameters:\n",
    "        - df (pyspark.sql.dataframe): Input DataFrame.\n",
    "        - grpby_list (list): List of grouping columns.\n",
    "\n",
    "        This class is designed to perform commonality analysis and retrieve training data based on the\n",
    "        condition \"bad_num >= 1 AND good_num >= 1\" in each grpby_list, i.e. each OPE_NO for inline data.\n",
    "        \"\"\"\n",
    "        self.df_run = df\n",
    "        self.grpby_list = grpby_list\n",
    "\n",
    "    @staticmethod\n",
    "    def commonality_analysis(df_run: pyspark.sql.dataframe, grpby_list: list[str]) -> pyspark.sql.dataframe:\n",
    "        grps_all = (df_run.groupBy(grpby_list)\n",
    "                    .agg(countDistinct('WAFER_ID', when(df_run['label'] == 0, 1)).alias('good_num'),\n",
    "                         countDistinct('WAFER_ID', when(df_run['label'] == 1, 1)).alias('bad_num'))\n",
    "                    .na.fill(0))\n",
    "        grps_all = grps_all.withColumn(\"conditions_satisfied\",\n",
    "                                       when((col('good_num') >= 2) & (col('bad_num') >= 6), True).otherwise(False))\n",
    "        grps = grps_all.filter(\"good_num >= 2 AND bad_num >= 6\")\n",
    "        return grps_all, grps\n",
    "\n",
    "    @staticmethod\n",
    "    def get_data_list(common_res: pyspark.sql.dataframe, grpby_list: list[str]) -> List[Dict[str, str]]:\n",
    "        data_list = common_res.select(grpby_list).collect()\n",
    "        data_dict_list = [row.asDict() for row in data_list]\n",
    "        return data_dict_list\n",
    "\n",
    "    @staticmethod\n",
    "    def get_train_data(df_run: pyspark.sql.dataframe, data_dict_list: List[Dict[str, str]]) -> pyspark.sql.dataframe:\n",
    "        first_data_dict = data_dict_list[0]\n",
    "        conditions = \" AND \".join([\"{} == '{}'\".format(col_, first_data_dict[col_]) for col_ in first_data_dict])\n",
    "        df_s = df_run.filter(conditions)\n",
    "        for i in range(1, len(data_dict_list)):\n",
    "            data_dict = data_dict_list[i]\n",
    "            conditions = \" AND \".join([\"{} == '{}'\".format(col_, data_dict[col_]) for col_ in data_dict])\n",
    "            df_m = df_run.filter(conditions)\n",
    "            df_s = df_s.union(df_m)\n",
    "        return df_s\n",
    "    \n",
    "    def run(self) -> pyspark.sql.dataframe:\n",
    "        grps_all, grps = self.commonality_analysis(df_run=self.df_run, grpby_list=self.grpby_list)\n",
    "        conditions_not_satisfied = grps_all.filter(\"conditions_satisfied==False\").select(self.grpby_list + [\"good_num\", 'bad_num'])\n",
    "#         parametric_for_unsatisfied_conditions = conditions_not_satisfied.join(self.df_run.select(self.grpby_list + ['INLINE_PARAMETER_ID']), self.grpby_list, \"left\").dropDuplicates()\n",
    "        \n",
    "        if grps.isEmpty():\n",
    "            msg = f\"按照{'+'.join(self.grpby_list)}分组后的数据, 没有组合满足条件good >= 1且bad >= 1, 无法进行分析.\"\n",
    "            raise RCABaseException(msg)\n",
    "\n",
    "        if grps_all.count() == grps.count():\n",
    "            return grps_all, self.df_run\n",
    "        else:\n",
    "            data_dict_list = self.get_data_list(common_res=grps, grpby_list=self.grpby_list)\n",
    "            train_data = self.get_train_data(df_run=self.df_run, data_dict_list=data_dict_list)\n",
    "            return grps_all, train_data"
   ]
  },
  {
   "cell_type": "code",
   "execution_count": 151,
   "id": "02b0acb2",
   "metadata": {
    "scrolled": true
   },
   "outputs": [
    {
     "name": "stdout",
     "output_type": "stream",
     "text": [
      "df_preprocess shape: (2433, 12)\n",
      "+-----------------+---------+-------------------+----------------+--------+--------+--------+--------------+-------------+-------------+----------+-----+\n",
      "|          OPER_NO| WAFER_ID|INLINE_PARAMETER_ID|         AVERAGE| MAX_VAL|  MEDIAN| MIN_VAL|       STD_DEV|PERCENTILE_25|PERCENTILE_75|SITE_COUNT|label|\n",
      "+-----------------+---------+-------------------+----------------+--------+--------+--------+--------------+-------------+-------------+----------+-----+\n",
      "|1F.FQE10,1C.CDG10|NAZ439-03|               TAW1|        109.2519|    null|    null|    null|          null|         null|         null|      null|    0|\n",
      "|1F.FQE10,1C.CDG10|NAZ439-03|               TAWB|        109.2519|    null|    null|    null|          null|         null|         null|      null|    0|\n",
      "|1F.FQE10,1C.CDG10|NAZ439-03|               TDS0|        108.4117|108.4117|108.4117|108.4117|           0.0|     108.4117|     108.4117|       1.0|    0|\n",
      "|1F.FQE10,1C.CDG10|NAZ439-03|               TDS1|109.251923529412|110.1915|109.1703|108.4117|0.547565949829|     108.8124|     109.7011|      17.0|    0|\n",
      "|1F.FQE10,1C.CDG10|NAZ439-03|               THW1|        110.1915|    null|    null|    null|          null|         null|         null|      null|    0|\n",
      "|1F.FQE10,1C.CDG10|NAZ439-03|               TLW1|        108.4117|    null|    null|    null|          null|         null|         null|      null|    0|\n",
      "|1F.FQE10,1C.CDG10|NAZ439-03|               TRW1|    1.7797851562|    null|    null|    null|          null|         null|         null|      null|    0|\n",
      "|1F.FQE10,1C.CDG10|NAZ439-03|               TUW1|      0.00814539|    null|    null|    null|          null|         null|         null|      null|    0|\n",
      "|1F.FQE10,1C.CDG10|NAZ439-03|               TUW9|    0.0081453264|    null|    null|    null|          null|         null|         null|      null|    0|\n",
      "|1F.FQE10,1C.CDG10|NAZ439-03|               TUWB|      0.00814539|    null|    null|    null|          null|         null|         null|      null|    0|\n",
      "|1F.FQE10,1C.CDG10|NAZ703-08|               EEW0|     3999.795302|    null|    null|    null|          null|         null|         null|      null|    1|\n",
      "|1F.FQE10,1C.CDG10|NAZ703-08|               FEW0|    123.30957013|    null|    null|    null|          null|         null|         null|      null|    1|\n",
      "|1F.FQE10,1C.CDG10|NAZ703-08|               HFT0|          44.599|    null|    null|    null|          null|         null|         null|      null|    1|\n",
      "|1F.FQE10,1C.CDG10|NAZ703-08|               OEW0|    5999.4883668|    null|    null|    null|          null|         null|         null|      null|    1|\n",
      "|1F.FQE10,1C.CDG10|NAZ703-08|               PEW0|     6.999991567|    null|    null|    null|          null|         null|         null|      null|    1|\n",
      "|1F.FQE10,1C.CDG10|NAZ703-08|               PTW0|         44799.0|    null|    null|    null|          null|         null|         null|      null|    1|\n",
      "|1F.FQE10,1C.CDG10|NAZ703-08|               REW0|    200.38712143|    null|    null|    null|          null|         null|         null|      null|    1|\n",
      "|1F.FQE10,1C.CDG10|NAZ703-08|               SEW0|     1.299865548|    null|    null|    null|          null|         null|         null|      null|    1|\n",
      "|1F.FQE10,1C.CDG10|NAZ703-08|               SFW0|             4.0|    null|    null|    null|          null|         null|         null|      null|    1|\n",
      "|1F.FQE10,1C.CDG10|NAZ703-08|               TSW0|    350.28791946|    null|    null|    null|          null|         null|         null|      null|    1|\n",
      "+-----------------+---------+-------------------+----------------+--------+--------+--------+--------------+-------------+-------------+----------+-----+\n",
      "only showing top 20 rows\n",
      "\n",
      "df_original shape: (2461, 144)\n",
      "+---------+-----------------+-------------------+-------------------+-----------+------+--------------+---------+-----------------+---------+---------+----------+---------------+-------------+-------------+----------+---------+---------+---------+---------+---------+---------+---------+---------+---------+----------+----------+----------+----------+----------+----------+----------+----------+----------+----------+----------+----------+----------+----------+----------+----------+----------+----------+----------+----------+----------+----------+----------+----------+----------+----------+----------+----------+----------+----------+----------+----------+----------+----------+----------+----------+----------+----------+----------+----------+----------+------------------+--------------+--------+------------+-------+-------------------+---------------------+---------------------+---------------------+---------------------+---------------------+---------------------+---------------------+---------------------+---------------------+----------------------+----------------------+----------------------+----------------------+----------------------+----------------------+----------------------+----------------------+----------------------+----------------------+----------------------+----------------------+----------------------+----------------------+----------------------+----------------------+----------------------+----------------------+----------------------+----------------------+----------------------+----------------------+----------------------+----------------------+----------------------+----------------------+----------------------+----------------------+----------------------+----------------------+----------------------+----------------------+----------------------+----------------------+----------------------+----------------------+----------------------+----------------------+----------------------+----------------------+----------------------+-----------+----------+------------+------------+-----------+---------+--------+----------+---------+----+---------+-----------------+--------+-------------------+------------+-------------------+------------+-------------+----------+--------------------+-------------------+-----+\n",
      "| WAFER_ID|          OPER_NO|INLINE_PARAMETER_ID|       MEASURE_TIME|RANGE_INDEX|FAB_ID|    PRODUCT_ID|   LOT_ID|          AVERAGE|  MAX_VAL|   MEDIAN|   MIN_VAL|        STD_DEV|PERCENTILE_25|PERCENTILE_75|SITE_COUNT|SITE1_VAL|SITE2_VAL|SITE3_VAL|SITE4_VAL|SITE5_VAL|SITE6_VAL|SITE7_VAL|SITE8_VAL|SITE9_VAL|SITE10_VAL|SITE11_VAL|SITE12_VAL|SITE13_VAL|SITE14_VAL|SITE15_VAL|SITE16_VAL|SITE17_VAL|SITE18_VAL|SITE19_VAL|SITE20_VAL|SITE21_VAL|SITE22_VAL|SITE23_VAL|SITE24_VAL|SITE25_VAL|SITE26_VAL|SITE27_VAL|SITE28_VAL|SITE29_VAL|SITE30_VAL|SITE31_VAL|SITE32_VAL|SITE33_VAL|SITE34_VAL|SITE35_VAL|SITE36_VAL|SITE37_VAL|SITE38_VAL|SITE39_VAL|SITE40_VAL|SITE41_VAL|SITE42_VAL|SITE43_VAL|SITE44_VAL|SITE45_VAL|SITE46_VAL|SITE47_VAL|SITE48_VAL|SITE49_VAL|SITE50_VAL|          BATCH_ID|DUPLICATE_FLAG|TEXT_VAL|EQUIPMENT_ID|CHAMBER|AVG_SPEC_CHK_RESULT|SITE1_SPEC_CHK_RESULT|SITE2_SPEC_CHK_RESULT|SITE3_SPEC_CHK_RESULT|SITE4_SPEC_CHK_RESULT|SITE5_SPEC_CHK_RESULT|SITE6_SPEC_CHK_RESULT|SITE7_SPEC_CHK_RESULT|SITE8_SPEC_CHK_RESULT|SITE9_SPEC_CHK_RESULT|SITE10_SPEC_CHK_RESULT|SITE11_SPEC_CHK_RESULT|SITE12_SPEC_CHK_RESULT|SITE13_SPEC_CHK_RESULT|SITE14_SPEC_CHK_RESULT|SITE15_SPEC_CHK_RESULT|SITE16_SPEC_CHK_RESULT|SITE17_SPEC_CHK_RESULT|SITE18_SPEC_CHK_RESULT|SITE19_SPEC_CHK_RESULT|SITE20_SPEC_CHK_RESULT|SITE21_SPEC_CHK_RESULT|SITE22_SPEC_CHK_RESULT|SITE23_SPEC_CHK_RESULT|SITE24_SPEC_CHK_RESULT|SITE25_SPEC_CHK_RESULT|SITE26_SPEC_CHK_RESULT|SITE27_SPEC_CHK_RESULT|SITE28_SPEC_CHK_RESULT|SITE29_SPEC_CHK_RESULT|SITE30_SPEC_CHK_RESULT|SITE31_SPEC_CHK_RESULT|SITE32_SPEC_CHK_RESULT|SITE33_SPEC_CHK_RESULT|SITE34_SPEC_CHK_RESULT|SITE35_SPEC_CHK_RESULT|SITE36_SPEC_CHK_RESULT|SITE37_SPEC_CHK_RESULT|SITE38_SPEC_CHK_RESULT|SITE39_SPEC_CHK_RESULT|SITE40_SPEC_CHK_RESULT|SITE41_SPEC_CHK_RESULT|SITE42_SPEC_CHK_RESULT|SITE43_SPEC_CHK_RESULT|SITE44_SPEC_CHK_RESULT|SITE45_SPEC_CHK_RESULT|SITE46_SPEC_CHK_RESULT|SITE47_SPEC_CHK_RESULT|SITE48_SPEC_CHK_RESULT|SITE49_SPEC_CHK_RESULT|SITE50_SPEC_CHK_RESULT|DATA_SOURCE|DATA_LEVEL|TARGET_VALUE|CONTROL_HIGH|CONTROL_LOW|SPEC_HIGH|SPEC_LOW|VALID_HIGH|VALID_LOW|UNIT|DATA_TYPE|            RANGE|ACT_CODE|    ETL_INSERT_TIME|ETL_ARC_FLAG|  ETL_BATCH_SYNC_TS|ETL_DEL_FLAG|ETL_DS_JOB_NM|ETL_SRC_DB|         ETL_SRC_TBL|    ETL_TBL_OPER_TS|label|\n",
      "+---------+-----------------+-------------------+-------------------+-----------+------+--------------+---------+-----------------+---------+---------+----------+---------------+-------------+-------------+----------+---------+---------+---------+---------+---------+---------+---------+---------+---------+----------+----------+----------+----------+----------+----------+----------+----------+----------+----------+----------+----------+----------+----------+----------+----------+----------+----------+----------+----------+----------+----------+----------+----------+----------+----------+----------+----------+----------+----------+----------+----------+----------+----------+----------+----------+----------+----------+----------+----------+----------+------------------+--------------+--------+------------+-------+-------------------+---------------------+---------------------+---------------------+---------------------+---------------------+---------------------+---------------------+---------------------+---------------------+----------------------+----------------------+----------------------+----------------------+----------------------+----------------------+----------------------+----------------------+----------------------+----------------------+----------------------+----------------------+----------------------+----------------------+----------------------+----------------------+----------------------+----------------------+----------------------+----------------------+----------------------+----------------------+----------------------+----------------------+----------------------+----------------------+----------------------+----------------------+----------------------+----------------------+----------------------+----------------------+----------------------+----------------------+----------------------+----------------------+----------------------+----------------------+----------------------+----------------------+----------------------+-----------+----------+------------+------------+-----------+---------+--------+----------+---------+----+---------+-----------------+--------+-------------------+------------+-------------------+------------+-------------+----------+--------------------+-------------------+-----+\n",
      "|NAZ439-03|1F.FQE10,1C.CDG10|               CXS1|2023-01-31 22:52:24|          0|    N1|AFPNM301N.0A01|NAZ439000|              0.0|   144.06|      0.0|   -144.06|80.532415554653|   -61.482015|    61.482015|      17.0|      0.0|   -72.03|-50.93403|      0.0| 50.93403|    72.03| 50.93403|      0.0|-50.93403|   -144.06|-101.86659|       0.0| 101.86659|    144.06| 101.86659|       0.0|-101.86659|      null|      null|      null|      null|      null|      null|      null|      null|      null|      null|      null|      null|      null|      null|      null|      null|      null|      null|      null|      null|      null|      null|      null|      null|      null|      null|      null|      null|      null|      null|      null|      null|      null|2.0230131000211E13|             Y|    null|       QEK01|   null|               null|                 null|                 null|                 null|                 null|                 null|                 null|                 null|                 null|                 null|                  null|                  null|                  null|                  null|                  null|                  null|                  null|                  null|                  null|                  null|                  null|                  null|                  null|                  null|                  null|                  null|                  null|                  null|                  null|                  null|                  null|                  null|                  null|                  null|                  null|                  null|                  null|                  null|                  null|                  null|                  null|                  null|                  null|                  null|                  null|                  null|                  null|                  null|                  null|                  null|                  null|       null|      Site|         0.0|         0.0|        0.0|      0.0|     0.0|       0.0|      0.0|null|        N|           288.12|    null|2023-05-29 06:00:43|           0|1970-01-01 00:00:00|           0|         null|       EDA|INLINE_WAFER_SUMMARY|1970-01-01 00:00:00|    0|\n",
      "|NAZ439-03|1F.FQE10,1C.CDG10|               CYS1|2023-01-31 22:52:24|          0|    N1|AFPNM301N.0A01|NAZ439000|0.287947058823527|   144.06|      0.0|-139.16049|79.991939676461|   -61.482015|    61.482015|      17.0|      0.0|      0.0| 50.93403|    72.03| 50.93403|      0.0|-50.93403|   -72.03|-50.93403|       0.0| 101.86659|    144.06| 101.86659|       0.0|-101.86659|-139.16049|  -101.871|      null|      null|      null|      null|      null|      null|      null|      null|      null|      null|      null|      null|      null|      null|      null|      null|      null|      null|      null|      null|      null|      null|      null|      null|      null|      null|      null|      null|      null|      null|      null|      null|      null|2.0230131000211E13|             Y|    null|       QEK01|   null|               null|                 null|                 null|                 null|                 null|                 null|                 null|                 null|                 null|                 null|                  null|                  null|                  null|                  null|                  null|                  null|                  null|                  null|                  null|                  null|                  null|                  null|                  null|                  null|                  null|                  null|                  null|                  null|                  null|                  null|                  null|                  null|                  null|                  null|                  null|                  null|                  null|                  null|                  null|                  null|                  null|                  null|                  null|                  null|                  null|                  null|                  null|                  null|                  null|                  null|                  null|       null|      Site|         0.0|         0.0|        0.0|      0.0|     0.0|       0.0|      0.0|null|        N|        283.22049|    null|2023-05-29 06:00:43|           0|1970-01-01 00:00:00|           0|         null|       EDA|INLINE_WAFER_SUMMARY|1970-01-01 00:00:00|    0|\n",
      "|NAZ439-03|1F.FQE10,1C.CDG10|               FDS1|2023-01-31 22:52:24|          0|    N1|AFPNM301N.0A01|NAZ439000|0.993052047058824|0.9930901|0.9930528| 0.9930084|   2.2011336E-5|   0.99304245|    0.9930656|      17.0|0.9930528|0.9930584|0.9930657|0.9930463|0.9930655|0.9930901|0.9930084|0.9930854|0.9930577| 0.9930423| 0.9930479| 0.9930426| 0.9930205|  0.993059| 0.9930769| 0.9930426| 0.9930227|      null|      null|      null|      null|      null|      null|      null|      null|      null|      null|      null|      null|      null|      null|      null|      null|      null|      null|      null|      null|      null|      null|      null|      null|      null|      null|      null|      null|      null|      null|      null|      null|      null|2.0230131000211E13|             Y|    null|       QEK01|   null|               null|                 null|                 null|                 null|                 null|                 null|                 null|                 null|                 null|                 null|                  null|                  null|                  null|                  null|                  null|                  null|                  null|                  null|                  null|                  null|                  null|                  null|                  null|                  null|                  null|                  null|                  null|                  null|                  null|                  null|                  null|                  null|                  null|                  null|                  null|                  null|                  null|                  null|                  null|                  null|                  null|                  null|                  null|                  null|                  null|                  null|                  null|                  null|                  null|                  null|                  null|       null|      Site|         0.0|         0.0|        0.0|      0.0|     0.0|       0.0|      0.0|null|        N|8.169999999996E-5|    null|2023-05-29 06:00:43|           0|1970-01-01 00:00:00|           0|         null|       EDA|INLINE_WAFER_SUMMARY|1970-01-01 00:00:00|    0|\n",
      "|NAZ439-03|1F.FQE10,1C.CDG10|               TAW1|2023-01-31 22:52:24|          0|    N1|AFPNM301N.0A01|NAZ439000|         109.2519|     null|     null|      null|           null|         null|         null|      null|     null|     null|     null|     null|     null|     null|     null|     null|     null|      null|      null|      null|      null|      null|      null|      null|      null|      null|      null|      null|      null|      null|      null|      null|      null|      null|      null|      null|      null|      null|      null|      null|      null|      null|      null|      null|      null|      null|      null|      null|      null|      null|      null|      null|      null|      null|      null|      null|      null|      null|2.0230131000211E13|             Y|    null|       QEK01|   null|                0.0|                 null|                 null|                 null|                 null|                 null|                 null|                 null|                 null|                 null|                  null|                  null|                  null|                  null|                  null|                  null|                  null|                  null|                  null|                  null|                  null|                  null|                  null|                  null|                  null|                  null|                  null|                  null|                  null|                  null|                  null|                  null|                  null|                  null|                  null|                  null|                  null|                  null|                  null|                  null|                  null|                  null|                  null|                  null|                  null|                  null|                  null|                  null|                  null|                  null|                  null|       null|     Wafer|       110.0|       120.0|      100.0|    120.0|   100.0|     120.0|    100.0|null|        N|             null|    null|2023-05-29 06:00:43|           0|1970-01-01 00:00:00|           0|         null|       EDA|INLINE_WAFER_SUMMARY|1970-01-01 00:00:00|    0|\n",
      "|NAZ439-03|1F.FQE10,1C.CDG10|               TAWB|2023-01-31 22:52:24|          0|    N1|AFPNM301N.0A01|NAZ439000|         109.2519|     null|     null|      null|           null|         null|         null|      null|     null|     null|     null|     null|     null|     null|     null|     null|     null|      null|      null|      null|      null|      null|      null|      null|      null|      null|      null|      null|      null|      null|      null|      null|      null|      null|      null|      null|      null|      null|      null|      null|      null|      null|      null|      null|      null|      null|      null|      null|      null|      null|      null|      null|      null|      null|      null|      null|      null|      null|2.0230131000211E13|             Y|    null|       QEK01|   null|               null|                 null|                 null|                 null|                 null|                 null|                 null|                 null|                 null|                 null|                  null|                  null|                  null|                  null|                  null|                  null|                  null|                  null|                  null|                  null|                  null|                  null|                  null|                  null|                  null|                  null|                  null|                  null|                  null|                  null|                  null|                  null|                  null|                  null|                  null|                  null|                  null|                  null|                  null|                  null|                  null|                  null|                  null|                  null|                  null|                  null|                  null|                  null|                  null|                  null|                  null|       null|     Wafer|         0.0|         0.0|        0.0|      0.0|     0.0|       0.0|      0.0|null|        N|             null|    null|2023-05-29 06:00:43|           0|1970-01-01 00:00:00|           0|         null|       EDA|INLINE_WAFER_SUMMARY|1970-01-01 00:00:00|    0|\n",
      "|NAZ439-03|1F.FQE10,1C.CDG10|               TDS0|2023-01-31 22:52:24|          0|    N1|AFPNM301N.0A01|NAZ439000|         108.4117| 108.4117| 108.4117|  108.4117|            0.0|     108.4117|     108.4117|       1.0| 108.4117|     null|     null|     null|     null|     null|     null|     null|     null|      null|      null|      null|      null|      null|      null|      null|      null|      null|      null|      null|      null|      null|      null|      null|      null|      null|      null|      null|      null|      null|      null|      null|      null|      null|      null|      null|      null|      null|      null|      null|      null|      null|      null|      null|      null|      null|      null|      null|      null|      null|2.0230131000211E13|             Y|    null|       QEK01|   null|               null|                 null|                 null|                 null|                 null|                 null|                 null|                 null|                 null|                 null|                  null|                  null|                  null|                  null|                  null|                  null|                  null|                  null|                  null|                  null|                  null|                  null|                  null|                  null|                  null|                  null|                  null|                  null|                  null|                  null|                  null|                  null|                  null|                  null|                  null|                  null|                  null|                  null|                  null|                  null|                  null|                  null|                  null|                  null|                  null|                  null|                  null|                  null|                  null|                  null|                  null|       null|      Site|         0.0|         0.0|        0.0|      0.0|     0.0|       0.0|      0.0|null|        N|              0.0|    null|2023-05-29 06:00:43|           0|1970-01-01 00:00:00|           0|         null|       EDA|INLINE_WAFER_SUMMARY|1970-01-01 00:00:00|    0|\n",
      "|NAZ439-03|1F.FQE10,1C.CDG10|               TDS1|2023-01-31 22:52:24|          0|    N1|AFPNM301N.0A01|NAZ439000| 109.251923529412| 110.1915| 109.1703|  108.4117| 0.547565949829|     108.8124|     109.7011|      17.0| 108.4117| 109.1703| 109.0072| 108.8928| 108.6027| 108.6326| 108.7895| 108.8353| 109.0181|   110.171|  110.1915|  109.5629|  109.7379|  109.1812|  109.7058|  109.6758|  109.6964|      null|      null|      null|      null|      null|      null|      null|      null|      null|      null|      null|      null|      null|      null|      null|      null|      null|      null|      null|      null|      null|      null|      null|      null|      null|      null|      null|      null|      null|      null|      null|      null|      null|2.0230131000211E13|             Y|    null|       QEK01|   null|               null|                 null|                 null|                 null|                 null|                 null|                 null|                 null|                 null|                 null|                  null|                  null|                  null|                  null|                  null|                  null|                  null|                  null|                  null|                  null|                  null|                  null|                  null|                  null|                  null|                  null|                  null|                  null|                  null|                  null|                  null|                  null|                  null|                  null|                  null|                  null|                  null|                  null|                  null|                  null|                  null|                  null|                  null|                  null|                  null|                  null|                  null|                  null|                  null|                  null|                  null|       null|      Site|         0.0|         0.0|        0.0|      0.0|     0.0|       0.0|      0.0|null|        N| 1.77980000000001|    null|2023-05-29 06:00:43|           0|1970-01-01 00:00:00|           0|         null|       EDA|INLINE_WAFER_SUMMARY|1970-01-01 00:00:00|    0|\n",
      "|NAZ439-03|1F.FQE10,1C.CDG10|               THW1|2023-01-31 22:52:24|          0|    N1|AFPNM301N.0A01|NAZ439000|         110.1915|     null|     null|      null|           null|         null|         null|      null|     null|     null|     null|     null|     null|     null|     null|     null|     null|      null|      null|      null|      null|      null|      null|      null|      null|      null|      null|      null|      null|      null|      null|      null|      null|      null|      null|      null|      null|      null|      null|      null|      null|      null|      null|      null|      null|      null|      null|      null|      null|      null|      null|      null|      null|      null|      null|      null|      null|      null|2.0230131000211E13|             Y|    null|       QEK01|   null|               null|                 null|                 null|                 null|                 null|                 null|                 null|                 null|                 null|                 null|                  null|                  null|                  null|                  null|                  null|                  null|                  null|                  null|                  null|                  null|                  null|                  null|                  null|                  null|                  null|                  null|                  null|                  null|                  null|                  null|                  null|                  null|                  null|                  null|                  null|                  null|                  null|                  null|                  null|                  null|                  null|                  null|                  null|                  null|                  null|                  null|                  null|                  null|                  null|                  null|                  null|       null|     Wafer|         0.0|         0.0|        0.0|      0.0|     0.0|       0.0|      0.0|null|        N|             null|    null|2023-05-29 06:00:43|           0|1970-01-01 00:00:00|           0|         null|       EDA|INLINE_WAFER_SUMMARY|1970-01-01 00:00:00|    0|\n",
      "|NAZ439-03|1F.FQE10,1C.CDG10|               TLW1|2023-01-31 22:52:24|          0|    N1|AFPNM301N.0A01|NAZ439000|         108.4117|     null|     null|      null|           null|         null|         null|      null|     null|     null|     null|     null|     null|     null|     null|     null|     null|      null|      null|      null|      null|      null|      null|      null|      null|      null|      null|      null|      null|      null|      null|      null|      null|      null|      null|      null|      null|      null|      null|      null|      null|      null|      null|      null|      null|      null|      null|      null|      null|      null|      null|      null|      null|      null|      null|      null|      null|      null|2.0230131000211E13|             Y|    null|       QEK01|   null|               null|                 null|                 null|                 null|                 null|                 null|                 null|                 null|                 null|                 null|                  null|                  null|                  null|                  null|                  null|                  null|                  null|                  null|                  null|                  null|                  null|                  null|                  null|                  null|                  null|                  null|                  null|                  null|                  null|                  null|                  null|                  null|                  null|                  null|                  null|                  null|                  null|                  null|                  null|                  null|                  null|                  null|                  null|                  null|                  null|                  null|                  null|                  null|                  null|                  null|                  null|       null|     Wafer|         0.0|         0.0|        0.0|      0.0|     0.0|       0.0|      0.0|null|        N|             null|    null|2023-05-29 06:00:43|           0|1970-01-01 00:00:00|           0|         null|       EDA|INLINE_WAFER_SUMMARY|1970-01-01 00:00:00|    0|\n",
      "|NAZ439-03|1F.FQE10,1C.CDG10|               TRW1|2023-01-31 22:52:24|          0|    N1|AFPNM301N.0A01|NAZ439000|     1.7797851562|     null|     null|      null|           null|         null|         null|      null|     null|     null|     null|     null|     null|     null|     null|     null|     null|      null|      null|      null|      null|      null|      null|      null|      null|      null|      null|      null|      null|      null|      null|      null|      null|      null|      null|      null|      null|      null|      null|      null|      null|      null|      null|      null|      null|      null|      null|      null|      null|      null|      null|      null|      null|      null|      null|      null|      null|      null|2.0230131000211E13|             Y|    null|       QEK01|   null|               null|                 null|                 null|                 null|                 null|                 null|                 null|                 null|                 null|                 null|                  null|                  null|                  null|                  null|                  null|                  null|                  null|                  null|                  null|                  null|                  null|                  null|                  null|                  null|                  null|                  null|                  null|                  null|                  null|                  null|                  null|                  null|                  null|                  null|                  null|                  null|                  null|                  null|                  null|                  null|                  null|                  null|                  null|                  null|                  null|                  null|                  null|                  null|                  null|                  null|                  null|       null|     Wafer|         0.0|         0.0|        0.0|      0.0|     0.0|       0.0|      0.0|null|        N|             null|    null|2023-05-29 06:00:43|           0|1970-01-01 00:00:00|           0|         null|       EDA|INLINE_WAFER_SUMMARY|1970-01-01 00:00:00|    0|\n",
      "|NAZ439-03|1F.FQE10,1C.CDG10|               TUW1|2023-01-31 22:52:24|          0|    N1|AFPNM301N.0A01|NAZ439000|       0.00814539|     null|     null|      null|           null|         null|         null|      null|     null|     null|     null|     null|     null|     null|     null|     null|     null|      null|      null|      null|      null|      null|      null|      null|      null|      null|      null|      null|      null|      null|      null|      null|      null|      null|      null|      null|      null|      null|      null|      null|      null|      null|      null|      null|      null|      null|      null|      null|      null|      null|      null|      null|      null|      null|      null|      null|      null|      null|2.0230131000211E13|             Y|    null|       QEK01|   null|               null|                 null|                 null|                 null|                 null|                 null|                 null|                 null|                 null|                 null|                  null|                  null|                  null|                  null|                  null|                  null|                  null|                  null|                  null|                  null|                  null|                  null|                  null|                  null|                  null|                  null|                  null|                  null|                  null|                  null|                  null|                  null|                  null|                  null|                  null|                  null|                  null|                  null|                  null|                  null|                  null|                  null|                  null|                  null|                  null|                  null|                  null|                  null|                  null|                  null|                  null|       null|     Wafer|         0.0|         0.0|        0.0|      0.0|     0.0|       0.0|      0.0|null|        N|             null|    null|2023-05-29 06:00:43|           0|1970-01-01 00:00:00|           0|         null|       EDA|INLINE_WAFER_SUMMARY|1970-01-01 00:00:00|    0|\n",
      "|NAZ439-03|1F.FQE10,1C.CDG10|               TUW9|2023-01-31 22:52:24|          0|    N1|AFPNM301N.0A01|NAZ439000|     0.0081453264|     null|     null|      null|           null|         null|         null|      null|     null|     null|     null|     null|     null|     null|     null|     null|     null|      null|      null|      null|      null|      null|      null|      null|      null|      null|      null|      null|      null|      null|      null|      null|      null|      null|      null|      null|      null|      null|      null|      null|      null|      null|      null|      null|      null|      null|      null|      null|      null|      null|      null|      null|      null|      null|      null|      null|      null|      null|2.0230131000211E13|             Y|    null|       QEK01|   null|               null|                 null|                 null|                 null|                 null|                 null|                 null|                 null|                 null|                 null|                  null|                  null|                  null|                  null|                  null|                  null|                  null|                  null|                  null|                  null|                  null|                  null|                  null|                  null|                  null|                  null|                  null|                  null|                  null|                  null|                  null|                  null|                  null|                  null|                  null|                  null|                  null|                  null|                  null|                  null|                  null|                  null|                  null|                  null|                  null|                  null|                  null|                  null|                  null|                  null|                  null|       null|     Wafer|         0.0|         0.0|        0.0|      0.0|     0.0|       0.0|      0.0|null|        N|             null|    null|2023-05-29 06:00:43|           0|1970-01-01 00:00:00|           0|         null|       EDA|INLINE_WAFER_SUMMARY|1970-01-01 00:00:00|    0|\n",
      "|NAZ439-03|1F.FQE10,1C.CDG10|               TUWB|2023-01-31 22:52:24|          0|    N1|AFPNM301N.0A01|NAZ439000|       0.00814539|     null|     null|      null|           null|         null|         null|      null|     null|     null|     null|     null|     null|     null|     null|     null|     null|      null|      null|      null|      null|      null|      null|      null|      null|      null|      null|      null|      null|      null|      null|      null|      null|      null|      null|      null|      null|      null|      null|      null|      null|      null|      null|      null|      null|      null|      null|      null|      null|      null|      null|      null|      null|      null|      null|      null|      null|      null|2.0230131000211E13|             Y|    null|       QEK01|   null|               null|                 null|                 null|                 null|                 null|                 null|                 null|                 null|                 null|                 null|                  null|                  null|                  null|                  null|                  null|                  null|                  null|                  null|                  null|                  null|                  null|                  null|                  null|                  null|                  null|                  null|                  null|                  null|                  null|                  null|                  null|                  null|                  null|                  null|                  null|                  null|                  null|                  null|                  null|                  null|                  null|                  null|                  null|                  null|                  null|                  null|                  null|                  null|                  null|                  null|                  null|       null|     Wafer|         0.0|         0.0|        0.0|      0.0|     0.0|       0.0|      0.0|null|        N|             null|    null|2023-05-29 06:00:43|           0|1970-01-01 00:00:00|           0|         null|       EDA|INLINE_WAFER_SUMMARY|1970-01-01 00:00:00|    0|\n",
      "|NAZ703-08|1F.FQE10,1C.CDG10|               CIW0|2023-03-16 03:40:42|          0|    N1|AFPNM301N.0B01|NAZ703000|             null|     null|     null|      null|           null|         null|         null|      null|     null|     null|     null|     null|     null|     null|     null|     null|     null|      null|      null|      null|      null|      null|      null|      null|      null|      null|      null|      null|      null|      null|      null|      null|      null|      null|      null|      null|      null|      null|      null|      null|      null|      null|      null|      null|      null|      null|      null|      null|      null|      null|      null|      null|      null|      null|      null|      null|      null|      null|              null|             N|      C2|       DGA01|   null|               null|                 null|                 null|                 null|                 null|                 null|                 null|                 null|                 null|                 null|                  null|                  null|                  null|                  null|                  null|                  null|                  null|                  null|                  null|                  null|                  null|                  null|                  null|                  null|                  null|                  null|                  null|                  null|                  null|                  null|                  null|                  null|                  null|                  null|                  null|                  null|                  null|                  null|                  null|                  null|                  null|                  null|                  null|                  null|                  null|                  null|                  null|                  null|                  null|                  null|                  null|       null|     Wafer|         0.0|         0.0|        0.0|      0.0|     0.0|       0.0|      0.0|null|        T|             null|    null|2023-05-29 07:11:02|           0|1970-01-01 00:00:00|           0|         null|       EDA|INLINE_WAFER_SUMMARY|1970-01-01 00:00:00|    1|\n",
      "|NAZ703-08|1F.FQE10,1C.CDG10|               EEW0|2023-03-16 03:40:42|          0|    N1|AFPNM301N.0B01|NAZ703000|      3999.795302|     null|     null|      null|           null|         null|         null|      null|     null|     null|     null|     null|     null|     null|     null|     null|     null|      null|      null|      null|      null|      null|      null|      null|      null|      null|      null|      null|      null|      null|      null|      null|      null|      null|      null|      null|      null|      null|      null|      null|      null|      null|      null|      null|      null|      null|      null|      null|      null|      null|      null|      null|      null|      null|      null|      null|      null|      null|              null|             N|    null|       DGA01|   null|               null|                 null|                 null|                 null|                 null|                 null|                 null|                 null|                 null|                 null|                  null|                  null|                  null|                  null|                  null|                  null|                  null|                  null|                  null|                  null|                  null|                  null|                  null|                  null|                  null|                  null|                  null|                  null|                  null|                  null|                  null|                  null|                  null|                  null|                  null|                  null|                  null|                  null|                  null|                  null|                  null|                  null|                  null|                  null|                  null|                  null|                  null|                  null|                  null|                  null|                  null|       null|     Wafer|         0.0|         0.0|        0.0|      0.0|     0.0|       0.0|      0.0|null|        N|             null|    null|2023-05-29 07:11:02|           0|1970-01-01 00:00:00|           0|         null|       EDA|INLINE_WAFER_SUMMARY|1970-01-01 00:00:00|    1|\n",
      "|NAZ703-08|1F.FQE10,1C.CDG10|               FEW0|2023-03-16 03:40:42|          0|    N1|AFPNM301N.0B01|NAZ703000|     123.30957013|     null|     null|      null|           null|         null|         null|      null|     null|     null|     null|     null|     null|     null|     null|     null|     null|      null|      null|      null|      null|      null|      null|      null|      null|      null|      null|      null|      null|      null|      null|      null|      null|      null|      null|      null|      null|      null|      null|      null|      null|      null|      null|      null|      null|      null|      null|      null|      null|      null|      null|      null|      null|      null|      null|      null|      null|      null|              null|             N|    null|       DGA01|   null|               null|                 null|                 null|                 null|                 null|                 null|                 null|                 null|                 null|                 null|                  null|                  null|                  null|                  null|                  null|                  null|                  null|                  null|                  null|                  null|                  null|                  null|                  null|                  null|                  null|                  null|                  null|                  null|                  null|                  null|                  null|                  null|                  null|                  null|                  null|                  null|                  null|                  null|                  null|                  null|                  null|                  null|                  null|                  null|                  null|                  null|                  null|                  null|                  null|                  null|                  null|       null|     Wafer|         0.0|         0.0|        0.0|      0.0|     0.0|       0.0|      0.0|null|        N|             null|    null|2023-05-29 07:11:02|           0|1970-01-01 00:00:00|           0|         null|       EDA|INLINE_WAFER_SUMMARY|1970-01-01 00:00:00|    1|\n",
      "|NAZ703-08|1F.FQE10,1C.CDG10|               HFT0|2023-03-16 03:40:42|          0|    N1|AFPNM301N.0B01|NAZ703000|           44.599|     null|     null|      null|           null|         null|         null|      null|     null|     null|     null|     null|     null|     null|     null|     null|     null|      null|      null|      null|      null|      null|      null|      null|      null|      null|      null|      null|      null|      null|      null|      null|      null|      null|      null|      null|      null|      null|      null|      null|      null|      null|      null|      null|      null|      null|      null|      null|      null|      null|      null|      null|      null|      null|      null|      null|      null|      null|              null|             N|    null|       DGA01|   null|               null|                 null|                 null|                 null|                 null|                 null|                 null|                 null|                 null|                 null|                  null|                  null|                  null|                  null|                  null|                  null|                  null|                  null|                  null|                  null|                  null|                  null|                  null|                  null|                  null|                  null|                  null|                  null|                  null|                  null|                  null|                  null|                  null|                  null|                  null|                  null|                  null|                  null|                  null|                  null|                  null|                  null|                  null|                  null|                  null|                  null|                  null|                  null|                  null|                  null|                  null|       null|     Wafer|         0.0|         0.0|        0.0|      0.0|     0.0|       0.0|      0.0|null|        N|             null|    null|2023-05-29 07:11:02|           0|1970-01-01 00:00:00|           0|         null|       EDA|INLINE_WAFER_SUMMARY|1970-01-01 00:00:00|    1|\n",
      "|NAZ703-08|1F.FQE10,1C.CDG10|               OEW0|2023-03-16 03:40:42|          0|    N1|AFPNM301N.0B01|NAZ703000|     5999.4883668|     null|     null|      null|           null|         null|         null|      null|     null|     null|     null|     null|     null|     null|     null|     null|     null|      null|      null|      null|      null|      null|      null|      null|      null|      null|      null|      null|      null|      null|      null|      null|      null|      null|      null|      null|      null|      null|      null|      null|      null|      null|      null|      null|      null|      null|      null|      null|      null|      null|      null|      null|      null|      null|      null|      null|      null|      null|              null|             N|    null|       DGA01|   null|               null|                 null|                 null|                 null|                 null|                 null|                 null|                 null|                 null|                 null|                  null|                  null|                  null|                  null|                  null|                  null|                  null|                  null|                  null|                  null|                  null|                  null|                  null|                  null|                  null|                  null|                  null|                  null|                  null|                  null|                  null|                  null|                  null|                  null|                  null|                  null|                  null|                  null|                  null|                  null|                  null|                  null|                  null|                  null|                  null|                  null|                  null|                  null|                  null|                  null|                  null|       null|     Wafer|         0.0|         0.0|        0.0|      0.0|     0.0|       0.0|      0.0|null|        N|             null|    null|2023-05-29 07:11:02|           0|1970-01-01 00:00:00|           0|         null|       EDA|INLINE_WAFER_SUMMARY|1970-01-01 00:00:00|    1|\n",
      "|NAZ703-08|1F.FQE10,1C.CDG10|               PEW0|2023-03-16 03:40:42|          0|    N1|AFPNM301N.0B01|NAZ703000|      6.999991567|     null|     null|      null|           null|         null|         null|      null|     null|     null|     null|     null|     null|     null|     null|     null|     null|      null|      null|      null|      null|      null|      null|      null|      null|      null|      null|      null|      null|      null|      null|      null|      null|      null|      null|      null|      null|      null|      null|      null|      null|      null|      null|      null|      null|      null|      null|      null|      null|      null|      null|      null|      null|      null|      null|      null|      null|      null|              null|             N|    null|       DGA01|   null|               null|                 null|                 null|                 null|                 null|                 null|                 null|                 null|                 null|                 null|                  null|                  null|                  null|                  null|                  null|                  null|                  null|                  null|                  null|                  null|                  null|                  null|                  null|                  null|                  null|                  null|                  null|                  null|                  null|                  null|                  null|                  null|                  null|                  null|                  null|                  null|                  null|                  null|                  null|                  null|                  null|                  null|                  null|                  null|                  null|                  null|                  null|                  null|                  null|                  null|                  null|       null|     Wafer|         0.0|         0.0|        0.0|      0.0|     0.0|       0.0|      0.0|null|        N|             null|    null|2023-05-29 07:11:02|           0|1970-01-01 00:00:00|           0|         null|       EDA|INLINE_WAFER_SUMMARY|1970-01-01 00:00:00|    1|\n",
      "|NAZ703-08|1F.FQE10,1C.CDG10|               PTW0|2023-03-16 03:40:42|          0|    N1|AFPNM301N.0B01|NAZ703000|          44799.0|     null|     null|      null|           null|         null|         null|      null|     null|     null|     null|     null|     null|     null|     null|     null|     null|      null|      null|      null|      null|      null|      null|      null|      null|      null|      null|      null|      null|      null|      null|      null|      null|      null|      null|      null|      null|      null|      null|      null|      null|      null|      null|      null|      null|      null|      null|      null|      null|      null|      null|      null|      null|      null|      null|      null|      null|      null|              null|             N|    null|       DGA01|   null|               null|                 null|                 null|                 null|                 null|                 null|                 null|                 null|                 null|                 null|                  null|                  null|                  null|                  null|                  null|                  null|                  null|                  null|                  null|                  null|                  null|                  null|                  null|                  null|                  null|                  null|                  null|                  null|                  null|                  null|                  null|                  null|                  null|                  null|                  null|                  null|                  null|                  null|                  null|                  null|                  null|                  null|                  null|                  null|                  null|                  null|                  null|                  null|                  null|                  null|                  null|       null|     Wafer|         0.0|         0.0|        0.0|      0.0|     0.0|       0.0|      0.0|null|        N|             null|    null|2023-05-29 07:11:02|           0|1970-01-01 00:00:00|           0|         null|       EDA|INLINE_WAFER_SUMMARY|1970-01-01 00:00:00|    1|\n",
      "+---------+-----------------+-------------------+-------------------+-----------+------+--------------+---------+-----------------+---------+---------+----------+---------------+-------------+-------------+----------+---------+---------+---------+---------+---------+---------+---------+---------+---------+----------+----------+----------+----------+----------+----------+----------+----------+----------+----------+----------+----------+----------+----------+----------+----------+----------+----------+----------+----------+----------+----------+----------+----------+----------+----------+----------+----------+----------+----------+----------+----------+----------+----------+----------+----------+----------+----------+----------+----------+----------+------------------+--------------+--------+------------+-------+-------------------+---------------------+---------------------+---------------------+---------------------+---------------------+---------------------+---------------------+---------------------+---------------------+----------------------+----------------------+----------------------+----------------------+----------------------+----------------------+----------------------+----------------------+----------------------+----------------------+----------------------+----------------------+----------------------+----------------------+----------------------+----------------------+----------------------+----------------------+----------------------+----------------------+----------------------+----------------------+----------------------+----------------------+----------------------+----------------------+----------------------+----------------------+----------------------+----------------------+----------------------+----------------------+----------------------+----------------------+----------------------+----------------------+----------------------+----------------------+----------------------+----------------------+----------------------+-----------+----------+------------+------------+-----------+---------+--------+----------+---------+----+---------+-----------------+--------+-------------------+------------+-------------------+------------+-------------+----------+--------------------+-------------------+-----+\n",
      "only showing top 20 rows\n",
      "\n"
     ]
    }
   ],
   "source": [
    "grpby_list = ['OPER_NO']\n",
    "\n",
    "columns_list = grpby_list + ['WAFER_ID', 'INLINE_PARAMETER_ID', 'AVERAGE', 'MAX_VAL', 'MEDIAN', 'MIN_VAL',\n",
    "                                 'STD_DEV', 'PERCENTILE_25', 'PERCENTILE_75', 'SITE_COUNT', 'label']\n",
    "\n",
    "key_words = ['CXS', 'CYS', 'FDS']\n",
    "\n",
    "convert_to_numeric_list = ['AVERAGE', 'MAX_VAL', 'MEDIAN', 'MIN_VAL', 'STD_DEV', 'PERCENTILE_25',\n",
    "                               'PERCENTILE_75', 'SITE_COUNT']\n",
    "\n",
    "certain_column = 'INLINE_PARAMETER_ID'\n",
    "\n",
    "df_spark = df_spark.withColumnRenamed('OPE_NO', 'OPER_NO')\n",
    "df_preprocess, df_original = DataPreprocessorForInline(df=df_spark,\n",
    "                                          columns_list=columns_list,\n",
    "                                          certain_column=certain_column,\n",
    "                                          key_words=key_words,\n",
    "                                          convert_to_numeric_list=convert_to_numeric_list,\n",
    "                                          merge_operno_list=merge_operno,\n",
    "                                          merge_prodg1_list=merge_prodg1,\n",
    "                                          merge_product_list=merge_product).run()\n",
    "print(f\"df_preprocess shape: ({df_preprocess.count()}, {len(df_preprocess.columns)})\")\n",
    "df_preprocess.show()\n",
    "\n",
    "print(f\"df_original shape: ({df_original.count()}, {len(df_original.columns)})\")\n",
    "df_original.show()"
   ]
  },
  {
   "cell_type": "code",
   "execution_count": 44,
   "id": "76f0f2a8",
   "metadata": {},
   "outputs": [],
   "source": [
    "# df_preprocess_pandas = df_preprocess.toPandas()"
   ]
  },
  {
   "cell_type": "code",
   "execution_count": 45,
   "id": "db3d2fe8",
   "metadata": {},
   "outputs": [],
   "source": [
    "# oper = '1C.CDG10'\n",
    "# df_run2 = df_preprocess_pandas.query(f\"OPER_NO == '{oper}'\") \n",
    "# df_run2['INLINE_PARAMETER_ID'].value_counts()"
   ]
  },
  {
   "cell_type": "code",
   "execution_count": 46,
   "id": "4cf9cffd",
   "metadata": {},
   "outputs": [],
   "source": [
    "# grps_all, grps = GetTrainDataForInline.commonality_analysis(df_run=df_preprocess, grpby_list=grpby_list)\n",
    "\n",
    "# grps_all.show()\n",
    "# grps.show()"
   ]
  },
  {
   "cell_type": "code",
   "execution_count": 47,
   "id": "0f2dc071",
   "metadata": {},
   "outputs": [],
   "source": [
    "# conditions_not_satisfied = grps_all.filter(\"conditions_satisfied==False\").select(grpby_list + [\"good_num\", 'bad_num'])\n",
    "# print(\"conditions_not_satisfied:\")\n",
    "# conditions_not_satisfied.show()"
   ]
  },
  {
   "cell_type": "code",
   "execution_count": 48,
   "id": "31fc42fa",
   "metadata": {
    "scrolled": false
   },
   "outputs": [],
   "source": [
    "# parametric_for_unsatisfied_conditions = conditions_not_satisfied.join(df_preprocess.select(grpby_list + ['INLINE_PARAMETER_ID']), grpby_list, \"left\").dropDuplicates()\n",
    "# print(parametric_for_unsatisfied_conditions.count())\n",
    "# parametric_for_unsatisfied_conditions.show()"
   ]
  },
  {
   "cell_type": "code",
   "execution_count": 49,
   "id": "35fac7f1",
   "metadata": {
    "scrolled": true
   },
   "outputs": [],
   "source": [
    "# data_dict_list = GetTrainDataForInline.get_data_list(common_res=grps, grpby_list=grpby_list)\n",
    "# print(data_dict_list)\n",
    "\n",
    "# train_data = GetTrainDataForInline.get_train_data(df_run=df_preprocess, data_dict_list=data_dict_list)\n",
    "# print(train_data.count())\n",
    "# train_data.show()"
   ]
  },
  {
   "cell_type": "code",
   "execution_count": null,
   "id": "0742aa8b",
   "metadata": {},
   "outputs": [],
   "source": []
  },
  {
   "cell_type": "markdown",
   "id": "3c5ebf51",
   "metadata": {},
   "source": [
    "-----  "
   ]
  },
  {
   "cell_type": "code",
   "execution_count": 152,
   "id": "a722a2b0",
   "metadata": {
    "scrolled": false
   },
   "outputs": [
    {
     "name": "stdout",
     "output_type": "stream",
     "text": [
      "grps_all:\n",
      "+-----------------+--------+-------+--------------------+\n",
      "|          OPER_NO|good_num|bad_num|conditions_satisfied|\n",
      "+-----------------+--------+-------+--------------------+\n",
      "|1U.EQW10,1U.PQW10|       2|      5|               false|\n",
      "|1F.FQE10,1C.CDG10|       2|     13|                true|\n",
      "|         1V.EQW10|       2|      6|                true|\n",
      "|         1V.PQW10|       2|      5|               false|\n",
      "+-----------------+--------+-------+--------------------+\n",
      "\n",
      "df_train shape: (727, 12)\n",
      "+-----------------+---------+-------------------+----------------+--------+--------+--------+--------------+-------------+-------------+----------+-----+\n",
      "|          OPER_NO| WAFER_ID|INLINE_PARAMETER_ID|         AVERAGE| MAX_VAL|  MEDIAN| MIN_VAL|       STD_DEV|PERCENTILE_25|PERCENTILE_75|SITE_COUNT|label|\n",
      "+-----------------+---------+-------------------+----------------+--------+--------+--------+--------------+-------------+-------------+----------+-----+\n",
      "|1F.FQE10,1C.CDG10|NAZ439-03|               TAW1|        109.2519|    null|    null|    null|          null|         null|         null|      null|    0|\n",
      "|1F.FQE10,1C.CDG10|NAZ439-03|               TAWB|        109.2519|    null|    null|    null|          null|         null|         null|      null|    0|\n",
      "|1F.FQE10,1C.CDG10|NAZ439-03|               TDS0|        108.4117|108.4117|108.4117|108.4117|           0.0|     108.4117|     108.4117|       1.0|    0|\n",
      "|1F.FQE10,1C.CDG10|NAZ439-03|               TDS1|109.251923529412|110.1915|109.1703|108.4117|0.547565949829|     108.8124|     109.7011|      17.0|    0|\n",
      "|1F.FQE10,1C.CDG10|NAZ439-03|               THW1|        110.1915|    null|    null|    null|          null|         null|         null|      null|    0|\n",
      "|1F.FQE10,1C.CDG10|NAZ439-03|               TLW1|        108.4117|    null|    null|    null|          null|         null|         null|      null|    0|\n",
      "|1F.FQE10,1C.CDG10|NAZ439-03|               TRW1|    1.7797851562|    null|    null|    null|          null|         null|         null|      null|    0|\n",
      "|1F.FQE10,1C.CDG10|NAZ439-03|               TUW1|      0.00814539|    null|    null|    null|          null|         null|         null|      null|    0|\n",
      "|1F.FQE10,1C.CDG10|NAZ439-03|               TUW9|    0.0081453264|    null|    null|    null|          null|         null|         null|      null|    0|\n",
      "|1F.FQE10,1C.CDG10|NAZ439-03|               TUWB|      0.00814539|    null|    null|    null|          null|         null|         null|      null|    0|\n",
      "|1F.FQE10,1C.CDG10|NAZ703-08|               EEW0|     3999.795302|    null|    null|    null|          null|         null|         null|      null|    1|\n",
      "|1F.FQE10,1C.CDG10|NAZ703-08|               FEW0|    123.30957013|    null|    null|    null|          null|         null|         null|      null|    1|\n",
      "|1F.FQE10,1C.CDG10|NAZ703-08|               HFT0|          44.599|    null|    null|    null|          null|         null|         null|      null|    1|\n",
      "|1F.FQE10,1C.CDG10|NAZ703-08|               OEW0|    5999.4883668|    null|    null|    null|          null|         null|         null|      null|    1|\n",
      "|1F.FQE10,1C.CDG10|NAZ703-08|               PEW0|     6.999991567|    null|    null|    null|          null|         null|         null|      null|    1|\n",
      "|1F.FQE10,1C.CDG10|NAZ703-08|               PTW0|         44799.0|    null|    null|    null|          null|         null|         null|      null|    1|\n",
      "|1F.FQE10,1C.CDG10|NAZ703-08|               REW0|    200.38712143|    null|    null|    null|          null|         null|         null|      null|    1|\n",
      "|1F.FQE10,1C.CDG10|NAZ703-08|               SEW0|     1.299865548|    null|    null|    null|          null|         null|         null|      null|    1|\n",
      "|1F.FQE10,1C.CDG10|NAZ703-08|               SFW0|             4.0|    null|    null|    null|          null|         null|         null|      null|    1|\n",
      "|1F.FQE10,1C.CDG10|NAZ703-08|               TSW0|    350.28791946|    null|    null|    null|          null|         null|         null|      null|    1|\n",
      "+-----------------+---------+-------------------+----------------+--------+--------+--------+--------------+-------------+-------------+----------+-----+\n",
      "only showing top 20 rows\n",
      "\n"
     ]
    }
   ],
   "source": [
    "grps_all, df_train = GetTrainDataForInline(df=df_preprocess, grpby_list=grpby_list).run()\n",
    "print(\"grps_all:\")\n",
    "grps_all.show()\n",
    "\n",
    "print(f\"df_train shape: ({df_train.count()}, {len(df_train.columns)})\")\n",
    "df_train.show()"
   ]
  },
  {
   "cell_type": "code",
   "execution_count": 153,
   "id": "0b27f3a3",
   "metadata": {},
   "outputs": [
    {
     "data": {
      "text/plain": [
       "1V.EQW10             558\n",
       "1F.FQE10,1C.CDG10    169\n",
       "Name: OPER_NO, dtype: int64"
      ]
     },
     "execution_count": 153,
     "metadata": {},
     "output_type": "execute_result"
    }
   ],
   "source": [
    "df_train_pandas = df_train.toPandas()\n",
    "\n",
    "df_train_pandas['OPER_NO'].value_counts()"
   ]
  },
  {
   "cell_type": "markdown",
   "id": "94b186a4",
   "metadata": {},
   "source": [
    "---- "
   ]
  },
  {
   "cell_type": "code",
   "execution_count": 154,
   "id": "748f9270",
   "metadata": {},
   "outputs": [],
   "source": [
    "class FitInlineModelByWafer:\n",
    "    def __init__(self,\n",
    "                 df: pyspark.sql.dataframe,\n",
    "                 grpby_list: list[str],\n",
    "                 columns_to_process: list[str],\n",
    "                 missing_value_threshold: float,\n",
    "                 model: str = 'pca'):\n",
    "        self.df = df\n",
    "        self.grpby_list = grpby_list\n",
    "        self.columns_to_process = columns_to_process\n",
    "        self.missing_value_threshold = missing_value_threshold\n",
    "        self.model = model\n",
    "\n",
    "    @staticmethod\n",
    "    def process_missing_values(df, columns_to_process, missing_value_threshold):\n",
    "        for column in columns_to_process:\n",
    "            missing_percentage = df[column].isnull().mean()\n",
    "            if missing_percentage > missing_value_threshold:\n",
    "                df = df.drop(columns=[column])\n",
    "            else:\n",
    "                df[column] = df[column].fillna(df[column].mean())\n",
    "        return df\n",
    "\n",
    "    @staticmethod\n",
    "    def get_pivot_table(df, grpby_list, columns_to_process, missing_value_threshold):\n",
    "        df_specific = FitInlineModelByWafer.process_missing_values(df, columns_to_process, missing_value_threshold)\n",
    "        index_list = ['WAFER_ID', 'label']\n",
    "        columns_list = grpby_list + ['INLINE_PARAMETER_ID']\n",
    "        values_list = df_specific.columns.difference(\n",
    "            ['WAFER_ID', 'INLINE_PARAMETER_ID', 'SITE_COUNT', 'label'] + grpby_list)\n",
    "        pivot_result = df_specific.pivot_table(index=index_list,\n",
    "                                               columns=columns_list,\n",
    "                                               values=values_list)\n",
    "        pivot_result.columns = pivot_result.columns.map('#'.join)\n",
    "        pivot_result = FitInlineModelByWafer.process_missing_values(pivot_result, pivot_result.columns,\n",
    "                                                                    missing_value_threshold)\n",
    "        pivot_result = pivot_result.reset_index(drop=False)\n",
    "        # Remove completely identical columns\n",
    "        for column in pivot_result.columns.difference(index_list):\n",
    "            if pivot_result[column].nunique() == 1:\n",
    "                pivot_result = pivot_result.drop(column, axis=1)\n",
    "        return pivot_result\n",
    "\n",
    "    @staticmethod\n",
    "    def fit_pca_model(df, grpby_list, columns_to_process, missing_value_threshold):\n",
    "        schema_all = StructType([StructField(\"features\", StringType(), True),\n",
    "                                 StructField(\"importance\", FloatType(), True),\n",
    "                                 StructField(\"algorithm_satisfied\", BooleanType(), True),\n",
    "                                 StructField(\"x_train_shape\", StringType(), True)])\n",
    "\n",
    "        @pandas_udf(returnType=schema_all, functionType=PandasUDFType.GROUPED_MAP)\n",
    "        def get_model_result(df_run):\n",
    "            pivot_result = FitInlineModelByWafer.get_pivot_table(df=df_run,\n",
    "                                                                 grpby_list=grpby_list,\n",
    "                                                                 columns_to_process=columns_to_process,\n",
    "                                                                 missing_value_threshold=missing_value_threshold)\n",
    "\n",
    "            x_train = pivot_result[pivot_result.columns.difference(['WAFER_ID', 'label']).tolist()]\n",
    "\n",
    "            if min(x_train.shape) > 9:\n",
    "                res_top_select = FitInlineModelByWafer.construct_features_when_satisfy_pca(x_train=x_train)\n",
    "                return res_top_select\n",
    "            else:\n",
    "                res_top_select = FitInlineModelByWafer.construct_features_when_not_satisfied(x_train=x_train)\n",
    "                return res_top_select\n",
    "\n",
    "        return df.groupby(grpby_list).apply(get_model_result)\n",
    "\n",
    "    @staticmethod\n",
    "    def construct_features_when_not_satisfied(x_train):\n",
    "        x_len = len(x_train.columns)\n",
    "        res_top_select = pd.DataFrame({\"features\": x_train.columns,\n",
    "                                       \"importance\": [0.0] * x_len,\n",
    "                                       \"algorithm_satisfied\": [False] * x_len,\n",
    "                                       \"x_train_shape\": [str(x_train.shape)] * x_len})\n",
    "        return res_top_select\n",
    "\n",
    "    @staticmethod\n",
    "    def construct_features_when_satisfy_pca(x_train):\n",
    "        # 得到PCA算法结果res_top_select\n",
    "        n_components = min(min(x_train.shape) - 2, 20)\n",
    "        model = pca(n_components=n_components, verbose=None)\n",
    "        results = model.fit_transform(x_train)\n",
    "        res_top = results['topfeat']\n",
    "        res_top_select = res_top[res_top['type'] == 'best'][['feature', 'loading']]\n",
    "        res_top_select['importance'] = abs(res_top_select['loading'])\n",
    "        res_top_select = res_top_select.rename(columns={'feature': 'features'}).drop(\"loading\",\n",
    "                                                                                     axis=1).drop_duplicates()\n",
    "        # 增加算法为0的features\n",
    "        has_importance_features = res_top_select['features'].values\n",
    "        zero_importance_features = x_train.columns.difference(has_importance_features).to_list()\n",
    "        len_f = len(zero_importance_features)\n",
    "        zero_df  = pd.DataFrame({'features': zero_importance_features, 'importance': [0.0] * len_f})\n",
    "        res_top_select = res_top_select.append(zero_df, ignore_index=True)\n",
    "        \n",
    "        # 合并二者的结果\n",
    "        res_top_select['x_train_shape'] = str(x_train.shape)\n",
    "        res_top_select['algorithm_satisfied'] = True\n",
    "        return res_top_select\n",
    "\n",
    "    def run(self):\n",
    "        if self.model == 'pca':\n",
    "            res = self.fit_pca_model(df=self.df, grpby_list=self.grpby_list,\n",
    "                                     columns_to_process=self.columns_to_process,\n",
    "                                     missing_value_threshold=self.missing_value_threshold)\n",
    "\n",
    "        else:\n",
    "            res = self.fit_classification_model(df=self.df, grpby_list=self.grpby_list,\n",
    "                                                columns_to_process=self.columns_to_process,\n",
    "                                                missing_value_threshold=self.missing_value_threshold,\n",
    "                                                model=self.model)\n",
    "        return res"
   ]
  },
  {
   "cell_type": "code",
   "execution_count": 155,
   "id": "0b5c1bfc",
   "metadata": {
    "scrolled": true
   },
   "outputs": [
    {
     "name": "stderr",
     "output_type": "stream",
     "text": [
      "D:\\developer\\Anaconda\\lib\\site-packages\\pyspark\\sql\\pandas\\group_ops.py:98: UserWarning: It is preferred to use 'applyInPandas' over this API. This API will be deprecated in the future releases. See SPARK-28264 for more details.\n",
      "  warnings.warn(\n"
     ]
    },
    {
     "name": "stdout",
     "output_type": "stream",
     "text": [
      "11\n",
      "res shape: (64, 4)\n",
      "+--------------------+----------+-------------------+-------------+\n",
      "|            features|importance|algorithm_satisfied|x_train_shape|\n",
      "+--------------------+----------+-------------------+-------------+\n",
      "|AVERAGE#1F.FQE10,...| 0.9999995|               true|     (15, 10)|\n",
      "|AVERAGE#1F.FQE10,...|  0.782774|               true|     (15, 10)|\n",
      "|AVERAGE#1F.FQE10,...|0.77940005|               true|     (15, 10)|\n",
      "|AVERAGE#1F.FQE10,...|0.94151205|               true|     (15, 10)|\n",
      "|AVERAGE#1F.FQE10,...| 0.7007957|               true|     (15, 10)|\n",
      "|AVERAGE#1F.FQE10,...|0.70067024|               true|     (15, 10)|\n",
      "|AVERAGE#1F.FQE10,...|0.96751493|               true|     (15, 10)|\n",
      "|AVERAGE#1F.FQE10,...| 0.9823262|               true|     (15, 10)|\n",
      "|AVERAGE#1F.FQE10,...|       0.0|               true|     (15, 10)|\n",
      "|AVERAGE#1F.FQE10,...|       0.0|               true|     (15, 10)|\n",
      "|AVERAGE#1F.FQE10,...|       0.0|               true|     (15, 10)|\n",
      "|AVERAGE#1V.EQW10#...|       0.0|              false|      (8, 53)|\n",
      "|AVERAGE#1V.EQW10#...|       0.0|              false|      (8, 53)|\n",
      "|AVERAGE#1V.EQW10#...|       0.0|              false|      (8, 53)|\n",
      "|AVERAGE#1V.EQW10#...|       0.0|              false|      (8, 53)|\n",
      "|AVERAGE#1V.EQW10#...|       0.0|              false|      (8, 53)|\n",
      "|AVERAGE#1V.EQW10#...|       0.0|              false|      (8, 53)|\n",
      "|AVERAGE#1V.EQW10#...|       0.0|              false|      (8, 53)|\n",
      "|AVERAGE#1V.EQW10#...|       0.0|              false|      (8, 53)|\n",
      "|AVERAGE#1V.EQW10#...|       0.0|              false|      (8, 53)|\n",
      "|AVERAGE#1V.EQW10#...|       0.0|              false|      (8, 53)|\n",
      "|AVERAGE#1V.EQW10#...|       0.0|              false|      (8, 53)|\n",
      "|AVERAGE#1V.EQW10#...|       0.0|              false|      (8, 53)|\n",
      "|AVERAGE#1V.EQW10#...|       0.0|              false|      (8, 53)|\n",
      "|AVERAGE#1V.EQW10#...|       0.0|              false|      (8, 53)|\n",
      "|AVERAGE#1V.EQW10#...|       0.0|              false|      (8, 53)|\n",
      "|AVERAGE#1V.EQW10#...|       0.0|              false|      (8, 53)|\n",
      "|AVERAGE#1V.EQW10#...|       0.0|              false|      (8, 53)|\n",
      "|AVERAGE#1V.EQW10#...|       0.0|              false|      (8, 53)|\n",
      "|AVERAGE#1V.EQW10#...|       0.0|              false|      (8, 53)|\n",
      "|AVERAGE#1V.EQW10#...|       0.0|              false|      (8, 53)|\n",
      "|AVERAGE#1V.EQW10#...|       0.0|              false|      (8, 53)|\n",
      "|AVERAGE#1V.EQW10#...|       0.0|              false|      (8, 53)|\n",
      "|AVERAGE#1V.EQW10#...|       0.0|              false|      (8, 53)|\n",
      "|AVERAGE#1V.EQW10#...|       0.0|              false|      (8, 53)|\n",
      "|AVERAGE#1V.EQW10#...|       0.0|              false|      (8, 53)|\n",
      "|AVERAGE#1V.EQW10#...|       0.0|              false|      (8, 53)|\n",
      "|AVERAGE#1V.EQW10#...|       0.0|              false|      (8, 53)|\n",
      "|AVERAGE#1V.EQW10#...|       0.0|              false|      (8, 53)|\n",
      "|AVERAGE#1V.EQW10#...|       0.0|              false|      (8, 53)|\n",
      "|AVERAGE#1V.EQW10#...|       0.0|              false|      (8, 53)|\n",
      "|AVERAGE#1V.EQW10#...|       0.0|              false|      (8, 53)|\n",
      "|AVERAGE#1V.EQW10#...|       0.0|              false|      (8, 53)|\n",
      "|AVERAGE#1V.EQW10#...|       0.0|              false|      (8, 53)|\n",
      "|AVERAGE#1V.EQW10#...|       0.0|              false|      (8, 53)|\n",
      "|AVERAGE#1V.EQW10#...|       0.0|              false|      (8, 53)|\n",
      "|AVERAGE#1V.EQW10#...|       0.0|              false|      (8, 53)|\n",
      "|AVERAGE#1V.EQW10#...|       0.0|              false|      (8, 53)|\n",
      "|AVERAGE#1V.EQW10#...|       0.0|              false|      (8, 53)|\n",
      "|AVERAGE#1V.EQW10#...|       0.0|              false|      (8, 53)|\n",
      "+--------------------+----------+-------------------+-------------+\n",
      "only showing top 50 rows\n",
      "\n"
     ]
    }
   ],
   "source": [
    "res = FitInlineModelByWafer(df=df_train,\n",
    "                            grpby_list=grpby_list,\n",
    "                            columns_to_process=['AVERAGE', 'MAX_VAL', 'MEDIAN', 'MIN_VAL', 'STD_DEV',\n",
    "                                                'PERCENTILE_25', 'PERCENTILE_75'],\n",
    "                            missing_value_threshold=0.6,\n",
    "                            model='pca').run()\n",
    "\n",
    "m = res.filter('algorithm_satisfied==True').count()\n",
    "print(m)\n",
    "\n",
    "print(f\"res shape: ({res.count()}, {len(res.columns)})\")\n",
    "res.show(50)"
   ]
  },
  {
   "cell_type": "code",
   "execution_count": 61,
   "id": "9588721d",
   "metadata": {},
   "outputs": [],
   "source": [
    "# oper = '1C.CDG10'\n",
    "# df_run = df_train_pandas.query(f\"OPER_NO == '{oper}'\") \n",
    "# df_run"
   ]
  },
  {
   "cell_type": "code",
   "execution_count": 62,
   "id": "7ee39c8d",
   "metadata": {},
   "outputs": [],
   "source": [
    "# df_run['INLINE_PARAMETER_ID'].value_counts()"
   ]
  },
  {
   "cell_type": "code",
   "execution_count": 63,
   "id": "cd5fc99e",
   "metadata": {},
   "outputs": [],
   "source": [
    "# index_list = ['WAFER_ID', 'label']\n",
    "# columns_list = grpby_list + ['INLINE_PARAMETER_ID']\n",
    "# values_list = df_run.columns.difference(\n",
    "#     ['WAFER_ID', 'INLINE_PARAMETER_ID', 'SITE_COUNT', 'label'] + grpby_list)\n",
    "# pivot_result = df_run.pivot_table(index=index_list,\n",
    "#                                        columns=columns_list,\n",
    "#                                        values=values_list)\n",
    "# pivot_result"
   ]
  },
  {
   "cell_type": "code",
   "execution_count": 64,
   "id": "0fec0b60",
   "metadata": {
    "scrolled": false
   },
   "outputs": [],
   "source": [
    "# pivot_result = FitInlineModelByWafer.get_pivot_table(df=df_run,\n",
    "#                                                      grpby_list=grpby_list,\n",
    "#                                                      columns_to_process=['AVERAGE', 'MAX_VAL', 'MEDIAN', 'MIN_VAL', 'STD_DEV',\n",
    "#                                                                 'PERCENTILE_25', 'PERCENTILE_75'],\n",
    "#                                                      missing_value_threshold=0.6)\n",
    "\n",
    "# x_train = pivot_result[pivot_result.columns.difference(['WAFER_ID', 'label']).tolist()]\n",
    "# x_train"
   ]
  },
  {
   "cell_type": "code",
   "execution_count": 97,
   "id": "02ce49ce",
   "metadata": {},
   "outputs": [],
   "source": [
    "# x_train = pd.DataFrame()\n",
    "# FitInlineModelByWafer.construct_features_when_not_satisfied(x_train=x_train)"
   ]
  },
  {
   "cell_type": "code",
   "execution_count": 50,
   "id": "0512cb8f",
   "metadata": {},
   "outputs": [],
   "source": [
    "# n_components = min(min(x_train.shape) - 2, 20)\n",
    "# model = pca(n_components=n_components, verbose=None)\n",
    "# results = model.fit_transform(x_train)\n",
    "# res_top = results['topfeat']\n",
    "# res_top"
   ]
  },
  {
   "cell_type": "code",
   "execution_count": 65,
   "id": "b9098a99",
   "metadata": {
    "scrolled": true
   },
   "outputs": [],
   "source": [
    "# res_top_select = FitInlineModelByWafer.construct_features_when_satisfy_pca(x_train=x_train)\n",
    "# res_top_select"
   ]
  },
  {
   "cell_type": "code",
   "execution_count": 98,
   "id": "5e58af39",
   "metadata": {},
   "outputs": [],
   "source": [
    "# has_importance_features = res_top_select['features'].values\n",
    "# has_importance_features"
   ]
  },
  {
   "cell_type": "code",
   "execution_count": 99,
   "id": "63a8cb02",
   "metadata": {},
   "outputs": [],
   "source": [
    "# zero_importance_features = x_train.columns.difference(has_importance_features).to_list()\n",
    "# len_f = len(zero_importance_features)\n",
    "\n",
    "# zero_df  = pd.DataFrame({'features': zero_importance_features,\n",
    "#                             'importance': [0.0] * len_f})\n",
    "# zero_df"
   ]
  },
  {
   "cell_type": "code",
   "execution_count": 100,
   "id": "baa1a714",
   "metadata": {
    "scrolled": true
   },
   "outputs": [],
   "source": [
    "# res_top_select.append(zero_df, ignore_index=True)"
   ]
  },
  {
   "cell_type": "code",
   "execution_count": 101,
   "id": "94e30343",
   "metadata": {},
   "outputs": [],
   "source": [
    "# res = res.withColumn(\"algorithm_satisfied\", res[\"algorithm_satisfied\"].cast(StringType()))\n",
    "# res_pandas = res.toPandas()\n",
    "# res_pandas"
   ]
  },
  {
   "cell_type": "code",
   "execution_count": 102,
   "id": "00ab44a2",
   "metadata": {},
   "outputs": [],
   "source": [
    "# res_pandas.tail(50)"
   ]
  },
  {
   "cell_type": "code",
   "execution_count": null,
   "id": "05d5f001",
   "metadata": {},
   "outputs": [],
   "source": []
  },
  {
   "cell_type": "markdown",
   "id": "12ed9050",
   "metadata": {},
   "source": [
    "----"
   ]
  },
  {
   "cell_type": "code",
   "execution_count": 156,
   "id": "170bac35",
   "metadata": {},
   "outputs": [],
   "source": [
    "class SplitInlineModelResults:\n",
    "    def __init__(self, df: pyspark.sql.dataframe, grpby_list: List[str], request_id: str,\n",
    "                 grps_all: pyspark.sql.dataframe, unique_params_within_groups: pyspark.sql.dataframe):\n",
    "        self.df = df\n",
    "        self.grpby_list = grpby_list\n",
    "        self.request_id = request_id\n",
    "        self.grps_all = grps_all\n",
    "        self.unique_params_within_groups= unique_params_within_groups\n",
    "\n",
    "    @staticmethod\n",
    "    def split_features(df: pd.DataFrame, index: int) -> str:\n",
    "        return df['features'].apply(lambda x: x.split('#')[index])\n",
    "\n",
    "    @staticmethod\n",
    "    def get_split_features(df: pd.DataFrame, grpby_list: List[str]) -> pd.DataFrame:\n",
    "        n_feats = len(grpby_list)\n",
    "        for i in range(n_feats):\n",
    "            df[grpby_list[i]] = SplitInlineModelResults.split_features(df, i + 1)\n",
    "\n",
    "        df['INLINE_PARAMETER_ID'] = SplitInlineModelResults.split_features(df, n_feats + 1)\n",
    "        df = df.drop(['features'], axis=1).reset_index(drop=True)\n",
    "        return df\n",
    "\n",
    "    @staticmethod\n",
    "    def split_calculate_features(df: pyspark.sql.dataframe, grpby_list: List[str], by: str) -> pyspark.sql.dataframe:\n",
    "        struct_fields = [StructField(col_, StringType(), True) for col_ in grpby_list]\n",
    "        struct_fields.extend([StructField(\"INLINE_PARAMETER_ID\", StringType(), True),\n",
    "                              StructField(\"importance\", FloatType(), True),\n",
    "                              StructField(\"algorithm_satisfied\", BooleanType(), True)])\n",
    "        schema_all = StructType(struct_fields)\n",
    "\n",
    "        @pandas_udf(returnType=schema_all, functionType=PandasUDFType.GROUPED_MAP)\n",
    "        def get_model_result(df_run):\n",
    "            split_table = SplitInlineModelResults.get_split_features(df=df_run, grpby_list=grpby_list)\n",
    "            split_table_grpby = split_table.groupby(grpby_list + ['INLINE_PARAMETER_ID', 'algorithm_satisfied'])[\n",
    "                'importance'].sum().reset_index(drop=False)\n",
    "            return split_table_grpby\n",
    "\n",
    "        return df.groupby(by).apply(get_model_result)\n",
    "\n",
    "    @staticmethod\n",
    "    def add_certain_column(df: pyspark.sql.dataframe, grps_all, grpby_list, request_id: str, unique_params_within_groups):\n",
    "        \n",
    "        split_res_update = df.unionByName(unique_params_within_groups, allowMissingColumns=True)\n",
    "        split_res_update = split_res_update.dropDuplicates(grpby_list + ['INLINE_PARAMETER_ID'])\n",
    "        print(\"split_res_update:\", split_res_update.count())\n",
    "        split_res_update.show()\n",
    "        \n",
    "        split_res_update = split_res_update.join(grps_all, on=grpby_list, how='left')\n",
    "        print(\"split_res_update:\", split_res_update.count())\n",
    "        split_res_update.show()\n",
    "        \n",
    "#         split_res_update = split_res_update.withColumn(\"algorithm_satisfied\", split_res_update[\"algorithm_satisfied\"].cast(StringType()))\n",
    "#         split_res_update = split_res_update.withColumn(\"conditions_satisfied\", split_res_update[\"conditions_satisfied\"].cast(StringType()))\n",
    "#         split_res_update_pandas = split_res_update.toPandas()\n",
    "#         split_res_update_pandas.to_csv(\"split_res_update_pandas1.csv\")\n",
    "\n",
    "\n",
    "        total_importance = split_res_update.select(spark_sum(\"importance\")).collect()[0][0]\n",
    "        split_res_update = (split_res_update.withColumn(\"weight\", col(\"importance\") / total_importance)\n",
    "              .withColumn(\"weight_percent\", col(\"weight\") * 100))\n",
    "\n",
    "        split_res_update = split_res_update.drop('importance', 'algorithm_satisfied', 'conditions_satisfied')\n",
    "        \n",
    "\n",
    "        split_res_update = split_res_update.orderBy(col(\"weight\").desc())\n",
    "        split_res_update = (split_res_update.withColumn(\"good_num\", split_res_update[\"good_num\"].cast(FloatType()))\n",
    "              .withColumn(\"bad_num\", split_res_update[\"bad_num\"].cast(FloatType()))\n",
    "              .withColumn('index_no', monotonically_increasing_id() + 1)\n",
    "              .withColumn(\"request_id\", lit(request_id))\n",
    "              .withColumn(\"AVG_SPEC_CHK_RESULT_COUNT\", lit(0.0)))\n",
    "\n",
    "        info_list = ['PRODUCT_ID', 'OPER_NO', 'PRODG1']\n",
    "        for column in info_list:\n",
    "            if column not in split_res_update.columns:\n",
    "                split_res_update = split_res_update.withColumn(column, lit(None).cast(StringType()))\n",
    "        return split_res_update\n",
    "\n",
    "    def run(self):\n",
    "        df = self.df.withColumn('temp', lit(0))\n",
    "        split_res = self.split_calculate_features(df=df, grpby_list=self.grpby_list, by='temp')\n",
    "        print(\"split_res:\", split_res.count())\n",
    "        split_res.show()\n",
    "        \n",
    "        final_res = self.add_certain_column(df=split_res, \n",
    "                                            grps_all=self.grps_all,\n",
    "                                            grpby_list = self.grpby_list,\n",
    "                                            request_id=self.request_id, \n",
    "                                            unique_params_within_groups=self.unique_params_within_groups)\n",
    "        print(\"final_res:\", final_res.count())\n",
    "        final_res.show()\n",
    "        \n",
    "        return final_res"
   ]
  },
  {
   "cell_type": "code",
   "execution_count": 157,
   "id": "eab1c209",
   "metadata": {
    "scrolled": true
   },
   "outputs": [
    {
     "name": "stdout",
     "output_type": "stream",
     "text": [
      "510\n",
      "+-----------------+-------------------+\n",
      "|          OPER_NO|INLINE_PARAMETER_ID|\n",
      "+-----------------+-------------------+\n",
      "|1U.EQW10,1U.PQW10|               46W0|\n",
      "|1U.EQW10,1U.PQW10|               48W0|\n",
      "|1U.EQW10,1U.PQW10|               84W0|\n",
      "|1U.EQW10,1U.PQW10|               74W0|\n",
      "|1U.EQW10,1U.PQW10|               25W0|\n",
      "|1U.EQW10,1U.PQW10|               60W0|\n",
      "|1U.EQW10,1U.PQW10|               78W0|\n",
      "|1U.EQW10,1U.PQW10|               01W0|\n",
      "|1U.EQW10,1U.PQW10|               47W0|\n",
      "|1U.EQW10,1U.PQW10|               37W0|\n",
      "|1U.EQW10,1U.PQW10|               67W0|\n",
      "|1U.EQW10,1U.PQW10|               07W0|\n",
      "|1U.EQW10,1U.PQW10|               50W0|\n",
      "|1U.EQW10,1U.PQW10|              DNW02|\n",
      "|1U.EQW10,1U.PQW10|               29W0|\n",
      "|1U.EQW10,1U.PQW10|               53W0|\n",
      "|1U.EQW10,1U.PQW10|               75W0|\n",
      "|1U.EQW10,1U.PQW10|               76W0|\n",
      "|1U.EQW10,1U.PQW10|               04W0|\n",
      "|1U.EQW10,1U.PQW10|               41W0|\n",
      "+-----------------+-------------------+\n",
      "only showing top 20 rows\n",
      "\n"
     ]
    }
   ],
   "source": [
    "grouped = df_original.groupby('OPER_NO').agg(collect_set('INLINE_PARAMETER_ID').alias('unique_values'))\n",
    "exploded = grouped.select(col('OPER_NO'), explode(col('unique_values')).alias('INLINE_PARAMETER_ID'))\n",
    "unique_params_within_groups = exploded.dropDuplicates()\n",
    "print(unique_params_within_groups.count())\n",
    "unique_params_within_groups.show()"
   ]
  },
  {
   "cell_type": "code",
   "execution_count": 158,
   "id": "15b39da4",
   "metadata": {},
   "outputs": [],
   "source": [
    "# unique_params_within_groups.filter(\"OPER_NO == '1U.EQW10,1U.PQW10'\").count()"
   ]
  },
  {
   "cell_type": "code",
   "execution_count": null,
   "id": "cf05146d",
   "metadata": {
    "scrolled": true
   },
   "outputs": [
    {
     "name": "stdout",
     "output_type": "stream",
     "text": [
      "split_res: 63\n",
      "+-----------------+-------------------+----------+-------------------+\n",
      "|          OPER_NO|INLINE_PARAMETER_ID|importance|algorithm_satisfied|\n",
      "+-----------------+-------------------+----------+-------------------+\n",
      "|1F.FQE10,1C.CDG10|               EEW0|0.96751493|               true|\n",
      "|1F.FQE10,1C.CDG10|               FEW0| 1.4014659|               true|\n",
      "|1F.FQE10,1C.CDG10|               HFT0|0.94151205|               true|\n",
      "|1F.FQE10,1C.CDG10|               OEW0|       0.0|               true|\n",
      "|1F.FQE10,1C.CDG10|               PEW0|       0.0|               true|\n",
      "|1F.FQE10,1C.CDG10|               PTW0| 0.9999995|               true|\n",
      "|1F.FQE10,1C.CDG10|               REW0|  0.782774|               true|\n",
      "|1F.FQE10,1C.CDG10|               SEW0|       0.0|               true|\n",
      "|1F.FQE10,1C.CDG10|               SFW0|0.77940005|               true|\n",
      "|1F.FQE10,1C.CDG10|               TSW0| 0.9823262|               true|\n",
      "|         1V.EQW10|               01W0|       0.0|              false|\n",
      "|         1V.EQW10|               02W0|       0.0|              false|\n",
      "|         1V.EQW10|               03W0|       0.0|              false|\n",
      "|         1V.EQW10|               04W0|       0.0|              false|\n",
      "|         1V.EQW10|               05W0|       0.0|              false|\n",
      "|         1V.EQW10|               06W0|       0.0|              false|\n",
      "|         1V.EQW10|               07W0|       0.0|              false|\n",
      "|         1V.EQW10|               08W0|       0.0|              false|\n",
      "|         1V.EQW10|               09W0|       0.0|              false|\n",
      "|         1V.EQW10|               10W0|       0.0|              false|\n",
      "+-----------------+-------------------+----------+-------------------+\n",
      "only showing top 20 rows\n",
      "\n",
      "split_res_update: 510\n",
      "+--------+-------------------+----------+-------------------+\n",
      "| OPER_NO|INLINE_PARAMETER_ID|importance|algorithm_satisfied|\n",
      "+--------+-------------------+----------+-------------------+\n",
      "|1V.EQW10|               11W0|       0.0|              false|\n",
      "|1V.EQW10|               XSIG|       0.0|              false|\n",
      "|1V.EQW10|               32W0|       0.0|              false|\n",
      "|1V.EQW10|               36W0|       0.0|              false|\n",
      "|1V.EQW10|               39W0|       0.0|              false|\n",
      "|1V.EQW10|               23W0|       0.0|              false|\n",
      "|1V.EQW10|               05W0|       0.0|              false|\n",
      "|1V.EQW10|               07W0|       0.0|              false|\n",
      "|1V.EQW10|              DNW06|       0.0|              false|\n",
      "|1V.EQW10|               43W0|       0.0|              false|\n",
      "|1V.EQW10|               08W0|       0.0|              false|\n",
      "|1V.EQW10|               19W0|       0.0|              false|\n",
      "|1V.EQW10|               37W0|       0.0|              false|\n",
      "|1V.EQW10|               20W0|       0.0|              false|\n",
      "|1V.EQW10|              DNW05|       0.0|              false|\n",
      "|1V.EQW10|               02W0|       0.0|              false|\n",
      "|1V.EQW10|               40W0|       0.0|              false|\n",
      "|1V.EQW10|               41W0|       0.0|              false|\n",
      "|1V.EQW10|               27W0|       0.0|              false|\n",
      "|1V.EQW10|               31W0|       0.0|              false|\n",
      "+--------+-------------------+----------+-------------------+\n",
      "only showing top 20 rows\n",
      "\n",
      "split_res_update: 510\n",
      "+--------+-------------------+----------+-------------------+--------+-------+--------------------+\n",
      "| OPER_NO|INLINE_PARAMETER_ID|importance|algorithm_satisfied|good_num|bad_num|conditions_satisfied|\n",
      "+--------+-------------------+----------+-------------------+--------+-------+--------------------+\n",
      "|1V.EQW10|               11W0|       0.0|              false|       2|      6|                true|\n",
      "|1V.EQW10|               XSIG|       0.0|              false|       2|      6|                true|\n",
      "|1V.EQW10|               32W0|       0.0|              false|       2|      6|                true|\n",
      "|1V.EQW10|               36W0|       0.0|              false|       2|      6|                true|\n",
      "|1V.EQW10|               39W0|       0.0|              false|       2|      6|                true|\n",
      "|1V.EQW10|               23W0|       0.0|              false|       2|      6|                true|\n",
      "|1V.EQW10|               05W0|       0.0|              false|       2|      6|                true|\n",
      "|1V.EQW10|               07W0|       0.0|              false|       2|      6|                true|\n",
      "|1V.EQW10|              DNW06|       0.0|              false|       2|      6|                true|\n",
      "|1V.EQW10|               43W0|       0.0|              false|       2|      6|                true|\n",
      "|1V.EQW10|               08W0|       0.0|              false|       2|      6|                true|\n",
      "|1V.EQW10|               19W0|       0.0|              false|       2|      6|                true|\n",
      "|1V.EQW10|               37W0|       0.0|              false|       2|      6|                true|\n",
      "|1V.EQW10|               20W0|       0.0|              false|       2|      6|                true|\n",
      "|1V.EQW10|              DNW05|       0.0|              false|       2|      6|                true|\n",
      "|1V.EQW10|               02W0|       0.0|              false|       2|      6|                true|\n",
      "|1V.EQW10|               40W0|       0.0|              false|       2|      6|                true|\n",
      "|1V.EQW10|               41W0|       0.0|              false|       2|      6|                true|\n",
      "|1V.EQW10|               27W0|       0.0|              false|       2|      6|                true|\n",
      "|1V.EQW10|               31W0|       0.0|              false|       2|      6|                true|\n",
      "+--------+-------------------+----------+-------------------+--------+-------+--------------------+\n",
      "only showing top 20 rows\n",
      "\n"
     ]
    }
   ],
   "source": [
    "final_res = SplitInlineModelResults(df=res, grpby_list=grpby_list, request_id='inline',\n",
    "                                    grps_all=grps_all, unique_params_within_groups=unique_params_within_groups).run()"
   ]
  },
  {
   "cell_type": "code",
   "execution_count": null,
   "id": "82236955",
   "metadata": {},
   "outputs": [],
   "source": []
  },
  {
   "cell_type": "code",
   "execution_count": null,
   "id": "6e0da09d",
   "metadata": {},
   "outputs": [],
   "source": []
  },
  {
   "cell_type": "code",
   "execution_count": 118,
   "id": "accd0129",
   "metadata": {},
   "outputs": [],
   "source": [
    "# final_res = final_res.withColumn(\"algorithm_satisfied\", final_res[\"algorithm_satisfied\"].cast(StringType()))\n",
    "final_res_pandas = final_res.toPandas()\n",
    "\n",
    "final_res_pandas.to_csv('final_res_pandas.csv')"
   ]
  },
  {
   "cell_type": "code",
   "execution_count": null,
   "id": "c12504bd",
   "metadata": {},
   "outputs": [],
   "source": []
  },
  {
   "cell_type": "code",
   "execution_count": null,
   "id": "eb6c737c",
   "metadata": {},
   "outputs": [],
   "source": []
  },
  {
   "cell_type": "code",
   "execution_count": null,
   "id": "d09671f8",
   "metadata": {},
   "outputs": [],
   "source": []
  },
  {
   "cell_type": "code",
   "execution_count": null,
   "id": "f2863d03",
   "metadata": {},
   "outputs": [],
   "source": []
  },
  {
   "cell_type": "code",
   "execution_count": null,
   "id": "f9a06705",
   "metadata": {},
   "outputs": [],
   "source": []
  },
  {
   "cell_type": "code",
   "execution_count": null,
   "id": "01ea223c",
   "metadata": {},
   "outputs": [],
   "source": []
  },
  {
   "cell_type": "code",
   "execution_count": null,
   "id": "53e1b4f8",
   "metadata": {},
   "outputs": [],
   "source": []
  },
  {
   "cell_type": "code",
   "execution_count": null,
   "id": "cc92c52d",
   "metadata": {},
   "outputs": [],
   "source": []
  },
  {
   "cell_type": "code",
   "execution_count": null,
   "id": "c423d6a3",
   "metadata": {},
   "outputs": [],
   "source": []
  },
  {
   "cell_type": "code",
   "execution_count": null,
   "id": "32e3b6fd",
   "metadata": {},
   "outputs": [],
   "source": []
  }
 ],
 "metadata": {
  "kernelspec": {
   "display_name": "Python 3 (ipykernel)",
   "language": "python",
   "name": "python3"
  },
  "language_info": {
   "codemirror_mode": {
    "name": "ipython",
    "version": 3
   },
   "file_extension": ".py",
   "mimetype": "text/x-python",
   "name": "python",
   "nbconvert_exporter": "python",
   "pygments_lexer": "ipython3",
   "version": "3.9.13"
  }
 },
 "nbformat": 4,
 "nbformat_minor": 5
}
