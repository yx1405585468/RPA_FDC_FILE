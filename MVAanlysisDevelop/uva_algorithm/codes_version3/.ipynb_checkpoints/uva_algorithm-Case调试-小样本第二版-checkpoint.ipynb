{
 "cells": [
  {
   "cell_type": "code",
   "execution_count": 1,
   "id": "a7541854",
   "metadata": {},
   "outputs": [
    {
     "name": "stderr",
     "output_type": "stream",
     "text": [
      "WARNING:root:'PYARROW_IGNORE_TIMEZONE' environment variable was not set. It is required to set this environment variable to '1' in both driver and executor sides if you use pyarrow>=2.0.0. pandas-on-Spark will set it for you but it does not work if there is a Spark context already launched.\n"
     ]
    }
   ],
   "source": [
    "import pandas as pd\n",
    "import pyspark.pandas as ps\n",
    "import requests\n",
    "import json\n",
    "\n",
    "from sqlalchemy import create_engine\n",
    "from pca import pca\n",
    "from pyspark.sql.functions import pandas_udf, PandasUDFType, max, col, countDistinct, when, rank, lit\n",
    "from pyspark.sql.types import StructType, StructField, IntegerType, StringType, FloatType\n",
    "from pyspark.sql.window import Window\n",
    "\n",
    "from sklearn.model_selection import train_test_split, GridSearchCV\n",
    "from sklearn.preprocessing import StandardScaler\n",
    "from sklearn.ensemble import RandomForestClassifier\n",
    "from sklearn.impute import SimpleImputer\n",
    "from sklearn.metrics import roc_auc_score\n",
    "from sklearn.pipeline import Pipeline\n",
    "from imblearn.under_sampling import ClusterCentroids\n",
    "\n",
    "# from backend_spark.doris_common.doris_client import DorisClient\n",
    "from functools import reduce\n",
    "from pyspark.sql import DataFrame\n",
    "from typing import Optional"
   ]
  },
  {
   "cell_type": "code",
   "execution_count": null,
   "id": "46fc960f",
   "metadata": {},
   "outputs": [],
   "source": [
    "#####################################################################################\n",
    "#######################################解析SQL########################################\n",
    "#####################################################################################\n",
    "# doris 数据库连接\n",
    "client = DorisClient(\"10.52.199.81\", 18030, 9030, user=\"root\", password=\"Nexchip@123\", data_base=\"etl\",\n",
    "                     mem_limit=\"68719476736\")\n",
    "                     \n",
    "\"\"\"解析sql 的辅助函数\"\"\"\n",
    "def read_sql(sql_stat, read_client=client, session=spark):\n",
    "    df1 = read_client.doris_read(session, sql_stat)\n",
    "    return df1\n",
    "\n",
    "\n",
    "def process_like(key: str, value: list[str]) -> str:\n",
    "    # 处理模糊条件的匹配: (key like 'aa%' or key like \"bb%\")\n",
    "    key = keyword_map_from_json_to_table.get(key)\n",
    "    v_join = ' or '.join([f\"d1.{key} like  '{v.replace('*', '%')}' \" for v in value])\n",
    "    return \"({})\".format(v_join)\n",
    "\n",
    "\n",
    "def process_not_like(key: str, value: list[str]) -> str:\n",
    "    # 处理非模糊条件的匹配:key in ('aa', 'bb')\n",
    "    key = keyword_map_from_json_to_table.get(key)\n",
    "    v_join = \",\".join([f\"'{v}'\" for v in value])\n",
    "    return \"d1.{} in ({})\".format(key, v_join)\n",
    "\n",
    "\n",
    "def test_not_like():\n",
    "    result = (process_not_like(\"tool_name\", [\"aa\", \"bb\", \"cc\"]))\n",
    "    assert \"tool_name in ('aa','bb','cc')\" == result, \"not like 验证失败\"\n",
    "\n",
    "\n",
    "def test_like():\n",
    "    result = process_like(\"tool_name\", [\"aa*\", \"bb*\", \"cc*\"])\n",
    "    assert \"(tool_name like  'aa%'  or tool_name like  'bb%'  or tool_name like  'cc%' )\" == result, \"like 验证失败\"\n",
    "\n",
    "\n",
    "def process_one_keyword(key, value: list[str]) -> Optional[str]:\n",
    "    if len(value) == 0:\n",
    "        return None\n",
    "\n",
    "    not_like_list = [v for v in value if \"*\" not in v]\n",
    "    like_list = [v for v in value if \"*\" in v]\n",
    "\n",
    "    # 处理模糊条件\n",
    "    if len(not_like_list) != 0:\n",
    "        not_like_sql_str = process_not_like(key, not_like_list)\n",
    "    else:\n",
    "        not_like_sql_str = \"\"\n",
    "\n",
    "    # 处理非模糊条件\n",
    "\n",
    "    if len(like_list) != 0:\n",
    "        like_sql_str = process_like(key, like_list)\n",
    "    else:\n",
    "        like_sql_str = \"\"\n",
    "\n",
    "    # 去除为一个元素为空字符串的情况的情况的情况\n",
    "    concat_sql_str_list = [sql_str for sql_str in [like_sql_str, not_like_sql_str] if len(sql_str) != 0]\n",
    "    # 使用or 操作 单字段过滤 的like 和 not like 语句\n",
    "    return \"(\" + \" or \".join(concat_sql_str_list) + \")\"\n",
    "\n",
    "\n",
    "def check_time_start_end(min_time, max_time):\n",
    "    if min_time is not None and max_time is not None:\n",
    "        pass\n",
    "    else:\n",
    "        raise ValueError(\"起始时间和结束时间必须全填\")\n",
    "\n",
    "def get_time_selection_sql(time_keyword, max_time=None, min_time=None):\n",
    "    \"\"\"\n",
    "    获取时间区间的筛选的sql, 起始时间和结束时间都是可选的\n",
    "    :param time_keyword:\n",
    "    :param max_time:\n",
    "    :param min_time:\n",
    "    :return:\n",
    "    \"\"\"\n",
    "    # 根据取值，生成单个时间过滤条件\n",
    "    if min_time:\n",
    "        time_part_min = f\"d1.{time_keyword} >= '{min_time}'\"\n",
    "    else:\n",
    "        time_part_min = \" \"\n",
    "\n",
    "    if max_time:\n",
    "        time_part_max = f\"d1.{time_keyword} < '{max_time}'\"\n",
    "    else:\n",
    "        time_part_max = \" \"\n",
    "\n",
    "    # 如果存在，拼接多个查询条件，或者只保留一个过滤条件\n",
    "    if (max_time is not None) and (min_time is not None):\n",
    "        time_sql = f' {time_part_min} and {time_part_max}'\n",
    "    elif (max_time is None) and (min_time is None):\n",
    "        time_sql = \" \"\n",
    "    else:\n",
    "        time_sql = time_part_max if max_time else time_part_min\n",
    "\n",
    "    return time_sql\n",
    "\n",
    "def concat_time_filter_sql_with_other_keyword_sql(time_filter_sql: str, other_keyword_sql:str) -> str:\n",
    "    \"\"\"\n",
    "    拼接时间过滤条件与非时间过滤条件\n",
    "    :param time_filter_sql:\n",
    "    :param other_keyword_sql:\n",
    "    :return:\n",
    "    \"\"\"\n",
    "    time_strip = time_filter_sql.strip()\n",
    "    other_strip = other_keyword_sql.strip()\n",
    "    if len(time_strip) == 0 and len(other_strip) == 0:\n",
    "        return \"\"\n",
    "    elif len(time_strip) != 0 and len(other_strip) == 0:\n",
    "        return  time_filter_sql\n",
    "    elif len(time_strip) == 0 and len(other_strip) != 0:\n",
    "        return other_keyword_sql\n",
    "    else:\n",
    "        return f'{time_filter_sql} and {other_keyword_sql}'\n",
    "    \n",
    "    \n",
    "def trans_select_condition_to_sql_with_label(select_condition_dict: dict, table_name: str) -> str:\n",
    "    # 查询条件转sql,并打标签，label '0': good wafer, '1': bad wafer\n",
    "    filter_sql_list = []\n",
    "    for keyword, value in select_condition_dict.items():\n",
    "        if keyword not in [\"dateRange\", \"waferId\", \"uploadId\", \"mergeProdg1\"]:\n",
    "            sql_filter_one_keyword = process_one_keyword(keyword, value)\n",
    "            if sql_filter_one_keyword is not None:\n",
    "                filter_sql_list.append(sql_filter_one_keyword)\n",
    "\n",
    "    # 处理时间区间\n",
    "    time_bin = select_condition_dict.get(\"dateRange\")\n",
    "\n",
    "\n",
    "    if len(time_bin) == 1: # list[dict]\n",
    "        time_bin_dict = time_bin[0]\n",
    "        min_time = time_bin_dict.get(\"start\")\n",
    "        max_time = time_bin_dict.get(\"end\")\n",
    "    else:\n",
    "        min_time = None\n",
    "        max_time = None \n",
    "\n",
    "    # 去除时间检查，时间范围为可选输入\n",
    "    # 检查起始时间和结束时间全部非空\n",
    "    # check_time_start_end(min_time, max_time)\n",
    "\n",
    "    # 处理waferId\n",
    "    waferId = select_condition_dict.get(\"waferId\")\n",
    "    good_wafer_list = waferId.get(\"good\")\n",
    "    bad_wafer_list = waferId.get(\"bad\")\n",
    "    upload_id = select_condition_dict.get(\"uploadId\")\n",
    "    # upload_id = '20231116152808771'\n",
    "\n",
    "    # 根据time 过滤条件,生成sql\n",
    "    time_filter_sql = get_time_selection_sql(time_keyword=keyword_map_from_json_to_table.get('dateRange'), max_time=max_time, min_time=min_time)\n",
    "\n",
    "\n",
    "    #if len(good_wafer_list) > 0 and len(bad_wafer_list) > 0:\n",
    "    if upload_id is not None and len(upload_id) > 0:\n",
    "\n",
    "        # good wafer, bad wafe 均有指定，需要从层层字段的过滤的条件下选择\n",
    "        # good_wafer_filter_sql = process_one_keyword(\"waferId\", good_wafer_list)\n",
    "        # bad_wafer_filter_sql = process_one_keyword(\"waferId\", bad_wafer_list)\n",
    "        # # or 拼接\n",
    "        # wafer_filter_sql = \" or \".join([good_wafer_filter_sql, bad_wafer_filter_sql])\n",
    "        # wafer_filter_sql = f\"({wafer_filter_sql})\"\n",
    "        # # 加入wafer 过滤条件\n",
    "        # filter_sql_list.append(wafer_filter_sql)\n",
    "        other_keyword_filter = \" and \".join(filter_sql_list)\n",
    "\n",
    "        case_when_statment = f\"\"\"  (case\n",
    "        when d2.GB_FLAG = 'good' then 0 \n",
    "        else 1\n",
    "        end ) as label\n",
    "        \"\"\"\n",
    "\n",
    "        filter_sql_concat = concat_time_filter_sql_with_other_keyword_sql(time_filter_sql, other_keyword_filter)\n",
    "\n",
    "        if filter_sql_concat != '':\n",
    "            select_sql = f\"\"\"select *, {case_when_statment} from {table_name} d1  \n",
    "            join etl.UPLOADED_WAFER d2\n",
    "        on d1.WAFER_ID = d2.WAFER_ID\n",
    "\n",
    "            where {filter_sql_concat} and d2.UPLOAD_ID = '{upload_id}'\"\"\"\n",
    "        else:\n",
    "            select_sql = f\"\"\"select *, {case_when_statment} from {table_name} d1  \n",
    "            join etl.UPLOADED_WAFER d2\n",
    "        on d1.WAFER_ID = d2.WAFER_ID where d2.UPLOAD_ID = '{upload_id}'\"\"\"\n",
    "\n",
    "    else: \n",
    "        raise ValueError(\"good bad wafer 都必须选！\")\n",
    "\n",
    "    # elif len(good_wafer_list) > 0 and len(bad_wafer_list) == 0:\n",
    "    #     # 选good, 剩余为 bad\n",
    "\n",
    "    #     other_keyword_filter = \" and \".join(filter_sql_list)\n",
    "    #     good_wafer_filter_sql = process_one_keyword(\"waferId\", good_wafer_list)\n",
    "\n",
    "    #     case_when_statment = f\"(case when {good_wafer_filter_sql} then 0 else 1  end ) label\"\n",
    "    #     filter_sql_concat = concat_time_filter_sql_with_other_keyword_sql(time_filter_sql, other_keyword_filter)\n",
    "    #     select_sql = f\"select *, {case_when_statment} from {table_name} where {filter_sql_concat}\"\n",
    "\n",
    "    # elif len(good_wafer_list) == 0 and len(bad_wafer_list) > 0:\n",
    "    #     # 选bad, 剩余为good\n",
    "    #     other_keyword_filter = \" and \".join(filter_sql_list)\n",
    "    #     bad_wafer_filter_sql = process_one_keyword(\"waferId\", bad_wafer_list)\n",
    "    #     case_when_statment = f\"\"\"(case when {bad_wafer_filter_sql} then 1 else 0 end ) label\"\"\"\n",
    "    #     filter_sql_concat = concat_time_filter_sql_with_other_keyword_sql(time_filter_sql, other_keyword_filter)\n",
    "    #     select_sql = f\"select *, {case_when_statment} from {table_name} where {filter_sql_concat}\"\n",
    "    #     # case1 stat results 表没有case_info 时间列，暂时去掉\n",
    "        # select_sql = f\"select *, {case_when_statment} from {table_name} where {other_keyword_filter}\"\n",
    "\n",
    "    # print(select_sql)    \n",
    "    select_sql = select_sql.replace(\"*\",  \"d1.WAFER_ID, d1.TOOL_ID, d1.RUN_ID, d1.EQP_NAME, d1.PRODUCT_ID, d1.PRODG1, d1.TOOL_NAME, d1.LOT_ID, d1.RECIPE_NAME, d1.OPER_NO, d1.parametric_name, d1.CASE_INFO, d1.STATUS, d1.STATISTIC_RESULT\")\n",
    "    if table_name == \"etl.DWD_POC_CASE_FD_UVA_DATA_TEST\":\n",
    "        select_sql = f\"{select_sql} and d1.STATUS != 'ERROR'\"\n",
    "    print(\"select_sql\", select_sql) \n",
    "    return select_sql\n",
    " \n",
    "\n",
    "\n",
    "def get_data_from_doris(select_condition_list, table_name):\n",
    "    select_df_list = [read_sql(trans_select_condition_to_sql_with_label(select_condition_dict, table_name)) for select_condition_dict in select_condition_list]\n",
    "    # 多个进行union\n",
    "    df1 = reduce(DataFrame.unionAll, select_df_list)\n",
    "    return df1"
   ]
  },
  {
   "cell_type": "code",
   "execution_count": 84,
   "id": "2377dc0a",
   "metadata": {},
   "outputs": [],
   "source": [
    "############################################################################\n",
    "##############################从kafka消息读取需要的资料#########################\n",
    "############################################################################\n",
    "def get_some_info(df:pd.DataFrame):\n",
    "    if len(df) > 0:\n",
    "        df = df.head(1)\n",
    "\n",
    "    request_id = df[\"requestId\"].values[0]\n",
    "    request_params = df[\"requestParam\"].values[0]\n",
    "    # 避免存在单引号，因为json 引号只有双引号\n",
    "    request_params = request_params.replace('\\'', \"\\\"\")   \n",
    "    parse_dict = json.loads(request_params)\n",
    "    merge_prodg1 = parse_dict[0]['mergeProdg1']\n",
    "    \n",
    "    try:\n",
    "        merge_operno = list(parse_dict[0]['mergeOperno'])\n",
    "    except KeyError:\n",
    "        merge_operno = None\n",
    "\n",
    "    if merge_prodg1 == '1':\n",
    "        grpby_list = ['OPER_NO', 'TOOL_NAME']\n",
    "    elif merge_prodg1 == '0':\n",
    "        grpby_list = ['PRODG1', 'OPER_NO', 'TOOL_NAME']\n",
    "    else:\n",
    "        raise ValueError\n",
    "    return parse_dict, request_id, grpby_list, merge_operno"
   ]
  },
  {
   "cell_type": "code",
   "execution_count": 88,
   "id": "af460397",
   "metadata": {},
   "outputs": [
    {
     "name": "stderr",
     "output_type": "stream",
     "text": [
      "/usr/local/spark/python/pyspark/pandas/internal.py:1573: FutureWarning: iteritems is deprecated and will be removed in a future version. Use .items instead.\n",
      "  fields = [\n",
      "/usr/local/spark/python/pyspark/sql/pandas/conversion.py:486: FutureWarning: iteritems is deprecated and will be removed in a future version. Use .items instead.\n",
      "  for column, series in pdf.iteritems():\n",
      "/usr/local/spark/python/pyspark/pandas/utils.py:975: PandasAPIOnSparkAdviceWarning: If `index_col` is not specified for `to_spark`, the existing index is lost when converting to Spark DataFrame.\n",
      "  warnings.warn(message, PandasAPIOnSparkAdviceWarning)\n"
     ]
    }
   ],
   "source": [
    "# 真正的kafka消息里全都是双引号\n",
    "json_loads_dict = {\n",
    "    \"requestId\": \"fff\",\n",
    "    \"requestParam\": [\n",
    "        {'dateRange': [{'start': \"2023-12-01 00:00:00\", 'end': \"2024-01-15 00:00:00\"}], \n",
    "         'lot': [], \n",
    "         'operNo': [\"1G.EEG1R\",\"1G.PPB10\"], \n",
    "         'prodg1': [], \n",
    "         'productId': [], \n",
    "         'eqp': [], \n",
    "         'tool': [], \n",
    "         'recipeName': [], \n",
    "         'waferId': {'good': [\"NBX392-15\",\"NBX392-20\",\"NBX392-24\",\"NBX391-24\",\"NBX391-25\",\"NBX548-09\",\n",
    "                     \"NBX391-01\",\"NBX391-02\",\"NBX391-13\",\"NBX391-17\"], \n",
    "                     'bad': [\"NBX500-10\",\"NBX500-01\",\"NBX500-09\"]}, \n",
    "         'uploadId': '20240110170016023', \n",
    "         'mergeProdg1': '0',\n",
    "#          'mergeOperno': [{\"2F.CDS10_XX.TDS01\": [\"2F.CDS10\", \"XX.TDS01\"]},\n",
    "#                            {\"2F.CDS20_XX.CDS20\": [\"2F.CDS20\", \"XX.CDS20\"]}]\n",
    "        }\n",
    "    ]\n",
    "}\n",
    "\n",
    "df_pa = pd.DataFrame({\n",
    "    \"requestId\": [json_loads_dict[\"requestId\"]], \n",
    "    \"requestParam\": [json.dumps(json_loads_dict[\"requestParam\"])]})\n",
    "\n",
    "df1 = ps.from_pandas(df_pa).to_spark()"
   ]
  },
  {
   "cell_type": "code",
   "execution_count": 89,
   "id": "dbd293ea",
   "metadata": {},
   "outputs": [
    {
     "name": "stdout",
     "output_type": "stream",
     "text": [
      "parse_dict是： [{'dateRange': [{'start': '2023-12-01 00:00:00', 'end': '2024-01-15 00:00:00'}], 'lot': [], 'operNo': ['1G.EEG1R', '1G.PPB10'], 'prodg1': [], 'productId': [], 'eqp': [], 'tool': [], 'recipeName': [], 'waferId': {'good': ['NBX392-15', 'NBX392-20', 'NBX392-24', 'NBX391-24', 'NBX391-25', 'NBX548-09', 'NBX391-01', 'NBX391-02', 'NBX391-13', 'NBX391-17'], 'bad': ['NBX500-10', 'NBX500-01', 'NBX500-09']}, 'uploadId': '20240110170016023', 'mergeProdg1': '0'}]\n",
      "parse_dict的类型是： <class 'list'>\n",
      "request_id是： fff\n",
      "grpby_list是： ['PRODG1', 'OPER_NO', 'TOOL_NAME']\n",
      "merge_operno是： None\n"
     ]
    }
   ],
   "source": [
    "#  1. 解析json 为字典， df1为kafka输入的结果数据，获取到parse_dict, request_id, grpby_list\n",
    "df2 = df1.toPandas() \n",
    "parse_dict, request_id, grpby_list, merge_operno = get_some_info(df2)\n",
    "print(\"parse_dict是：\", parse_dict)\n",
    "print(\"parse_dict的类型是：\", type(parse_dict))\n",
    "print(\"request_id是：\", request_id)\n",
    "print(\"grpby_list是：\", grpby_list)\n",
    "print(\"merge_operno是：\", merge_operno)\n",
    "\n",
    "# 2. 从kafka 关键字映射都具体数据源中的字段,没有的可以删除\n",
    "# keyword_map_from_json_to_table: dict = {\n",
    "#     \"prodg1\": \"PRODG1\",\n",
    "#     \"waferId\": \"WAFER_ID\",\n",
    "#     \"dateRange\": \"START_TIME\",\n",
    "#     \"productId\": \"PRODUCT_ID\",\n",
    "#     \"operNo\": \"OPER_NO\",\n",
    "#     \"eqp\": \"EQP_NAME\",\n",
    "#     \"tool\": \"TOOL_NAME\",\n",
    "#     \"lot\": \"LOT_ID\",\n",
    "#     \"recipeName\": \"RECIPE_NAME\"}\n",
    "\n",
    "# # 3. 获取查询条件list\n",
    "# select_condition_list = parse_dict\n",
    "\n",
    "# # 4. 指定查询表名, 根据实际情况需要修改\n",
    "# table_name = \"etl.DWD_POC_CASE_FD_UVA_DATA_TEST\""
   ]
  },
  {
   "cell_type": "code",
   "execution_count": 72,
   "id": "86c7cb16",
   "metadata": {},
   "outputs": [
    {
     "data": {
      "text/plain": [
       "(10, 38)"
      ]
     },
     "execution_count": 72,
     "metadata": {},
     "output_type": "execute_result"
    }
   ],
   "source": [
    "df_pandas = pd.read_csv(\"small4.csv\")\n",
    "df_pandas.shape"
   ]
  },
  {
   "cell_type": "code",
   "execution_count": 87,
   "id": "893f55d4",
   "metadata": {
    "scrolled": true
   },
   "outputs": [
    {
     "data": {
      "text/html": [
       "<div>\n",
       "<style scoped>\n",
       "    .dataframe tbody tr th:only-of-type {\n",
       "        vertical-align: middle;\n",
       "    }\n",
       "\n",
       "    .dataframe tbody tr th {\n",
       "        vertical-align: top;\n",
       "    }\n",
       "\n",
       "    .dataframe thead th {\n",
       "        text-align: right;\n",
       "    }\n",
       "</style>\n",
       "<table border=\"1\" class=\"dataframe\">\n",
       "  <thead>\n",
       "    <tr style=\"text-align: right;\">\n",
       "      <th></th>\n",
       "      <th>TOOL_ID</th>\n",
       "      <th>TOOL_NAME</th>\n",
       "      <th>RUN_ID</th>\n",
       "      <th>EQP_NAME</th>\n",
       "      <th>CASE_INFO</th>\n",
       "      <th>PRODUCT_ID</th>\n",
       "      <th>PRODG1</th>\n",
       "      <th>OPER_NO</th>\n",
       "      <th>LOT_ID</th>\n",
       "      <th>WAFER_ID</th>\n",
       "      <th>...</th>\n",
       "      <th>LOWER_OUTLIER</th>\n",
       "      <th>UPPER_OUTLIER</th>\n",
       "      <th>RULES_ENABLED</th>\n",
       "      <th>ALARM_RULE</th>\n",
       "      <th>RESULT</th>\n",
       "      <th>STATUS</th>\n",
       "      <th>REGION</th>\n",
       "      <th>ERROR_MSG</th>\n",
       "      <th>STATISTIC_RESULT</th>\n",
       "      <th>VERSION</th>\n",
       "    </tr>\n",
       "  </thead>\n",
       "  <tbody>\n",
       "    <tr>\n",
       "      <th>0</th>\n",
       "      <td>9279</td>\n",
       "      <td>PBT01_CLHA_4-12</td>\n",
       "      <td>365189</td>\n",
       "      <td>PBT01</td>\n",
       "      <td>2023-12-25</td>\n",
       "      <td>AFPNR901N.0C0C</td>\n",
       "      <td>L2800Z2N</td>\n",
       "      <td>1G.PPB10</td>\n",
       "      <td>NBX500.000</td>\n",
       "      <td>NBX500-01</td>\n",
       "      <td>...</td>\n",
       "      <td>NaN</td>\n",
       "      <td>NaN</td>\n",
       "      <td>1</td>\n",
       "      <td>NaN</td>\n",
       "      <td>149.953478</td>\n",
       "      <td>NORMAL</td>\n",
       "      <td>LOWER_NORMAL</td>\n",
       "      <td>NaN</td>\n",
       "      <td>149.953478</td>\n",
       "      <td>4</td>\n",
       "    </tr>\n",
       "    <tr>\n",
       "      <th>1</th>\n",
       "      <td>9280</td>\n",
       "      <td>PBT01_CLHA_4-21</td>\n",
       "      <td>359818</td>\n",
       "      <td>PBT01</td>\n",
       "      <td>2023-12-25</td>\n",
       "      <td>AFPNR901N.0C0C</td>\n",
       "      <td>L2800Z2N</td>\n",
       "      <td>1G.PPB10</td>\n",
       "      <td>NBX500.000</td>\n",
       "      <td>NBX500-10</td>\n",
       "      <td>...</td>\n",
       "      <td>NaN</td>\n",
       "      <td>NaN</td>\n",
       "      <td>1</td>\n",
       "      <td>NaN</td>\n",
       "      <td>150.015000</td>\n",
       "      <td>NORMAL</td>\n",
       "      <td>LOWER_NORMAL</td>\n",
       "      <td>NaN</td>\n",
       "      <td>150.015000</td>\n",
       "      <td>4</td>\n",
       "    </tr>\n",
       "    <tr>\n",
       "      <th>2</th>\n",
       "      <td>9279</td>\n",
       "      <td>PBT01_CLHA_4-12</td>\n",
       "      <td>366799</td>\n",
       "      <td>PBT01</td>\n",
       "      <td>2023-12-28</td>\n",
       "      <td>AFPNR901N.0B01</td>\n",
       "      <td>L2800Z2N</td>\n",
       "      <td>1G.PPB10</td>\n",
       "      <td>NBX548.110</td>\n",
       "      <td>NBX548-09</td>\n",
       "      <td>...</td>\n",
       "      <td>NaN</td>\n",
       "      <td>NaN</td>\n",
       "      <td>1</td>\n",
       "      <td>NaN</td>\n",
       "      <td>149.987500</td>\n",
       "      <td>NORMAL</td>\n",
       "      <td>LOWER_NORMAL</td>\n",
       "      <td>NaN</td>\n",
       "      <td>149.987500</td>\n",
       "      <td>4</td>\n",
       "    </tr>\n",
       "    <tr>\n",
       "      <th>3</th>\n",
       "      <td>9279</td>\n",
       "      <td>PBT01_CLHA_4-12</td>\n",
       "      <td>362253</td>\n",
       "      <td>PBT01</td>\n",
       "      <td>2023-12-20</td>\n",
       "      <td>AFPNR901N.0C0C</td>\n",
       "      <td>L2800Z2N</td>\n",
       "      <td>1G.PPB10</td>\n",
       "      <td>NBX500.000</td>\n",
       "      <td>NBX500-01</td>\n",
       "      <td>...</td>\n",
       "      <td>NaN</td>\n",
       "      <td>NaN</td>\n",
       "      <td>1</td>\n",
       "      <td>NaN</td>\n",
       "      <td>149.946667</td>\n",
       "      <td>NORMAL</td>\n",
       "      <td>LOWER_NORMAL</td>\n",
       "      <td>NaN</td>\n",
       "      <td>149.946667</td>\n",
       "      <td>4</td>\n",
       "    </tr>\n",
       "    <tr>\n",
       "      <th>4</th>\n",
       "      <td>9280</td>\n",
       "      <td>PBT01_CLHA_4-21</td>\n",
       "      <td>356904</td>\n",
       "      <td>PBT01</td>\n",
       "      <td>2023-12-20</td>\n",
       "      <td>AFPNR901N.0C0C</td>\n",
       "      <td>L2800Z2N</td>\n",
       "      <td>1G.PPB10</td>\n",
       "      <td>NBX500.000</td>\n",
       "      <td>NBX500-10</td>\n",
       "      <td>...</td>\n",
       "      <td>NaN</td>\n",
       "      <td>NaN</td>\n",
       "      <td>1</td>\n",
       "      <td>NaN</td>\n",
       "      <td>150.007500</td>\n",
       "      <td>NORMAL</td>\n",
       "      <td>LOWER_NORMAL</td>\n",
       "      <td>NaN</td>\n",
       "      <td>150.007500</td>\n",
       "      <td>4</td>\n",
       "    </tr>\n",
       "    <tr>\n",
       "      <th>5</th>\n",
       "      <td>9279</td>\n",
       "      <td>PBT01_CLHA_4-12</td>\n",
       "      <td>365191</td>\n",
       "      <td>PBT01</td>\n",
       "      <td>2023-12-25</td>\n",
       "      <td>AFPNR901N.0C0C</td>\n",
       "      <td>L2800Z2N</td>\n",
       "      <td>1G.PPB10</td>\n",
       "      <td>NBX500.000</td>\n",
       "      <td>NBX500-09</td>\n",
       "      <td>...</td>\n",
       "      <td>NaN</td>\n",
       "      <td>NaN</td>\n",
       "      <td>1</td>\n",
       "      <td>NaN</td>\n",
       "      <td>149.971250</td>\n",
       "      <td>NORMAL</td>\n",
       "      <td>LOWER_NORMAL</td>\n",
       "      <td>NaN</td>\n",
       "      <td>149.971250</td>\n",
       "      <td>4</td>\n",
       "    </tr>\n",
       "    <tr>\n",
       "      <th>6</th>\n",
       "      <td>9279</td>\n",
       "      <td>PBT01_CLHA_4-12</td>\n",
       "      <td>362255</td>\n",
       "      <td>PBT01</td>\n",
       "      <td>2023-12-20</td>\n",
       "      <td>AFPNR901N.0C0C</td>\n",
       "      <td>L2800Z2N</td>\n",
       "      <td>1G.PPB10</td>\n",
       "      <td>NBX500.000</td>\n",
       "      <td>NBX500-09</td>\n",
       "      <td>...</td>\n",
       "      <td>NaN</td>\n",
       "      <td>NaN</td>\n",
       "      <td>1</td>\n",
       "      <td>NaN</td>\n",
       "      <td>149.989167</td>\n",
       "      <td>NORMAL</td>\n",
       "      <td>LOWER_NORMAL</td>\n",
       "      <td>NaN</td>\n",
       "      <td>149.989167</td>\n",
       "      <td>4</td>\n",
       "    </tr>\n",
       "    <tr>\n",
       "      <th>7</th>\n",
       "      <td>9279</td>\n",
       "      <td>PBT01_CLHA_4-12</td>\n",
       "      <td>373798</td>\n",
       "      <td>PBT01</td>\n",
       "      <td>2024-01-09</td>\n",
       "      <td>AFPNR901N.0D0D</td>\n",
       "      <td>L2800Z2N</td>\n",
       "      <td>1G.PPB10</td>\n",
       "      <td>NBX392.010</td>\n",
       "      <td>NBX392-24</td>\n",
       "      <td>...</td>\n",
       "      <td>NaN</td>\n",
       "      <td>NaN</td>\n",
       "      <td>1</td>\n",
       "      <td>NaN</td>\n",
       "      <td>149.967083</td>\n",
       "      <td>NORMAL</td>\n",
       "      <td>LOWER_NORMAL</td>\n",
       "      <td>NaN</td>\n",
       "      <td>149.967083</td>\n",
       "      <td>4</td>\n",
       "    </tr>\n",
       "    <tr>\n",
       "      <th>8</th>\n",
       "      <td>9279</td>\n",
       "      <td>PBT01_CLHA_4-12</td>\n",
       "      <td>373797</td>\n",
       "      <td>PBT01</td>\n",
       "      <td>2024-01-09</td>\n",
       "      <td>AFPNR901N.0D0D</td>\n",
       "      <td>L2800Z2N</td>\n",
       "      <td>1G.PPB10</td>\n",
       "      <td>NBX392.010</td>\n",
       "      <td>NBX392-20</td>\n",
       "      <td>...</td>\n",
       "      <td>NaN</td>\n",
       "      <td>NaN</td>\n",
       "      <td>1</td>\n",
       "      <td>NaN</td>\n",
       "      <td>149.995833</td>\n",
       "      <td>NORMAL</td>\n",
       "      <td>LOWER_NORMAL</td>\n",
       "      <td>NaN</td>\n",
       "      <td>149.995833</td>\n",
       "      <td>4</td>\n",
       "    </tr>\n",
       "    <tr>\n",
       "      <th>9</th>\n",
       "      <td>9278</td>\n",
       "      <td>PBT01_CLHA_4-11</td>\n",
       "      <td>385956</td>\n",
       "      <td>PBT01</td>\n",
       "      <td>2024-01-09</td>\n",
       "      <td>AFPNR901N.0D0D</td>\n",
       "      <td>L2800Z2N</td>\n",
       "      <td>1G.PPB10</td>\n",
       "      <td>NBX392.010</td>\n",
       "      <td>NBX392-15</td>\n",
       "      <td>...</td>\n",
       "      <td>NaN</td>\n",
       "      <td>NaN</td>\n",
       "      <td>1</td>\n",
       "      <td>NaN</td>\n",
       "      <td>149.995217</td>\n",
       "      <td>NORMAL</td>\n",
       "      <td>LOWER_NORMAL</td>\n",
       "      <td>NaN</td>\n",
       "      <td>149.995217</td>\n",
       "      <td>4</td>\n",
       "    </tr>\n",
       "  </tbody>\n",
       "</table>\n",
       "<p>10 rows × 38 columns</p>\n",
       "</div>"
      ],
      "text/plain": [
       "   TOOL_ID        TOOL_NAME  RUN_ID EQP_NAME   CASE_INFO      PRODUCT_ID  \\\n",
       "0     9279  PBT01_CLHA_4-12  365189    PBT01  2023-12-25  AFPNR901N.0C0C   \n",
       "1     9280  PBT01_CLHA_4-21  359818    PBT01  2023-12-25  AFPNR901N.0C0C   \n",
       "2     9279  PBT01_CLHA_4-12  366799    PBT01  2023-12-28  AFPNR901N.0B01   \n",
       "3     9279  PBT01_CLHA_4-12  362253    PBT01  2023-12-20  AFPNR901N.0C0C   \n",
       "4     9280  PBT01_CLHA_4-21  356904    PBT01  2023-12-20  AFPNR901N.0C0C   \n",
       "5     9279  PBT01_CLHA_4-12  365191    PBT01  2023-12-25  AFPNR901N.0C0C   \n",
       "6     9279  PBT01_CLHA_4-12  362255    PBT01  2023-12-20  AFPNR901N.0C0C   \n",
       "7     9279  PBT01_CLHA_4-12  373798    PBT01  2024-01-09  AFPNR901N.0D0D   \n",
       "8     9279  PBT01_CLHA_4-12  373797    PBT01  2024-01-09  AFPNR901N.0D0D   \n",
       "9     9278  PBT01_CLHA_4-11  385956    PBT01  2024-01-09  AFPNR901N.0D0D   \n",
       "\n",
       "     PRODG1   OPER_NO      LOT_ID   WAFER_ID  ... LOWER_OUTLIER UPPER_OUTLIER  \\\n",
       "0  L2800Z2N  1G.PPB10  NBX500.000  NBX500-01  ...           NaN           NaN   \n",
       "1  L2800Z2N  1G.PPB10  NBX500.000  NBX500-10  ...           NaN           NaN   \n",
       "2  L2800Z2N  1G.PPB10  NBX548.110  NBX548-09  ...           NaN           NaN   \n",
       "3  L2800Z2N  1G.PPB10  NBX500.000  NBX500-01  ...           NaN           NaN   \n",
       "4  L2800Z2N  1G.PPB10  NBX500.000  NBX500-10  ...           NaN           NaN   \n",
       "5  L2800Z2N  1G.PPB10  NBX500.000  NBX500-09  ...           NaN           NaN   \n",
       "6  L2800Z2N  1G.PPB10  NBX500.000  NBX500-09  ...           NaN           NaN   \n",
       "7  L2800Z2N  1G.PPB10  NBX392.010  NBX392-24  ...           NaN           NaN   \n",
       "8  L2800Z2N  1G.PPB10  NBX392.010  NBX392-20  ...           NaN           NaN   \n",
       "9  L2800Z2N  1G.PPB10  NBX392.010  NBX392-15  ...           NaN           NaN   \n",
       "\n",
       "  RULES_ENABLED ALARM_RULE      RESULT  STATUS        REGION  ERROR_MSG  \\\n",
       "0             1        NaN  149.953478  NORMAL  LOWER_NORMAL        NaN   \n",
       "1             1        NaN  150.015000  NORMAL  LOWER_NORMAL        NaN   \n",
       "2             1        NaN  149.987500  NORMAL  LOWER_NORMAL        NaN   \n",
       "3             1        NaN  149.946667  NORMAL  LOWER_NORMAL        NaN   \n",
       "4             1        NaN  150.007500  NORMAL  LOWER_NORMAL        NaN   \n",
       "5             1        NaN  149.971250  NORMAL  LOWER_NORMAL        NaN   \n",
       "6             1        NaN  149.989167  NORMAL  LOWER_NORMAL        NaN   \n",
       "7             1        NaN  149.967083  NORMAL  LOWER_NORMAL        NaN   \n",
       "8             1        NaN  149.995833  NORMAL  LOWER_NORMAL        NaN   \n",
       "9             1        NaN  149.995217  NORMAL  LOWER_NORMAL        NaN   \n",
       "\n",
       "   STATISTIC_RESULT  VERSION  \n",
       "0        149.953478        4  \n",
       "1        150.015000        4  \n",
       "2        149.987500        4  \n",
       "3        149.946667        4  \n",
       "4        150.007500        4  \n",
       "5        149.971250        4  \n",
       "6        149.989167        4  \n",
       "7        149.967083        4  \n",
       "8        149.995833        4  \n",
       "9        149.995217        4  \n",
       "\n",
       "[10 rows x 38 columns]"
      ]
     },
     "execution_count": 87,
     "metadata": {},
     "output_type": "execute_result"
    }
   ],
   "source": [
    "df_pandas"
   ]
  },
  {
   "cell_type": "code",
   "execution_count": 7,
   "id": "b6aa9a0e",
   "metadata": {},
   "outputs": [],
   "source": [
    "# df_pandas[df_pandas['label'] == 0]['WAFER_ID'].unique()\n",
    "# df_pandas[df_pandas['label'] == 1]['WAFER_ID'].unique()"
   ]
  },
  {
   "cell_type": "code",
   "execution_count": 73,
   "id": "4336cb28",
   "metadata": {},
   "outputs": [
    {
     "name": "stderr",
     "output_type": "stream",
     "text": [
      "/usr/local/spark/python/pyspark/pandas/internal.py:1573: FutureWarning: iteritems is deprecated and will be removed in a future version. Use .items instead.\n",
      "  fields = [\n",
      "/usr/local/spark/python/pyspark/sql/pandas/conversion.py:486: FutureWarning: iteritems is deprecated and will be removed in a future version. Use .items instead.\n",
      "  for column, series in pdf.iteritems():\n",
      "/usr/local/spark/python/pyspark/pandas/utils.py:975: PandasAPIOnSparkAdviceWarning: If `index_col` is not specified for `to_spark`, the existing index is lost when converting to Spark DataFrame.\n",
      "  warnings.warn(message, PandasAPIOnSparkAdviceWarning)\n"
     ]
    },
    {
     "data": {
      "text/plain": [
       "10"
      ]
     },
     "execution_count": 73,
     "metadata": {},
     "output_type": "execute_result"
    }
   ],
   "source": [
    "df1 = ps.from_pandas(df_pandas).to_spark()\n",
    "df1.count()"
   ]
  },
  {
   "cell_type": "code",
   "execution_count": 74,
   "id": "9cf01ab0",
   "metadata": {},
   "outputs": [],
   "source": [
    "#####自己打标签\n",
    "############################################\n",
    "######## 1. 客户只定义了bad_wafer = []是什么  ########\n",
    "############################################\n",
    "# 将传进来的BAD_WAFER, 用 | 连接起来，\n",
    "# F.col('WAFER_ID').like('NDJ065%') | F.col('WAFER_ID').like('NDJ067%') 作为条件传入增加label\n",
    "# 同时将isin模式也作为条件传入增加label\n",
    "\n",
    "def get_label_single(df, bad_wafer):\n",
    "    like_conditions = [f\"col('WAFER_ID').like('{bad}')\" for bad in bad_wafer]\n",
    "    all_like_conditions = \" | \".join(like_conditions)\n",
    "    isin_conditions = \"col('WAFER_ID').isin(bad_wafer)\"\n",
    "    df = df.withColumn('label', \n",
    "                when( eval(all_like_conditions) | eval(isin_conditions), int(1)).otherwise(int(0)))\n",
    "    return df \n",
    "\n",
    "\n",
    "############################################\n",
    "## 2. 客户定义了bad_wafer = [] 和 good_wafer = []######\n",
    "############################################\n",
    "# 将传进来的BAD_WAFER, 用 | 连接起来，\n",
    "# 将传进来的GOOD_WAFER, 也用 | 连接起来，\n",
    "# 同时将isin模式也作为条件传入增加label\n",
    "\n",
    "def get_label_double(df, bad_wafer, good_wafer):\n",
    "    good_like_conditions = [f\"col('WAFER_ID').like('{good}')\" for good in good_wafer]\n",
    "    all_good_like_conditions = \" | \".join(good_like_conditions)\n",
    "    good_isin_conditions = \"col('WAFER_ID').isin(good_wafer)\"\n",
    "\n",
    "    bad_like_conditions = [f\"col('WAFER_ID').like('{bad}')\" for bad in bad_wafer]\n",
    "    all_bad_like_conditions = \" | \".join(bad_like_conditions)\n",
    "    bad_isin_conditions = \"col('WAFER_ID').isin(bad_wafer)\"\n",
    "\n",
    "    df = df.withColumn('label',  when(eval(all_good_like_conditions) | eval(good_isin_conditions), int(0)).when(eval(all_bad_like_conditions) | eval(bad_isin_conditions), int(1)).otherwise(222333))\n",
    "    df = df.filter(df['label'] != int(222333))\n",
    "    return df"
   ]
  },
  {
   "cell_type": "code",
   "execution_count": 75,
   "id": "d1edd248",
   "metadata": {},
   "outputs": [],
   "source": [
    "good = ['NBX392-15', 'NBX392-20', 'NBX392-24', 'NBX391-24', 'NBX391-25', 'NBX548-09', 'NBX391-01', 'NBX391-02', 'NBX391-13', 'NBX391-17']\n",
    "bad  = ['NBX500-10', 'NBX500-01', 'NBX500-09']\n",
    "\n",
    "if 'label' in df1.columns:\n",
    "    df1 = df1\n",
    "else:\n",
    "    df1 = get_label_double(df1, bad, good)"
   ]
  },
  {
   "cell_type": "code",
   "execution_count": 76,
   "id": "43c7b5a8",
   "metadata": {},
   "outputs": [
    {
     "data": {
      "text/plain": [
       "10"
      ]
     },
     "execution_count": 76,
     "metadata": {},
     "output_type": "execute_result"
    }
   ],
   "source": [
    "df1.count()"
   ]
  },
  {
   "cell_type": "code",
   "execution_count": 90,
   "id": "4e8accea",
   "metadata": {},
   "outputs": [],
   "source": [
    "###################################################################\n",
    "##########################融合OPER_NO字段##########################\n",
    "###################################################################\n",
    "def integrate_operno(df, merge_operno_list):\n",
    "    if merge_operno_list is not None:\n",
    "        # 将mergeOperno中每个字典的values提取出来，组成一个列表\n",
    "        values_to_replace = [list(rule.values())[0] for rule in merge_operno_list]\n",
    "\n",
    "        # 将每一个字典中的values拼接起来\n",
    "        merged_values = [\"_\".join( list(rule.values())[0]) for rule in merge_operno_list]\n",
    "\n",
    "        for values, replacement_value in zip(values_to_replace, merged_values):\n",
    "            df = df.withColumn(\"OPER_NO\", when(col(\"OPER_NO\").isin(values), replacement_value).otherwise(col(\"OPER_NO\")))\n",
    "        return df\n",
    "    else:\n",
    "        return df"
   ]
  },
  {
   "cell_type": "code",
   "execution_count": 14,
   "id": "e1c8dfe6",
   "metadata": {},
   "outputs": [],
   "source": [
    "############################################################################\n",
    "##################################FDC数据预处理###############################\n",
    "############################################################################\n",
    "def _pre_process(df):\n",
    "    \"\"\"\n",
    "    param df: 从数据库中读取出来的某个CASE数据\n",
    "    return: 数据预处理，后面要根据实际情况统一添加\n",
    "    \"\"\"\n",
    "    # 只选出会用到的列\n",
    "    df = df.select('WAFER_ID', 'TOOL_ID', 'RUN_ID', 'EQP_NAME', 'PRODUCT_ID', 'PRODG1', 'TOOL_NAME',\n",
    "                   'OPER_NO', 'parametric_name', 'STATISTIC_RESULT', 'label')\n",
    "    # 剔除NA值\n",
    "    df = df.filter(col('STATISTIC_RESULT').isNotNull())\n",
    "    # 按照所有的行进行去重\n",
    "    df1 = df.dropDuplicates()\n",
    "    # 选最新的RUN\n",
    "    df2 = df1.groupBy('WAFER_ID', 'OPER_NO', 'TOOL_ID').agg(max('RUN_ID').alias('RUN_ID'))\n",
    "    df_run = df1.join(df2.dropDuplicates(subset=['WAFER_ID', 'OPER_NO', 'TOOL_ID', 'RUN_ID']),\n",
    "                      on=['WAFER_ID', 'OPER_NO', 'TOOL_ID', 'RUN_ID'], how='inner')\n",
    "    return df_run\n",
    "\n",
    "\n",
    "\n",
    "def commonality_analysis(df_run, grpby_list):\n",
    "    \"\"\"\n",
    "    param df_run: 数据预处理后的数据\n",
    "    return: 共性分析后的结果， 返回bad wafer前十的组合\n",
    "    \"\"\"\n",
    "    grps = (df_run.groupBy(grpby_list)\n",
    "            .agg(countDistinct('WAFER_ID').alias('wafer_count'),\n",
    "                 countDistinct('WAFER_ID', when(df_run['label'] == 0, 1)).alias('good_num'),\n",
    "                 countDistinct('WAFER_ID', when(df_run['label'] == 1, 1)).alias('bad_num'))\n",
    "            .orderBy('bad_num', ascending=False))\n",
    "\n",
    "    # 单站点+单腔室的情况\n",
    "    if grps.count() == 1:\n",
    "        return grps\n",
    "    else:\n",
    "        grps = grps.filter(grps['bad_num'] > 0)\n",
    "        window_sep = Window().orderBy(col(\"bad_num\").desc())\n",
    "        ranked_df = grps.withColumn(\"rank\", rank().over(window_sep))\n",
    "        grpss = ranked_df.filter(col(\"rank\") <= 10).drop(\"rank\")\n",
    "        return grpss"
   ]
  },
  {
   "cell_type": "code",
   "execution_count": 15,
   "id": "ba0ae6de",
   "metadata": {},
   "outputs": [
    {
     "name": "stdout",
     "output_type": "stream",
     "text": [
      "7\n"
     ]
    }
   ],
   "source": [
    "df_run = _pre_process(df1)\n",
    "print(df_run.count())"
   ]
  },
  {
   "cell_type": "code",
   "execution_count": 16,
   "id": "8815d5e8",
   "metadata": {},
   "outputs": [],
   "source": [
    "# df_run.toPandas()"
   ]
  },
  {
   "cell_type": "code",
   "execution_count": 17,
   "id": "9344e68d",
   "metadata": {
    "scrolled": true
   },
   "outputs": [
    {
     "name": "stdout",
     "output_type": "stream",
     "text": [
      "+--------+--------+---------------+-----------+--------+-------+\n",
      "|  PRODG1| OPER_NO|      TOOL_NAME|wafer_count|good_num|bad_num|\n",
      "+--------+--------+---------------+-----------+--------+-------+\n",
      "|L2800Z2N|1G.PPB10|PBT01_CLHA_4-12|          5|       3|      2|\n",
      "|L2800Z2N|1G.PPB10|PBT01_CLHA_4-21|          1|       0|      1|\n",
      "+--------+--------+---------------+-----------+--------+-------+\n",
      "\n"
     ]
    }
   ],
   "source": [
    "# grpby_list = ['PRODG1', 'OPER_NO', 'TOOL_NAME']\n",
    "common_res = commonality_analysis(df_run, grpby_list)\n",
    "common_res.show()"
   ]
  },
  {
   "cell_type": "code",
   "execution_count": null,
   "id": "e1a51a54",
   "metadata": {},
   "outputs": [],
   "source": [
    "# df_pandas[['WAFER_ID', 'TOOL_ID', 'RUN_ID', 'EQP_NAME', 'PRODUCT_ID', 'PRODG1', 'TOOL_NAME',\n",
    "#                    'OPER_NO', 'parametric_name', 'STATISTIC_RESULT']]"
   ]
  },
  {
   "cell_type": "code",
   "execution_count": null,
   "id": "d267d955",
   "metadata": {},
   "outputs": [],
   "source": []
  },
  {
   "cell_type": "code",
   "execution_count": 18,
   "id": "501fa47d",
   "metadata": {},
   "outputs": [],
   "source": [
    "###########################################################################\n",
    "#################################获取样本数据#########################\n",
    "############################################################################\n",
    "def get_data_list(common_res, grpby_list, big_or_small='big'):\n",
    "    \"\"\"\n",
    "    param common_res: 共性分析后的结果, 按照大样本或者小样本条件筛选出组合\n",
    "    param grpby_list: 按照PRODG1+OPER_NO+TOOL_NAME分组或OPER_NO+TOOL_NAME分组\n",
    "    param big_or_small: big或者small\n",
    "    return: 对应组合的字典形式, 包在一个大列表中\n",
    "    \"\"\"\n",
    "    assert big_or_small in ['big', 'small'], \"只能选择big或者small, 请检查拼写\"\n",
    "    if big_or_small == 'big':\n",
    "        good_bad_grps = common_res.filter(\"good_num >= 3 AND bad_num >= 3\")\n",
    "    else:\n",
    "        good_bad_grps = common_res.filter(\"bad_num >= 1 AND wafer_count >=2\")\n",
    "    good_bad_grps = good_bad_grps.orderBy(col(\"bad_num\").desc(), col(\"wafer_count\").desc(), col(\"good_num\").desc()).limit(5)\n",
    "\n",
    "    if 'PRODG1' in grpby_list:\n",
    "        data_list = good_bad_grps['PRODG1', 'OPER_NO', 'TOOL_NAME'].collect()  \n",
    "    else:\n",
    "        data_list = good_bad_grps['OPER_NO', 'TOOL_NAME'].collect()\n",
    "\n",
    "    data_dict_list = [row.asDict() for row in data_list]\n",
    "    return data_dict_list\n",
    "\n",
    "\n",
    "def get_train_data(df_run, data_dict_list):\n",
    "    \"\"\"\n",
    "    param df_run: 数据预处理后的数据\n",
    "    param data_dict: 筛选后的字典结果\n",
    "    return: 从原始数据中过滤出真正用来建模的组合数据\n",
    "    \"\"\"\n",
    "    if len(data_dict_list[0]) == 3:\n",
    "        prod, oper, tool = data_dict_list[0]['PRODG1'], data_dict_list[0]['OPER_NO'], data_dict_list[0]['TOOL_NAME']\n",
    "        df_s = df_run.filter(\"PRODG1 == '{}' AND OPER_NO == '{}' AND TOOL_NAME == '{}'\".format(prod, oper, tool))\n",
    "        for i in range(1, len(data_dict_list)):\n",
    "            prod, oper, tool = data_dict_list[i]['PRODG1'], data_dict_list[i]['OPER_NO'], data_dict_list[i]['TOOL_NAME']\n",
    "            df_m = df_run.filter(\"PRODG1 == '{}' AND OPER_NO == '{}' and TOOL_NAME == '{}'\".format(prod, oper, tool))\n",
    "            df_s = df_s.union(df_m)\n",
    "    else:\n",
    "        oper, tool = data_dict_list[0]['OPER_NO'], data_dict_list[0]['TOOL_NAME']\n",
    "        df_s = df_run.filter(\"OPER_NO == '{}' AND TOOL_NAME == '{}'\".format(oper, tool))\n",
    "        for i in range(1, len(data_dict_list)):\n",
    "            oper, tool = data_dict_list[i]['OPER_NO'], data_dict_list[i]['TOOL_NAME']\n",
    "            df_m = df_run.filter(\"OPER_NO == '{}' and TOOL_NAME == '{}'\".format(oper, tool))\n",
    "            df_s = df_s.union(df_m)\n",
    "    return df_s"
   ]
  },
  {
   "cell_type": "code",
   "execution_count": 19,
   "id": "4a7e6595",
   "metadata": {},
   "outputs": [
    {
     "data": {
      "text/plain": [
       "[{'PRODG1': 'L2800Z2N', 'OPER_NO': '1G.PPB10', 'TOOL_NAME': 'PBT01_CLHA_4-12'}]"
      ]
     },
     "execution_count": 19,
     "metadata": {},
     "output_type": "execute_result"
    }
   ],
   "source": [
    "data_dict_list_ss = get_data_list(common_res, grpby_list, big_or_small='small')\n",
    "data_dict_list_ss"
   ]
  },
  {
   "cell_type": "code",
   "execution_count": 20,
   "id": "ae81e8a4",
   "metadata": {},
   "outputs": [
    {
     "data": {
      "text/plain": [
       "5"
      ]
     },
     "execution_count": 20,
     "metadata": {},
     "output_type": "execute_result"
    }
   ],
   "source": [
    "df_run_ss = get_train_data(df_run, data_dict_list_ss)\n",
    "df_run_ss.count()"
   ]
  },
  {
   "cell_type": "code",
   "execution_count": 21,
   "id": "4b3f6f95",
   "metadata": {},
   "outputs": [],
   "source": [
    "############################################################################\n",
    "#########################获取传入的整个数据中的所有bad_wafer个数############\n",
    "############################################################################\n",
    "def get_all_bad_wafer_num(df):\n",
    "    \"\"\"\n",
    "    param df: 筛选后的数据\n",
    "    return: 数据中所有bad_wafer的数量\n",
    "    \"\"\"\n",
    "    return df.filter(\"label == 1\").select('WAFER_ID').distinct().count()"
   ]
  },
  {
   "cell_type": "code",
   "execution_count": 22,
   "id": "f7b0b5ab",
   "metadata": {},
   "outputs": [
    {
     "data": {
      "text/plain": [
       "2"
      ]
     },
     "execution_count": 22,
     "metadata": {},
     "output_type": "execute_result"
    }
   ],
   "source": [
    "bad_wafer_num_small_sample = get_all_bad_wafer_num(df_run_ss)\n",
    "bad_wafer_num_small_sample"
   ]
  },
  {
   "cell_type": "code",
   "execution_count": null,
   "id": "1c62bf84",
   "metadata": {},
   "outputs": [],
   "source": []
  },
  {
   "cell_type": "code",
   "execution_count": 23,
   "id": "3539c268",
   "metadata": {},
   "outputs": [],
   "source": [
    "##########################################################################################\n",
    "#######################################对bad>=1的数据，用pca建模##############################\n",
    "##########################################################################################\n",
    "def get_pivot_table(df, by):\n",
    "    \"\"\"\n",
    "    param df: 大样本组合的数据\n",
    "    param by: 分组字段\n",
    "    return: 表格透视后的结果\n",
    "    \"\"\"\n",
    "    if len(by) == 3:\n",
    "        df_pivot = df.dropna(axis=0).pivot_table(index=['WAFER_ID', 'label'], \n",
    "                                                     columns=['OPER_NO', 'TOOL_NAME', 'parametric_name', 'PRODG1'],\n",
    "                                                     values=['STATISTIC_RESULT'])\n",
    "    else:\n",
    "        df_pivot = df.dropna(axis=0).pivot_table(index=['WAFER_ID', 'label'], \n",
    "                                                     columns=['OPER_NO', 'TOOL_NAME', 'parametric_name'],\n",
    "                                                     values=['STATISTIC_RESULT'])\n",
    "    df_pivot.columns = df_pivot.columns.map('#'.join)\n",
    "    df_pivot = df_pivot.fillna(df_pivot.mean()).reset_index(drop=False)\n",
    "    return df_pivot\n",
    "\n",
    "\n",
    "\n",
    "def fit_pca_small_sample(df, by):\n",
    "    \"\"\"\n",
    "    param df: 小样本组合的数据\n",
    "    param by: 分组字段\n",
    "    return: PCA建模后的结果\n",
    "    \"\"\"\n",
    "    schema_all = StructType([StructField(\"PRODG1\", StringType(), True),\n",
    "                             StructField(\"OPER_NO\", StringType(), True),\n",
    "                             StructField(\"TOOL_NAME\", StringType(), True),\n",
    "                             StructField(\"features\", StringType(), True),\n",
    "                             StructField(\"importance\", FloatType(), True),\n",
    "                             StructField(\"bad_wafer\", IntegerType(), True)]) \n",
    "\n",
    "    @pandas_udf(returnType=schema_all, functionType=PandasUDFType.GROUPED_MAP)\n",
    "    def get_model_result(df_run):\n",
    "        df_pivot = get_pivot_table(df=df_run, by=by)\n",
    "        # 由于是小样本，再重新copy一份制造多一点数据传给PCA模型\n",
    "        df_pivot_copy = df_pivot.copy()\n",
    "        df_pivot_all = pd.concat([df_pivot, df_pivot_copy], axis=0)\n",
    "\n",
    "        # 定义自变量\n",
    "        x_train = df_pivot_all[df_pivot_all.columns.difference(['WAFER_ID', 'label']).tolist()]\n",
    "\n",
    "        # 建立模型，传入给PCA的n_components选择x_train.shape中的最小值-1；\n",
    "        # 选择是70%或者80%，出来的特征很有可能只是一两个\n",
    "        model = pca(n_components=min(x_train.shape[0], x_train.shape[1])-1, verbose=None)\n",
    "        results = model.fit_transform(x_train)\n",
    "        res_top = results['topfeat']\n",
    "        res_top_select = res_top[res_top['type'] == 'best'][['feature', 'loading']]\n",
    "        res_top_select = res_top_select.drop_duplicates()\n",
    "        res_top_select['importance'] = abs(res_top_select['loading'])\n",
    "        res_top_select = res_top_select.rename(columns={'feature': 'features'})\n",
    "        res_top_select = res_top_select.drop(\"loading\", axis=1)\n",
    "        \n",
    "        # 增加一些字段信息\n",
    "        res_top_select['bad_wafer'] = sum(df_pivot['label'])\n",
    "        res_top_select['OPER_NO'] = df_run['OPER_NO'].values[0]\n",
    "        res_top_select['TOOL_NAME'] = df_run['TOOL_NAME'].values[0]\n",
    "        if len(by) == 3: \n",
    "            res_top_select['PRODG1'] = df_run['PRODG1'].values[0]\n",
    "        else:\n",
    "            res_top_select['PRODG1'] = 'grplen2'\n",
    "\n",
    "        return res_top_select\n",
    "    return df.groupby(by).apply(get_model_result)"
   ]
  },
  {
   "cell_type": "code",
   "execution_count": 24,
   "id": "fb20081b",
   "metadata": {},
   "outputs": [
    {
     "name": "stderr",
     "output_type": "stream",
     "text": [
      "/usr/local/spark/python/pyspark/sql/pandas/group_ops.py:98: UserWarning: It is preferred to use 'applyInPandas' over this API. This API will be deprecated in the future releases. See SPARK-28264 for more details.\n",
      "  warnings.warn(\n"
     ]
    },
    {
     "name": "stdout",
     "output_type": "stream",
     "text": [
      "+--------+--------+---------------+--------------------+----------+---------+\n",
      "|  PRODG1| OPER_NO|      TOOL_NAME|            features|importance|bad_wafer|\n",
      "+--------+--------+---------------+--------------------+----------+---------+\n",
      "|L2800Z2N|1G.PPB10|PBT01_CLHA_4-12|STATISTIC_RESULT#...|       1.0|        2|\n",
      "+--------+--------+---------------+--------------------+----------+---------+\n",
      "\n"
     ]
    }
   ],
   "source": [
    "res = fit_pca_small_sample(df=df_run_ss, by=grpby_list)\n",
    "res.show()"
   ]
  },
  {
   "cell_type": "code",
   "execution_count": null,
   "id": "7ed1add4",
   "metadata": {},
   "outputs": [],
   "source": []
  },
  {
   "cell_type": "code",
   "execution_count": 25,
   "id": "8f01fd69",
   "metadata": {},
   "outputs": [],
   "source": [
    "#####################################################################################\n",
    "##################################对bad>=1建模后的结果进行整合############################\n",
    "#####################################################################################\n",
    "def split_features(df, index) -> str:\n",
    "    \"\"\"\n",
    "    param df: RandomForest建模后的feature_importance_table\n",
    "    param index: 顺序值\n",
    "    return: 字段属性值\n",
    "    \"\"\"\n",
    "    return df['features'].apply(lambda x: x.split('#')[index])\n",
    "\n",
    "\n",
    "def get_split_feature_importance_table(df, by):\n",
    "    \"\"\"\n",
    "    param df: RandomForest建模后的feature_importance_table\n",
    "    param by: OPER_NO+TOOL_NAME+PRODG1或者OPER_NO+TOOL_NAME\n",
    "    return: 分裂features后的表\n",
    "    \"\"\"\n",
    "    df['STATISTIC_RESULT'] = split_features(df, 0)\n",
    "    df['OPER_NO'] = split_features(df, 1)\n",
    "    df['TOOL_NAME'] = split_features(df, 2)\n",
    "    df['parametric_name'] = split_features(df, 3)\n",
    "    df['step'] = split_features(df, 4)\n",
    "    df['stats'] = split_features(df, 5)\n",
    "\n",
    "    if 'PRODG1' in by:\n",
    "        df['PRODG1'] = split_features(df, 6)\n",
    "    else:\n",
    "        df = df.assign(PRODG1 = 'grplen2')\n",
    "\n",
    "    df = df.drop(['features', 'STATISTIC_RESULT'], axis=1).reset_index(drop=True)\n",
    "    return df\n",
    "\n",
    "\n",
    "def add_feature_stats(df):\n",
    "    \"\"\"\n",
    "    param df: 经过处理后的feature_importance_table\n",
    "    return: 新增一列，含有参数的所有统计特征:feature_stats\n",
    "    \"\"\"\n",
    "    feature_stats = df.groupby(['PRODG1', 'OPER_NO', 'TOOL_NAME', 'parametric_name', 'step'])['stats'].unique().reset_index()\n",
    "    feature_stats['stats'] = [feature_stats['stats'].iloc[i].tolist() for i in range(len(feature_stats))]\n",
    "    feature_stats['stats'] = feature_stats['stats'].apply(lambda x: \"#\".join(x))\n",
    "    feature_stats = feature_stats.assign(parametric_name=lambda x: x['parametric_name']+str('#')+x['step']).drop('step', axis=1)\n",
    "    return feature_stats\n",
    "\n",
    "\n",
    "def split_calculate_features_small_sample(df, by):\n",
    "    \"\"\"\n",
    "    param df: PCA建模后的结果\n",
    "    param by: 分组字段\n",
    "    return: features和importance结果\n",
    "    \"\"\"\n",
    "    schema_all = StructType([ StructField(\"PRODG1\", StringType(), True),\n",
    "                              StructField(\"OPER_NO\", StringType(), True),\n",
    "                              StructField(\"TOOL_NAME\", StringType(), True),\n",
    "                              StructField(\"parametric_name\", StringType(), True),\n",
    "                              StructField(\"importance\", FloatType(), True),\n",
    "                              StructField(\"bad_wafer\", FloatType(), True),\n",
    "                              StructField(\"stats\", StringType(), True)]) \n",
    "\n",
    "    @pandas_udf(returnType=schema_all, functionType=PandasUDFType.GROUPED_MAP)\n",
    "    def get_result(model_results):        \n",
    "        feature_importance_table = model_results[['features',  'importance', 'bad_wafer']].dropna(axis=0)\n",
    "        # 分裂features\n",
    "        feature_importance_res_split = get_split_feature_importance_table(feature_importance_table, by)\n",
    "\n",
    "        # 新增一列，含有参数的所有统计特征:feature_stats\n",
    "        feature_stats = add_feature_stats(feature_importance_res_split)\n",
    "\n",
    "        #对同一种组合里的同一个参数进行求和:feature_importance_groupby\n",
    "        feature_importance_groupby = (feature_importance_res_split.groupby(['PRODG1', 'OPER_NO', 'TOOL_NAME', 'bad_wafer',\n",
    "                                                                         'parametric_name','step'])['importance'].sum().reset_index())\n",
    "        feature_importance_groupby = feature_importance_groupby.assign(parametric_name=lambda x: x['parametric_name']+str('#')+x['step']).drop('step', axis=1)\n",
    "\n",
    "        # feature_stats和feature_importance_groupby连接\n",
    "        grpby_stats = pd.merge(feature_stats, feature_importance_groupby, on=['PRODG1', 'OPER_NO', 'TOOL_NAME', 'parametric_name']).dropna().reset_index(drop=True)\n",
    "        return grpby_stats\n",
    "    return df.groupby(by).apply(get_result)\n",
    "\n",
    "\n",
    "def get_finall_results_small_sample(f_res, bad_wafer_num):\n",
    "    \"\"\"\n",
    "    param s_res: roc_auc分数结果\n",
    "    param f_res: features和importance结果\n",
    "    param bad_wafer_num: 数据中所有bad_wafer的数量\n",
    "    return: 最后的建模结果\n",
    "    \"\"\"\n",
    "    f_res = f_res.withColumn(\"bad_ratio\", col(\"bad_wafer\") / bad_wafer_num)\n",
    "    df_merge = f_res.withColumn('weight_original', col('importance') * col('bad_ratio'))\n",
    "\n",
    "    # 最后再次进行一次归一化\n",
    "    weight_all = df_merge.agg({\"weight_original\": \"sum\"}).collect()[0][0]\n",
    "    df_merge = df_merge.withColumn(\"weight\", col(\"weight_original\") / weight_all)\n",
    "\n",
    "    df_merge = df_merge.select(['PRODG1', 'OPER_NO', 'TOOL_NAME',\n",
    "                                'parametric_name', 'weight', 'stats']).orderBy('weight', ascending=False)\n",
    "    return df_merge"
   ]
  },
  {
   "cell_type": "code",
   "execution_count": 62,
   "id": "19a7e7c8",
   "metadata": {},
   "outputs": [],
   "source": [
    "#####################################################################################\n",
    "#############################将建模后的结果增加特定的列####################################\n",
    "#####################################################################################\n",
    "def add_certain_column(df, by, request_id):\n",
    "    \"\"\"\n",
    "    param df: 最后的建模结果\n",
    "    param by: 分组字段, 手动增加一列add\n",
    "    param request_id: 传入的request_id\n",
    "    return: 最后的建模结果增加特定的列\n",
    "    \"\"\"\n",
    "    schema_all = StructType([\n",
    "        StructField(\"PRODG1\", StringType(), True),\n",
    "        StructField(\"OPER_NO\", StringType(), True),\n",
    "        StructField(\"TOOL_NAME\", StringType(), True),\n",
    "        StructField(\"stats\", StringType(), True),\n",
    "        StructField(\"parametric_name\", StringType(), True),\n",
    "        StructField(\"weight\", FloatType(), True),\n",
    "        StructField(\"request_id\", StringType(), True),\n",
    "        StructField(\"weight_percent\", FloatType(), True),\n",
    "        StructField(\"index_no\", IntegerType(), True)])\n",
    "\n",
    "    @pandas_udf(returnType=schema_all, functionType=PandasUDFType.GROUPED_MAP)\n",
    "    def get_result(final_res):\n",
    "        final_res['weight'] = final_res['weight'].astype(float)\n",
    "        final_res = final_res.query(\"weight > 0\")\n",
    "        final_res['request_id'] = request_id\n",
    "        final_res['weight_percent'] = final_res['weight'] * 100\n",
    "        final_res = final_res.sort_values('weight', ascending=False)\n",
    "        final_res['index_no'] = [i + 1 for i in range(len(final_res))]\n",
    "        final_res = final_res.drop('add', axis=1)\n",
    "        # final_res['parametric_name'] = final_res['parametric_name'].str.replace(\"_\", \"+\")\n",
    "        final_res['PRODG1'] = final_res['PRODG1'].apply(lambda x: None if x == 'grplen2' else x)\n",
    "        return final_res\n",
    "    return df.groupby(by).apply(get_result)"
   ]
  },
  {
   "cell_type": "code",
   "execution_count": 26,
   "id": "314c4e5a",
   "metadata": {},
   "outputs": [
    {
     "name": "stdout",
     "output_type": "stream",
     "text": [
      "+--------+--------+---------------+--------------------+----------+---------+-----+\n",
      "|  PRODG1| OPER_NO|      TOOL_NAME|     parametric_name|importance|bad_wafer|stats|\n",
      "+--------+--------+---------------+--------------------+----------+---------+-----+\n",
      "|L2800Z2N|1G.PPB10|PBT01_CLHA_4-12|PLATE_TEMP#DHP150...|       1.0|      2.0| MEAN|\n",
      "+--------+--------+---------------+--------------------+----------+---------+-----+\n",
      "\n"
     ]
    }
   ],
   "source": [
    "f_res = split_calculate_features_small_sample(df=res, by=grpby_list)\n",
    "f_res.show()"
   ]
  },
  {
   "cell_type": "code",
   "execution_count": 27,
   "id": "fa42749f",
   "metadata": {},
   "outputs": [
    {
     "name": "stdout",
     "output_type": "stream",
     "text": [
      "+--------+--------+---------------+--------------------+------+-----+\n",
      "|  PRODG1| OPER_NO|      TOOL_NAME|     parametric_name|weight|stats|\n",
      "+--------+--------+---------------+--------------------+------+-----+\n",
      "|L2800Z2N|1G.PPB10|PBT01_CLHA_4-12|PLATE_TEMP#DHP150...|   1.0| MEAN|\n",
      "+--------+--------+---------------+--------------------+------+-----+\n",
      "\n"
     ]
    }
   ],
   "source": [
    "model_res_ss = get_finall_results_small_sample(f_res=f_res, bad_wafer_num=bad_wafer_num_small_sample)\n",
    "model_res_ss.show()"
   ]
  },
  {
   "cell_type": "code",
   "execution_count": null,
   "id": "c32a4a3a",
   "metadata": {},
   "outputs": [],
   "source": []
  },
  {
   "cell_type": "markdown",
   "id": "b478fd72",
   "metadata": {},
   "source": [
    "#### 利用CASE1制作一个小样本的CASE"
   ]
  },
  {
   "cell_type": "code",
   "execution_count": 50,
   "id": "7b3d7838",
   "metadata": {},
   "outputs": [
    {
     "data": {
      "text/plain": [
       "(736, 16)"
      ]
     },
     "execution_count": 50,
     "metadata": {},
     "output_type": "execute_result"
    }
   ],
   "source": [
    "df_case1 = pd.read_csv(\"../DWD_POC_CASE_FD_UVA_DATA_CASE1_PROCESSED1.csv\")\n",
    "df_case1_small_sample_pandas = df_case1[df_case1['WAFER_ID'].isin(['NGE186-06', 'NGE186-12', 'NGE186-24', 'NGG239-19', 'NGE197-02', 'NGE197-15', 'NGE197-21', 'NGF482-01', 'NGF482-14'])]\n",
    "df_case1_small_sample_pandas.shape"
   ]
  },
  {
   "cell_type": "code",
   "execution_count": 51,
   "id": "8f453580",
   "metadata": {},
   "outputs": [
    {
     "name": "stderr",
     "output_type": "stream",
     "text": [
      "/usr/local/spark/python/pyspark/pandas/internal.py:1573: FutureWarning: iteritems is deprecated and will be removed in a future version. Use .items instead.\n",
      "  fields = [\n",
      "/usr/local/spark/python/pyspark/sql/pandas/conversion.py:486: FutureWarning: iteritems is deprecated and will be removed in a future version. Use .items instead.\n",
      "  for column, series in pdf.iteritems():\n",
      "/usr/local/spark/python/pyspark/pandas/utils.py:975: PandasAPIOnSparkAdviceWarning: If `index_col` is not specified for `to_spark`, the existing index is lost when converting to Spark DataFrame.\n",
      "  warnings.warn(message, PandasAPIOnSparkAdviceWarning)\n"
     ]
    },
    {
     "data": {
      "text/plain": [
       "736"
      ]
     },
     "execution_count": 51,
     "metadata": {},
     "output_type": "execute_result"
    }
   ],
   "source": [
    "df1 = ps.from_pandas(df_case1_small_sample_pandas).to_spark()\n",
    "df1.count()"
   ]
  },
  {
   "cell_type": "code",
   "execution_count": 52,
   "id": "0f5c06f6",
   "metadata": {},
   "outputs": [
    {
     "data": {
      "text/plain": [
       "['PRODG1', 'OPER_NO', 'TOOL_NAME']"
      ]
     },
     "execution_count": 52,
     "metadata": {},
     "output_type": "execute_result"
    }
   ],
   "source": [
    "grpby_list"
   ]
  },
  {
   "cell_type": "code",
   "execution_count": 53,
   "id": "d275b608",
   "metadata": {},
   "outputs": [
    {
     "name": "stdout",
     "output_type": "stream",
     "text": [
      "736\n"
     ]
    }
   ],
   "source": [
    "df_run = _pre_process(df1)\n",
    "print(df_run.count())"
   ]
  },
  {
   "cell_type": "code",
   "execution_count": 54,
   "id": "5911c89c",
   "metadata": {},
   "outputs": [
    {
     "name": "stdout",
     "output_type": "stream",
     "text": [
      "+--------+--------+---------+-----------+--------+-------+\n",
      "|  PRODG1| OPER_NO|TOOL_NAME|wafer_count|good_num|bad_num|\n",
      "+--------+--------+---------+-----------+--------+-------+\n",
      "|L11CD02A|1F.EEK10|EKT72_PM1|          6|       3|      3|\n",
      "|L15DV07A|1F.EEK10|EKT72_PM1|          2|       0|      2|\n",
      "+--------+--------+---------+-----------+--------+-------+\n",
      "\n"
     ]
    }
   ],
   "source": [
    "common_res = commonality_analysis(df_run, grpby_list)\n",
    "common_res.show()"
   ]
  },
  {
   "cell_type": "code",
   "execution_count": 55,
   "id": "f4605617",
   "metadata": {},
   "outputs": [
    {
     "data": {
      "text/plain": [
       "[{'PRODG1': 'L11CD02A', 'OPER_NO': '1F.EEK10', 'TOOL_NAME': 'EKT72_PM1'},\n",
       " {'PRODG1': 'L15DV07A', 'OPER_NO': '1F.EEK10', 'TOOL_NAME': 'EKT72_PM1'}]"
      ]
     },
     "execution_count": 55,
     "metadata": {},
     "output_type": "execute_result"
    }
   ],
   "source": [
    "data_dict_list_ss = get_data_list(common_res, grpby_list, big_or_small='small')\n",
    "data_dict_list_ss"
   ]
  },
  {
   "cell_type": "code",
   "execution_count": 56,
   "id": "21783a0a",
   "metadata": {},
   "outputs": [
    {
     "data": {
      "text/plain": [
       "674"
      ]
     },
     "execution_count": 56,
     "metadata": {},
     "output_type": "execute_result"
    }
   ],
   "source": [
    "df_run_ss = get_train_data(df_run, data_dict_list_ss)\n",
    "df_run_ss.count()"
   ]
  },
  {
   "cell_type": "code",
   "execution_count": 57,
   "id": "306524df",
   "metadata": {},
   "outputs": [
    {
     "data": {
      "text/plain": [
       "5"
      ]
     },
     "execution_count": 57,
     "metadata": {},
     "output_type": "execute_result"
    }
   ],
   "source": [
    "bad_wafer_num_small_sample = get_all_bad_wafer_num(df_run_ss)\n",
    "bad_wafer_num_small_sample"
   ]
  },
  {
   "cell_type": "code",
   "execution_count": 58,
   "id": "5b8bebaa",
   "metadata": {},
   "outputs": [
    {
     "name": "stderr",
     "output_type": "stream",
     "text": [
      "/usr/local/spark/python/pyspark/sql/pandas/group_ops.py:98: UserWarning: It is preferred to use 'applyInPandas' over this API. This API will be deprecated in the future releases. See SPARK-28264 for more details.\n",
      "  warnings.warn(\n"
     ]
    },
    {
     "name": "stdout",
     "output_type": "stream",
     "text": [
      "+--------+--------+---------+--------------------+----------+---------+\n",
      "|  PRODG1| OPER_NO|TOOL_NAME|            features|importance|bad_wafer|\n",
      "+--------+--------+---------+--------------------+----------+---------+\n",
      "|L11CD02A|1F.EEK10|EKT72_PM1|STATISTIC_RESULT#...| 0.5198736|        3|\n",
      "|L11CD02A|1F.EEK10|EKT72_PM1|STATISTIC_RESULT#...| 0.9020127|        3|\n",
      "|L11CD02A|1F.EEK10|EKT72_PM1|STATISTIC_RESULT#...|  0.940183|        3|\n",
      "|L11CD02A|1F.EEK10|EKT72_PM1|STATISTIC_RESULT#...|0.76628584|        3|\n",
      "|L11CD02A|1F.EEK10|EKT72_PM1|STATISTIC_RESULT#...| 0.6545386|        3|\n",
      "|L11CD02A|1F.EEK10|EKT72_PM1|STATISTIC_RESULT#...|0.92193615|        3|\n",
      "|L11CD02A|1F.EEK10|EKT72_PM1|STATISTIC_RESULT#...| 0.9986149|        3|\n",
      "|L11CD02A|1F.EEK10|EKT72_PM1|STATISTIC_RESULT#...| 0.9862689|        3|\n",
      "|L11CD02A|1F.EEK10|EKT72_PM1|STATISTIC_RESULT#...| 0.9045629|        3|\n",
      "|L11CD02A|1F.EEK10|EKT72_PM1|STATISTIC_RESULT#...|0.98242646|        3|\n",
      "|L11CD02A|1F.EEK10|EKT72_PM1|STATISTIC_RESULT#...| 0.7724064|        3|\n",
      "|L15DV07A|1F.EEK10|EKT72_PM1|STATISTIC_RESULT#...|0.99998707|        2|\n",
      "|L15DV07A|1F.EEK10|EKT72_PM1|STATISTIC_RESULT#...| 0.7442202|        2|\n",
      "|L15DV07A|1F.EEK10|EKT72_PM1|STATISTIC_RESULT#...| 0.6679336|        2|\n",
      "+--------+--------+---------+--------------------+----------+---------+\n",
      "\n"
     ]
    }
   ],
   "source": [
    "res = fit_pca_small_sample(df=df_run_ss, by=grpby_list)\n",
    "res.show()"
   ]
  },
  {
   "cell_type": "code",
   "execution_count": 59,
   "id": "4c1d9090",
   "metadata": {},
   "outputs": [
    {
     "name": "stdout",
     "output_type": "stream",
     "text": [
      "+--------+--------+---------+--------------------+----------+---------+----------+\n",
      "|  PRODG1| OPER_NO|TOOL_NAME|     parametric_name|importance|bad_wafer|     stats|\n",
      "+--------+--------+---------+--------------------+----------+---------+----------+\n",
      "|L11CD02A|1F.EEK10|EKT72_PM1|APC_POSITION#AOTU...| 1.9848838|      3.0|MEAN#RANGE|\n",
      "|L11CD02A|1F.EEK10|EKT72_PM1|BOTTOMFLOWRATE#AO...| 0.9045629|      3.0|      MEAN|\n",
      "|L11CD02A|1F.EEK10|EKT72_PM1|CENTER_GAS_PRESSU...|0.98242646|      3.0|      MEAN|\n",
      "|L11CD02A|1F.EEK10|EKT72_PM1|CENTER_HE_PRESSUR...| 0.7724064|      3.0|      MEAN|\n",
      "|L11CD02A|1F.EEK10|EKT72_PM1|ESC_CURRENT#AOTU_...| 0.6545386|      3.0|       MAX|\n",
      "|L11CD02A|1F.EEK10|EKT72_PM1|LO_C1_VAR_CAPACIT...|  0.940183|      3.0|     RANGE|\n",
      "|L11CD02A|1F.EEK10|EKT72_PM1|LO_RF_POWER#AOTU_...|0.92193615|      3.0|      MEAN|\n",
      "|L11CD02A|1F.EEK10|EKT72_PM1|LO_RF_VPP#AOTU_ST...| 0.5198736|      3.0|      MEAN|\n",
      "|L11CD02A|1F.EEK10|EKT72_PM1|PROCESS_GAS_5_CHF...| 0.9020127|      3.0|       SUM|\n",
      "|L11CD02A|1F.EEK10|EKT72_PM1|UPPER_TEMPERATURE...|0.76628584|      3.0|      MEAN|\n",
      "|L15DV07A|1F.EEK10|EKT72_PM1|APC_POSITION#AOTU...| 1.4121537|      2.0|      MEAN|\n",
      "|L15DV07A|1F.EEK10|EKT72_PM1|PROCESS_GAS_6_CF4...|0.99998707|      2.0|       SUM|\n",
      "+--------+--------+---------+--------------------+----------+---------+----------+\n",
      "\n"
     ]
    }
   ],
   "source": [
    "f_res = split_calculate_features_small_sample(df=res, by=grpby_list)\n",
    "f_res.show()"
   ]
  },
  {
   "cell_type": "code",
   "execution_count": 60,
   "id": "fc609073",
   "metadata": {},
   "outputs": [
    {
     "name": "stdout",
     "output_type": "stream",
     "text": [
      "+--------+--------+---------+--------------------+--------------------+----------+\n",
      "|  PRODG1| OPER_NO|TOOL_NAME|     parametric_name|              weight|     stats|\n",
      "+--------+--------+---------+--------------------+--------------------+----------+\n",
      "|L11CD02A|1F.EEK10|EKT72_PM1|APC_POSITION#AOTU...|  0.1811487599999665|MEAN#RANGE|\n",
      "|L11CD02A|1F.EEK10|EKT72_PM1|CENTER_GAS_PRESSU...| 0.08966033032687143|      MEAN|\n",
      "|L15DV07A|1F.EEK10|EKT72_PM1|APC_POSITION#AOTU...| 0.08591935284863195|      MEAN|\n",
      "|L11CD02A|1F.EEK10|EKT72_PM1|LO_C1_VAR_CAPACIT...| 0.08580501436300049|     RANGE|\n",
      "|L11CD02A|1F.EEK10|EKT72_PM1|LO_RF_POWER#AOTU_...|   0.084139732715689|      MEAN|\n",
      "|L11CD02A|1F.EEK10|EKT72_PM1|BOTTOMFLOWRATE#AO...| 0.08255417630960758|      MEAN|\n",
      "|L11CD02A|1F.EEK10|EKT72_PM1|PROCESS_GAS_5_CHF...| 0.08232143583157621|       SUM|\n",
      "|L11CD02A|1F.EEK10|EKT72_PM1|CENTER_HE_PRESSUR...| 0.07049302456904988|      MEAN|\n",
      "|L11CD02A|1F.EEK10|EKT72_PM1|UPPER_TEMPERATURE...|  0.0699344365422384|      MEAN|\n",
      "|L15DV07A|1F.EEK10|EKT72_PM1|PROCESS_GAS_6_CF4...| 0.06084198928272122|       SUM|\n",
      "|L11CD02A|1F.EEK10|EKT72_PM1|ESC_CURRENT#AOTU_...| 0.05973591579578428|       MAX|\n",
      "|L11CD02A|1F.EEK10|EKT72_PM1|LO_RF_VPP#AOTU_ST...|0.047445831414863124|      MEAN|\n",
      "+--------+--------+---------+--------------------+--------------------+----------+\n",
      "\n"
     ]
    }
   ],
   "source": [
    "model_res_ss = get_finall_results_small_sample(f_res=f_res, bad_wafer_num=bad_wafer_num_small_sample)\n",
    "model_res_ss.show()"
   ]
  },
  {
   "cell_type": "code",
   "execution_count": 63,
   "id": "96c909b3",
   "metadata": {},
   "outputs": [
    {
     "name": "stdout",
     "output_type": "stream",
     "text": [
      "+--------+--------+---------+----------+--------------------+-----------+----------+--------------+--------+\n",
      "|  PRODG1| OPER_NO|TOOL_NAME|     stats|     parametric_name|     weight|request_id|weight_percent|index_no|\n",
      "+--------+--------+---------+----------+--------------------+-----------+----------+--------------+--------+\n",
      "|L11CD02A|1F.EEK10|EKT72_PM1|MEAN#RANGE|APC_POSITION#AOTU...| 0.18114875|       fff|     18.114876|       1|\n",
      "|L11CD02A|1F.EEK10|EKT72_PM1|      MEAN|CENTER_GAS_PRESSU...| 0.08966033|       fff|      8.966033|       2|\n",
      "|L15DV07A|1F.EEK10|EKT72_PM1|      MEAN|APC_POSITION#AOTU...| 0.08591935|       fff|      8.591935|       3|\n",
      "|L11CD02A|1F.EEK10|EKT72_PM1|     RANGE|LO_C1_VAR_CAPACIT...|0.085805014|       fff|      8.580502|       4|\n",
      "|L11CD02A|1F.EEK10|EKT72_PM1|      MEAN|LO_RF_POWER#AOTU_...|0.084139735|       fff|      8.413973|       5|\n",
      "|L11CD02A|1F.EEK10|EKT72_PM1|      MEAN|BOTTOMFLOWRATE#AO...| 0.08255418|       fff|      8.255418|       6|\n",
      "|L11CD02A|1F.EEK10|EKT72_PM1|       SUM|PROCESS_GAS_5_CHF...|0.082321435|       fff|      8.232143|       7|\n",
      "|L11CD02A|1F.EEK10|EKT72_PM1|      MEAN|CENTER_HE_PRESSUR...| 0.07049303|       fff|     7.0493026|       8|\n",
      "|L11CD02A|1F.EEK10|EKT72_PM1|      MEAN|UPPER_TEMPERATURE...|0.069934435|       fff|     6.9934435|       9|\n",
      "|L15DV07A|1F.EEK10|EKT72_PM1|       SUM|PROCESS_GAS_6_CF4...| 0.06084199|       fff|      6.084199|      10|\n",
      "|L11CD02A|1F.EEK10|EKT72_PM1|       MAX|ESC_CURRENT#AOTU_...|0.059735917|       fff|      5.973592|      11|\n",
      "|L11CD02A|1F.EEK10|EKT72_PM1|      MEAN|LO_RF_VPP#AOTU_ST...| 0.04744583|       fff|      4.744583|      12|\n",
      "+--------+--------+---------+----------+--------------------+-----------+----------+--------------+--------+\n",
      "\n"
     ]
    }
   ],
   "source": [
    "final_res_ss = model_res_ss.withColumn('add', lit(0))\n",
    "final_res_add_columns = add_certain_column(df=final_res_ss, by='add', request_id=request_id)\n",
    "final_res_add_columns.show()"
   ]
  },
  {
   "cell_type": "code",
   "execution_count": 40,
   "id": "7ea0164e",
   "metadata": {},
   "outputs": [],
   "source": [
    "# df_run_ss_pandas = df_run_ss.toPandas()\n",
    "# df_run_ss_pandas\n",
    "\n",
    "# df_run_bs_pandas[df_run_bs_pandas['label'] == 0]['parametric_name'].nunique()\n",
    "\n",
    "# df_run_bs_pandas[df_run_bs_pandas['label'] == 1]['parametric_name'].nunique()\n",
    "\n",
    "# df_pivot = df_run_ss_pandas.dropna(axis=0).pivot_table(index=['WAFER_ID', 'label'], \n",
    "#                                                  columns=['OPER_NO', 'TOOL_NAME', 'parametric_name'],\n",
    "#                                                  values=['STATISTIC_RESULT'])\n",
    "\n",
    "# df_pivot.columns = df_pivot.columns.map('#'.join)\n",
    "# df_pivot = df_pivot.fillna(df_pivot.mean()).reset_index(drop=False)\n",
    "# df_pivot\n",
    "\n",
    "# df_pivot1 = df_pivot.copy()\n",
    "# df_pivot_all = pd.concat([df_pivot, df_pivot1], axis=0)\n",
    "\n",
    "# df_pivot_all\n",
    "\n",
    "# # 定义自变量\n",
    "# x_train = df_pivot_all[df_pivot_all.columns.difference(['WAFER_ID', 'label']).tolist()]\n",
    "\n",
    "# # 建立模型\n",
    "# model = pca(n_components=min(x_train.shape[0], x_train.shape[1])-1, verbose=None)\n",
    "# results = model.fit_transform(x_train)\n",
    "# res_top = results['topfeat']\n",
    "# res_top_select = res_top[res_top['type'] == 'best'][['feature', 'loading']]\n",
    "# res_top_select = res_top_select.drop_duplicates()\n",
    "\n",
    "# res.toPandas().sort_values('importance')"
   ]
  },
  {
   "cell_type": "markdown",
   "id": "3806ad8d",
   "metadata": {},
   "source": [
    "------------------------------"
   ]
  },
  {
   "cell_type": "code",
   "execution_count": null,
   "id": "22a73ce3",
   "metadata": {},
   "outputs": [],
   "source": []
  },
  {
   "cell_type": "code",
   "execution_count": 77,
   "id": "b7772899",
   "metadata": {},
   "outputs": [],
   "source": [
    "#####################################################################################\n",
    "####################################小样本算法整合###################################\n",
    "#####################################################################################\n",
    "\n",
    "def fit_small_data_model(df_run, common_res, grpby_list, request_id):\n",
    "    \n",
    "    df1 = None\n",
    "    df2 = None\n",
    "\n",
    "    data_dict_list_ss = get_data_list(common_res=common_res, grpby_list=grpby_list, big_or_small='small')\n",
    "    print(\"data_dict_list_ss:\", data_dict_list_ss)\n",
    "    if len(data_dict_list_ss) == 0:\n",
    "        msg = '该查询条件下数据库中实际BAD_WAFER数量为0, 无法分析'\n",
    "        df_kafka = pd.DataFrame({\"code\": 1, \"msg\": f'{msg}', \"requestId\": request_id}, index=[0])\n",
    "        df1 = spark.createDataFrame(df_kafka)\n",
    "        return df1, df2\n",
    "\n",
    "    df_run_ss = get_train_data(df_run=df_run, data_dict_list=data_dict_list_ss)\n",
    "    if df_run_ss.count() == 0:\n",
    "        msg = '数据库中暂无此类数据!'\n",
    "        df_kafka = pd.DataFrame({\"code\": 1, \"msg\": f'{msg}', \"requestId\": request_id}, index=[0])\n",
    "        df1 = spark.createDataFrame(df_kafka)\n",
    "        return df1, df2\n",
    "\n",
    "    bad_wafer_num_small_sample = get_all_bad_wafer_num(df_run_ss)\n",
    "    if bad_wafer_num_small_sample < 1:\n",
    "        msg = '该查询条件下数据库中实际BAD_WAFER数量小于1片, 请提供更多的BAD_WAFER数量!'\n",
    "        df_kafka = pd.DataFrame({\"code\": 1, \"msg\": f'{msg}', \"requestId\": request_id}, index=[0])\n",
    "        df1 = spark.createDataFrame(df_kafka)\n",
    "        return df1, df2\n",
    "\n",
    "    res = fit_pca_small_sample(df=df_run_ss, by=grpby_list)\n",
    "    if res.count() == 0:\n",
    "        msg = '算法内部暂时异常!'\n",
    "        df_kafka = pd.DataFrame({\"code\": 1, \"msg\": f'{msg}', \"requestId\": request_id}, index=[0])\n",
    "        df1 = spark.createDataFrame(df_kafka)\n",
    "        return df1, df2\n",
    "\n",
    "    f_res = split_calculate_features_small_sample(df=res, by=grpby_list)\n",
    "    if f_res.count() == 0:\n",
    "        msg = '算法结果求和暂时异常'\n",
    "        df_kafka = pd.DataFrame({\"code\": 1, \"msg\": f'{msg}', \"requestId\": request_id}, index=[0])\n",
    "        df1 = spark.createDataFrame(df_kafka)\n",
    "        return df1, df2\n",
    "\n",
    "    model_res_ss = get_finall_results_small_sample(f_res=f_res, bad_wafer_num=bad_wafer_num_small_sample)\n",
    "    if model_res_ss.count() == 0:\n",
    "        msg = '算法结果拼接暂时异常'\n",
    "        df_kafka = pd.DataFrame({\"code\": 1, \"msg\": f'{msg}', \"requestId\": request_id}, index=[0])\n",
    "        df1 = spark.createDataFrame(df_kafka)\n",
    "        return df1, df2\n",
    "\n",
    "    final_res_ss = model_res_ss.withColumn('add', lit(0))\n",
    "    final_res_add_columns = add_certain_column(df=final_res_ss, by='add', request_id=request_id)\n",
    "    if final_res_add_columns.count() == 0:\n",
    "        msg = '算法结果增加列暂时异常'\n",
    "        df_kafka = pd.DataFrame({\"code\": 1, \"msg\": f'{msg}', \"requestId\": request_id}, index=[0])\n",
    "        df1 = spark.createDataFrame(df_kafka)\n",
    "        return df1, df2\n",
    "    else:\n",
    "        return df1, final_res_add_columns"
   ]
  },
  {
   "cell_type": "code",
   "execution_count": 78,
   "id": "1d78ee07",
   "metadata": {},
   "outputs": [],
   "source": [
    "#####################################################################################\n",
    "################################将最后的结果写回数据库###############################\n",
    "#####################################################################################\n",
    "def doris_stream_load_from_df(df, engine, table, is_json=True, chunksize=100000, partitions=None):\n",
    "    engine_url = engine.url\n",
    "    url = 'http://%s:18030/api/%s/%s/_stream_load' % (engine_url.host, engine_url.database, table)\n",
    "\n",
    "    format_str = 'csv' if not is_json else 'json'\n",
    "    headers = {\n",
    "        'Content-Type': 'text/plain; charset=UTF-8',\n",
    "        'format': format_str,\n",
    "        'Expect': '100-continue'\n",
    "    }\n",
    "    if is_json:\n",
    "        headers['strip_outer_array'] = 'true'\n",
    "        headers['read_json_by_line'] = 'true'\n",
    "    else:\n",
    "        headers['column_separator'] = '@'\n",
    "    \n",
    "    if partitions:\n",
    "        headers['partitions'] = partitions\n",
    "    \n",
    "    auth = requests.auth.HTTPBasicAuth(engine_url.username, engine_url.password)\n",
    "    session = requests.sessions.Session()\n",
    "    session.should_strip_auth = lambda old_url, new_url: False\n",
    "    \n",
    "    l = len(df)\n",
    "    if l > 0:\n",
    "        if chunksize and chunksize < l:\n",
    "            batches = l // chunksize\n",
    "            if l % chunksize > 0:\n",
    "                batches += 1\n",
    "            for i in range(batches):\n",
    "                si = i * chunksize\n",
    "                ei = min(si + chunksize, l)\n",
    "                sub = df[si:ei]\n",
    "                do_doris_stream_load_from_df(sub, session, url, headers, auth, is_json)\n",
    "        else:\n",
    "            do_doris_stream_load_from_df(df, session, url, headers, auth, is_json)\n",
    "\n",
    "\n",
    "def do_doris_stream_load_from_df(df, session, url, headers, auth, is_json=False):\n",
    "    data = df.to_csv(header=False, index=False, sep='@') if not is_json else df.to_json(orient='records', date_format='iso')\n",
    "    #print(data)\n",
    "    \n",
    "    resp = session.request(\n",
    "        'PUT',\n",
    "        url = url,\n",
    "        data=data.encode('utf-8'),\n",
    "        headers=headers,\n",
    "        auth=auth\n",
    "    )\n",
    "    print(resp.reason, resp.text)\n",
    "    check_stream_load_response(resp.text)\n",
    "\n",
    "\n",
    "def check_stream_load_response(resp_text):\n",
    "    resp = json.loads(resp_text)\n",
    "    if resp['Status'] not in [\"Success\", \"Publish Timeout\"]:\n",
    "        raise Exception(resp['Message'])"
   ]
  },
  {
   "cell_type": "code",
   "execution_count": 45,
   "id": "6dbc5171",
   "metadata": {},
   "outputs": [],
   "source": [
    "##########################################################################################\n",
    "#######################################正式调用以上函数#######################################\n",
    "##########################################################################################\n",
    "# request_id = 'sdd'\n",
    "# grpby_list = ['OPER_NO', 'TOOL_NAME']\n",
    "\n",
    "# # 1. 解析json 为字典， df1为kafka输入的结果数据，获取到parse_dict, request_id, grpby_list\n",
    "# df2 = df1.toPandas() \n",
    "# parse_dict, request_id, grpby_list = get_some_info(df2)\n",
    "# print(type(parse_dict))\n",
    "# print(grpby_list)\n",
    "\n",
    "# # 2. 从kafka 关键字映射都具体数据源中的字段,没有的可以删除\n",
    "# keyword_map_from_json_to_table: dict = {\n",
    "#     \"prodg1\": \"PRODG1\",\n",
    "#     \"waferId\": \"WAFER_ID\",\n",
    "#     \"dateRange\": \"START_TIME\",\n",
    "#     \"productId\": \"PRODUCT_ID\",\n",
    "#     \"operNo\": \"OPER_NO\",\n",
    "#     \"eqp\": \"EQP_NAME\",\n",
    "#     \"tool\": \"TOOL_NAME\",\n",
    "#     \"lot\": \"LOT_ID\",\n",
    "#     \"recipeName\": \"RECIPE_NAME\"}\n",
    "\n",
    "# # 3. 获取查询条件list\n",
    "# select_condition_list = parse_dict\n",
    "\n",
    "# # 4. 指定查询表名, 根据实际情况需要修改\n",
    "# table_name = \"etl.DWD_POC_CASE_FD_UVA_DATA_TEST\""
   ]
  },
  {
   "cell_type": "code",
   "execution_count": null,
   "id": "aa450022",
   "metadata": {
    "scrolled": true
   },
   "outputs": [],
   "source": [
    "# from pyspark.sql import SparkSession\n",
    "# spark = (SparkSession.builder\n",
    "#             .master(\"local[*]\")\n",
    "#             .config(\"spark.jars.packages\", \"ai.catboost:catboost-spark_3.3_2.12:1.2\")\n",
    "#             .appName(\"RF\")\n",
    "#             .getOrCreate())"
   ]
  },
  {
   "cell_type": "code",
   "execution_count": null,
   "id": "3fef057a",
   "metadata": {},
   "outputs": [],
   "source": []
  },
  {
   "cell_type": "markdown",
   "id": "9fb12995",
   "metadata": {},
   "source": [
    "-----------------------"
   ]
  },
  {
   "cell_type": "code",
   "execution_count": 91,
   "id": "77f019e0",
   "metadata": {},
   "outputs": [
    {
     "name": "stderr",
     "output_type": "stream",
     "text": [
      "/usr/local/spark/python/pyspark/pandas/internal.py:1573: FutureWarning: iteritems is deprecated and will be removed in a future version. Use .items instead.\n",
      "  fields = [\n",
      "/usr/local/spark/python/pyspark/sql/pandas/conversion.py:486: FutureWarning: iteritems is deprecated and will be removed in a future version. Use .items instead.\n",
      "  for column, series in pdf.iteritems():\n",
      "/usr/local/spark/python/pyspark/pandas/utils.py:975: PandasAPIOnSparkAdviceWarning: If `index_col` is not specified for `to_spark`, the existing index is lost when converting to Spark DataFrame.\n",
      "  warnings.warn(message, PandasAPIOnSparkAdviceWarning)\n"
     ]
    },
    {
     "name": "stdout",
     "output_type": "stream",
     "text": [
      "10\n"
     ]
    }
   ],
   "source": [
    "df_pandas = pd.read_csv(\"small4.csv\")\n",
    "\n",
    "df1 = ps.from_pandas(df_pandas).to_spark()\n",
    "print(df1.count())\n",
    "\n",
    "good = ['NBX392-15', 'NBX392-20', 'NBX392-24', 'NBX391-24', 'NBX391-25', 'NBX548-09', 'NBX391-01', 'NBX391-02', 'NBX391-13', 'NBX391-17']\n",
    "bad  = ['NBX500-10', 'NBX500-01', 'NBX500-09']\n",
    "\n",
    "if 'label' in df1.columns:\n",
    "    df1 = df1\n",
    "else:\n",
    "    df1 = get_label_double(df1, bad, good)"
   ]
  },
  {
   "cell_type": "code",
   "execution_count": 92,
   "id": "f121fc00",
   "metadata": {
    "scrolled": true
   },
   "outputs": [
    {
     "name": "stdout",
     "output_type": "stream",
     "text": [
      "+-------+---------------+------+--------+----------+--------------+--------+--------+----------+---------+--------------------+----------+-----------+----------+--------------------+-------------------+------------+-------------+--------------+-------+---------------+-------------------+-------------------+----------------+----------------+----------------+----------------+----------------+-------------+-------------+-------------+----------+-------------+------+------------+---------+----------------+-------+-----+\n",
      "|TOOL_ID|      TOOL_NAME|RUN_ID|EQP_NAME| CASE_INFO|    PRODUCT_ID|  PRODG1| OPER_NO|    LOT_ID| WAFER_ID|         RECIPE_NAME|     INPUT|     WINDOW|STATISTICS|     parametric_name|         START_TIME|PARTITION_ID|STATISTIC_KEY|COLLECTION_KEY| SEQ_ID|PROCESS_TYPE_ID|         TIME_STAMP|    CALC_TIME_STAMP|          TARGET|   LOWER_WARNING|   UPPER_WARNING|  LOWER_CRITICAL|  UPPER_CRITICAL|LOWER_OUTLIER|UPPER_OUTLIER|RULES_ENABLED|ALARM_RULE|       RESULT|STATUS|      REGION|ERROR_MSG|STATISTIC_RESULT|VERSION|label|\n",
      "+-------+---------------+------+--------+----------+--------------+--------+--------+----------+---------+--------------------+----------+-----------+----------+--------------------+-------------------+------------+-------------+--------------+-------+---------------+-------------------+-------------------+----------------+----------------+----------------+----------------+----------------+-------------+-------------+-------------+----------+-------------+------+------------+---------+----------------+-------+-----+\n",
      "|   9279|PBT01_CLHA_4-12|365189|   PBT01|2023-12-25|AFPNR901N.0C0C|L2800Z2N|1G.PPB10|NBX500.000|NBX500-01|WaferFlow/PRD/PRO...|PLATE_TEMP|DHP150_MEAN|      MEAN|PLATE_TEMP#DHP150...|2023-12-25 18:41:35|         279|         null|         16101|1241416|           null|2023-12-25 18:41:35|2023-12-25 18:43:01|150.015922804888|149.902903086151|150.128942523624|149.846393226782|150.185452382993|         null|         null|            1|      null|149.953478261|NORMAL|LOWER_NORMAL|     null|   149.953478261|      4|    1|\n",
      "|   9280|PBT01_CLHA_4-21|359818|   PBT01|2023-12-25|AFPNR901N.0C0C|L2800Z2N|1G.PPB10|NBX500.000|NBX500-10|WaferFlow/PRD/PRO...|PLATE_TEMP|DHP150_MEAN|      MEAN|PLATE_TEMP#DHP150...|2023-12-25 18:44:46|         280|         null|         16101|1241416|           null|2023-12-25 18:44:46|2023-12-25 18:46:12|150.045654774697|149.935835347171|150.155474202224|149.880925633408|150.210383915987|         null|         null|            1|      null|      150.015|NORMAL|LOWER_NORMAL|     null|         150.015|      4|    1|\n",
      "|   9279|PBT01_CLHA_4-12|366799|   PBT01|2023-12-28|AFPNR901N.0B01|L2800Z2N|1G.PPB10|NBX548.110|NBX548-09|WaferFlow/PRD/PRO...|PLATE_TEMP|DHP150_MEAN|      MEAN|PLATE_TEMP#DHP150...|2023-12-28 19:30:03|         279|         null|         16101|1241416|           null|2023-12-28 19:30:03|2023-12-28 19:31:30|150.015922804888|149.902903086151|150.128942523624|149.846393226782|150.185452382993|         null|         null|            1|      null|     149.9875|NORMAL|LOWER_NORMAL|     null|        149.9875|      4|    0|\n",
      "|   9279|PBT01_CLHA_4-12|362253|   PBT01|2023-12-20|AFPNR901N.0C0C|L2800Z2N|1G.PPB10|NBX500.000|NBX500-01|WaferFlow/PRD/PRO...|PLATE_TEMP|DHP150_MEAN|      MEAN|PLATE_TEMP#DHP150...|2023-12-20 16:22:35|         279|         null|         16101|1241416|           null|2023-12-20 16:22:35|2023-12-20 16:24:01|150.015922804888|149.902903086151|150.128942523624|149.846393226782|150.185452382993|         null|         null|            1|      null|149.946666667|NORMAL|LOWER_NORMAL|     null|   149.946666667|      4|    1|\n",
      "|   9280|PBT01_CLHA_4-21|356904|   PBT01|2023-12-20|AFPNR901N.0C0C|L2800Z2N|1G.PPB10|NBX500.000|NBX500-10|WaferFlow/PRD/PRO...|PLATE_TEMP|DHP150_MEAN|      MEAN|PLATE_TEMP#DHP150...|2023-12-20 16:29:43|         280|         null|         16101|1241416|           null|2023-12-20 16:29:43|2023-12-20 16:31:09|150.045654774697|149.935835347171|150.155474202224|149.880925633408|150.210383915987|         null|         null|            1|      null|     150.0075|NORMAL|LOWER_NORMAL|     null|        150.0075|      4|    1|\n",
      "|   9279|PBT01_CLHA_4-12|365191|   PBT01|2023-12-25|AFPNR901N.0C0C|L2800Z2N|1G.PPB10|NBX500.000|NBX500-09|WaferFlow/PRD/PRO...|PLATE_TEMP|DHP150_MEAN|      MEAN|PLATE_TEMP#DHP150...|2023-12-25 18:44:27|         279|         null|         16101|1241416|           null|2023-12-25 18:44:27|2023-12-25 18:45:53|150.015922804888|149.902903086151|150.128942523624|149.846393226782|150.185452382993|         null|         null|            1|      null|    149.97125|NORMAL|LOWER_NORMAL|     null|       149.97125|      4|    1|\n",
      "|   9279|PBT01_CLHA_4-12|362255|   PBT01|2023-12-20|AFPNR901N.0C0C|L2800Z2N|1G.PPB10|NBX500.000|NBX500-09|WaferFlow/PRD/PRO...|PLATE_TEMP|DHP150_MEAN|      MEAN|PLATE_TEMP#DHP150...|2023-12-20 16:29:17|         279|         null|         16101|1241416|           null|2023-12-20 16:29:17|2023-12-20 16:30:44|150.015922804888|149.902903086151|150.128942523624|149.846393226782|150.185452382993|         null|         null|            1|      null|149.989166667|NORMAL|LOWER_NORMAL|     null|   149.989166667|      4|    1|\n",
      "|   9279|PBT01_CLHA_4-12|373798|   PBT01|2024-01-09|AFPNR901N.0D0D|L2800Z2N|1G.PPB10|NBX392.010|NBX392-24|WaferFlow/PRD/PRO...|PLATE_TEMP|DHP150_MEAN|      MEAN|PLATE_TEMP#DHP150...|2024-01-09 23:07:49|         279|         null|         16101|1241416|           null|2024-01-09 23:07:49|2024-01-09 23:09:16|150.015922804888|149.902903086151|150.128942523624|149.846393226782|150.185452382993|         null|         null|            1|      null|149.967083333|NORMAL|LOWER_NORMAL|     null|   149.967083333|      4|    0|\n",
      "|   9279|PBT01_CLHA_4-12|373797|   PBT01|2024-01-09|AFPNR901N.0D0D|L2800Z2N|1G.PPB10|NBX392.010|NBX392-20|WaferFlow/PRD/PRO...|PLATE_TEMP|DHP150_MEAN|      MEAN|PLATE_TEMP#DHP150...|2024-01-09 23:06:05|         279|         null|         16101|1241416|           null|2024-01-09 23:06:05|2024-01-09 23:07:32|150.015922804888|149.902903086151|150.128942523624|149.846393226782|150.185452382993|         null|         null|            1|      null|149.995833333|NORMAL|LOWER_NORMAL|     null|   149.995833333|      4|    0|\n",
      "|   9278|PBT01_CLHA_4-11|385956|   PBT01|2024-01-09|AFPNR901N.0D0D|L2800Z2N|1G.PPB10|NBX392.010|NBX392-15|WaferFlow/PRD/PRO...|PLATE_TEMP|DHP150_MEAN|      MEAN|PLATE_TEMP#DHP150...|2024-01-09 23:00:39|         278|         null|         16101|1241416|           null|2024-01-09 23:00:39|2024-01-09 23:02:05|150.015431805042|149.912491217033|150.118372393051|149.861020923028|150.169842687055|         null|         null|            1|      null|149.995217391|NORMAL|LOWER_NORMAL|     null|   149.995217391|      4|    0|\n",
      "+-------+---------------+------+--------+----------+--------------+--------+--------+----------+---------+--------------------+----------+-----------+----------+--------------------+-------------------+------------+-------------+--------------+-------+---------------+-------------------+-------------------+----------------+----------------+----------------+----------------+----------------+-------------+-------------+-------------+----------+-------------+------+------------+---------+----------------+-------+-----+\n",
      "\n"
     ]
    }
   ],
   "source": [
    "df1.show()"
   ]
  },
  {
   "cell_type": "code",
   "execution_count": null,
   "id": "add943ae",
   "metadata": {},
   "outputs": [],
   "source": []
  },
  {
   "cell_type": "code",
   "execution_count": 96,
   "id": "0dd3fca0",
   "metadata": {},
   "outputs": [
    {
     "ename": "NameError",
     "evalue": "name 'spark' is not defined",
     "output_type": "error",
     "traceback": [
      "\u001b[0;31m---------------------------------------------------------------------------\u001b[0m",
      "\u001b[0;31mAttributeError\u001b[0m                            Traceback (most recent call last)",
      "Cell \u001b[0;32mIn [96], line 14\u001b[0m\n\u001b[1;32m     13\u001b[0m df1 \u001b[38;5;241m=\u001b[39m integrate_operno(df\u001b[38;5;241m=\u001b[39mdf1, merge_operno_list\u001b[38;5;241m=\u001b[39mmerge_operno)\n\u001b[0;32m---> 14\u001b[0m \u001b[38;5;28mprint\u001b[39m(\u001b[43mdf1\u001b[49m\u001b[38;5;241;43m.\u001b[39;49m\u001b[43mcount\u001b[49m())\n\u001b[1;32m     15\u001b[0m df_run \u001b[38;5;241m=\u001b[39m _pre_process(df1)\n",
      "\u001b[0;31mAttributeError\u001b[0m: 'NoneType' object has no attribute 'count'",
      "\nDuring handling of the above exception, another exception occurred:\n",
      "\u001b[0;31mNameError\u001b[0m                                 Traceback (most recent call last)",
      "Cell \u001b[0;32mIn [96], line 70\u001b[0m\n\u001b[1;32m     68\u001b[0m \u001b[38;5;28;01mexcept\u001b[39;00m \u001b[38;5;167;01mException\u001b[39;00m \u001b[38;5;28;01mas\u001b[39;00m e:\n\u001b[1;32m     69\u001b[0m     df_kafka \u001b[38;5;241m=\u001b[39m pd\u001b[38;5;241m.\u001b[39mDataFrame({\u001b[38;5;124m\"\u001b[39m\u001b[38;5;124mcode\u001b[39m\u001b[38;5;124m\"\u001b[39m: \u001b[38;5;241m1\u001b[39m, \u001b[38;5;124m\"\u001b[39m\u001b[38;5;124mmsg\u001b[39m\u001b[38;5;124m\"\u001b[39m: \u001b[38;5;124mf\u001b[39m\u001b[38;5;124m\"\u001b[39m\u001b[38;5;124m主程序发生异常: \u001b[39m\u001b[38;5;132;01m{\u001b[39;00m\u001b[38;5;28mstr\u001b[39m(e)\u001b[38;5;132;01m}\u001b[39;00m\u001b[38;5;124m\"\u001b[39m, \u001b[38;5;124m\"\u001b[39m\u001b[38;5;124mrequestId\u001b[39m\u001b[38;5;124m\"\u001b[39m: request_id}, index\u001b[38;5;241m=\u001b[39m[\u001b[38;5;241m0\u001b[39m])\n\u001b[0;32m---> 70\u001b[0m     df1 \u001b[38;5;241m=\u001b[39m \u001b[43mspark\u001b[49m\u001b[38;5;241m.\u001b[39mcreateDataFrame(df_kafka)\n",
      "\u001b[0;31mNameError\u001b[0m: name 'spark' is not defined"
     ]
    }
   ],
   "source": [
    "# 主程序\n",
    "try:\n",
    "    # 从数据库中获取数据\n",
    "#     df1 = get_data_from_doris(select_condition_list=select_condition_list, table_name=table_name)\n",
    "#     print(df1.count())\n",
    "#     if df1.count() == 0:\n",
    "#         msg = '解析SQL获取数据异常: 数据库中可能没有数据!'\n",
    "#         df_kafka = pd.DataFrame({\"code\": 1, \"msg\": f'{msg}', \"requestId\": request_id}, index=[0])\n",
    "#         df1 = spark.createDataFrame(df_kafka)\n",
    "#         raise ValueError\n",
    "\n",
    "    # 1. 站点融合和数据预处理\n",
    "    df1 = integrate_operno(df=df1, merge_operno_list=merge_operno)\n",
    "    print(df1.count())\n",
    "    df_run = _pre_process(df1)\n",
    "    print(df_run.count())\n",
    "    if df_run.count() == 0:\n",
    "        msg = '该条件下数据库中暂无数据，请检查！'\n",
    "        df_kafka = pd.DataFrame({\"code\": 1, \"msg\": f'{msg}', \"requestId\": request_id}, index=[0])\n",
    "        df1 = spark.createDataFrame(df_kafka)\n",
    "        raise ValueError\n",
    "\n",
    "    # 2. 进行共性分析\n",
    "    common_res = commonality_analysis(df_run, grpby_list)\n",
    "    common_res.show()\n",
    "    if common_res.count() == 0:\n",
    "        msg = '共性分析结果异常!'\n",
    "        df_kafka = pd.DataFrame({\"code\": 1, \"msg\": f'{msg}', \"requestId\": request_id}, index=[0])\n",
    "        df1 = spark.createDataFrame(df_kafka)\n",
    "        raise ValueError\n",
    "\n",
    "    # 3. 挑选出数据：bad和good要同时大于3\n",
    "    data_dict_list_bs = get_data_list(common_res, grpby_list, big_or_small='big')\n",
    "    print(\"data_dict_list_bs:\", data_dict_list_bs)\n",
    "    if len(data_dict_list_bs) != 0:\n",
    "        print(\"****************大样本算法调用****************\")\n",
    "        df1, final_res_add_columns = fit_big_data_model(df_run, data_dict_list_bs, grpby_list, request_id)\n",
    "    else:        \n",
    "        print(\"****************小样本算法调用****************\")\n",
    "        df1, final_res_add_columns = fit_small_data_model(df_run, common_res, grpby_list, request_id)\n",
    "    \n",
    "\n",
    "    if df1 is not None:\n",
    "        raise ValueError\n",
    "    else:\n",
    "        # final_res_add_columns 是最后的结果，要写回数据库\n",
    "        # ddd = final_res_add_columns.toPandas()\n",
    "        # user =\"root\"\n",
    "        # host = \"10.52.199.81\"\n",
    "        # password = \"Nexchip%40123\"\n",
    "        # db = \"etl\"\n",
    "        # port = 9030\n",
    "        # engine = create_engine(\"mysql+pymysql://{user}:{password}@{host}:{port}/{db}\".format(user = user,\n",
    "        #                                                                                     password = password,\n",
    "        #                                                                                     host = host,\n",
    "        #                                                                                     port = port,\n",
    "        #                                                                                     db = db))\n",
    "        # doris_stream_load_from_df(ddd, engine, \"results\")\n",
    "\n",
    "        # # 最终成功的话，就会输出下面这条\n",
    "        print(\"运行成功\")\n",
    "        df_kafka = pd.DataFrame({\"code\": 0, \"msg\": \"运行成功\", \"requestId\": request_id}, index=[0])\n",
    "        df1 = spark.createDataFrame(df_kafka)\n",
    "\n",
    "except ValueError as ve:\n",
    "    pass\n",
    "\n",
    "except Exception as e:\n",
    "    df_kafka = pd.DataFrame({\"code\": 1, \"msg\": f\"主程序发生异常: {str(e)}\", \"requestId\": request_id}, index=[0])\n",
    "    df1 = spark.createDataFrame(df_kafka)"
   ]
  },
  {
   "cell_type": "code",
   "execution_count": 97,
   "id": "9e68ca39",
   "metadata": {},
   "outputs": [
    {
     "name": "stdout",
     "output_type": "stream",
     "text": [
      "最终的df1是：\n",
      "<class 'NoneType'>\n"
     ]
    },
    {
     "ename": "AttributeError",
     "evalue": "'NoneType' object has no attribute 'show'",
     "output_type": "error",
     "traceback": [
      "\u001b[0;31m---------------------------------------------------------------------------\u001b[0m",
      "\u001b[0;31mAttributeError\u001b[0m                            Traceback (most recent call last)",
      "Cell \u001b[0;32mIn [97], line 3\u001b[0m\n\u001b[1;32m      1\u001b[0m \u001b[38;5;28mprint\u001b[39m(\u001b[38;5;124m\"\u001b[39m\u001b[38;5;124m最终的df1是：\u001b[39m\u001b[38;5;124m\"\u001b[39m)\n\u001b[1;32m      2\u001b[0m \u001b[38;5;28mprint\u001b[39m(\u001b[38;5;28mtype\u001b[39m(df1))\n\u001b[0;32m----> 3\u001b[0m \u001b[43mdf1\u001b[49m\u001b[38;5;241;43m.\u001b[39;49m\u001b[43mshow\u001b[49m()\n\u001b[1;32m      5\u001b[0m \u001b[38;5;28mprint\u001b[39m(\u001b[38;5;124m\"\u001b[39m\u001b[38;5;124m最终的算法结果是：\u001b[39m\u001b[38;5;124m\"\u001b[39m)\n\u001b[1;32m      6\u001b[0m \u001b[38;5;28mprint\u001b[39m(\u001b[38;5;28mtype\u001b[39m(final_res_add_columns))\n",
      "\u001b[0;31mAttributeError\u001b[0m: 'NoneType' object has no attribute 'show'"
     ]
    }
   ],
   "source": [
    "print(\"最终的df1是：\")\n",
    "print(type(df1))\n",
    "df1.show()\n",
    "\n",
    "print(\"最终的算法结果是：\")\n",
    "print(type(final_res_add_columns))\n",
    "final_res_add_columns.show()"
   ]
  },
  {
   "cell_type": "code",
   "execution_count": 95,
   "id": "306bb66f",
   "metadata": {},
   "outputs": [
    {
     "name": "stdout",
     "output_type": "stream",
     "text": [
      "+--------+--------+---------------+-----+--------------------+------+----------+--------------+--------+\n",
      "|  PRODG1| OPER_NO|      TOOL_NAME|stats|     parametric_name|weight|request_id|weight_percent|index_no|\n",
      "+--------+--------+---------------+-----+--------------------+------+----------+--------------+--------+\n",
      "|L2800Z2N|1G.PPB10|PBT01_CLHA_4-12| MEAN|PLATE_TEMP#DHP150...|   1.0|       fff|         100.0|       1|\n",
      "+--------+--------+---------------+-----+--------------------+------+----------+--------------+--------+\n",
      "\n"
     ]
    }
   ],
   "source": [
    "final_res_add_columns.show()"
   ]
  },
  {
   "cell_type": "code",
   "execution_count": null,
   "id": "7ecb63e6",
   "metadata": {},
   "outputs": [],
   "source": []
  },
  {
   "cell_type": "code",
   "execution_count": null,
   "id": "268564f2",
   "metadata": {},
   "outputs": [],
   "source": []
  },
  {
   "cell_type": "code",
   "execution_count": null,
   "id": "0782d987",
   "metadata": {},
   "outputs": [],
   "source": []
  }
 ],
 "metadata": {
  "kernelspec": {
   "display_name": "Python 3 (ipykernel)",
   "language": "python",
   "name": "python3"
  },
  "language_info": {
   "codemirror_mode": {
    "name": "ipython",
    "version": 3
   },
   "file_extension": ".py",
   "mimetype": "text/x-python",
   "name": "python",
   "nbconvert_exporter": "python",
   "pygments_lexer": "ipython3",
   "version": "3.9.13"
  }
 },
 "nbformat": 4,
 "nbformat_minor": 5
}
