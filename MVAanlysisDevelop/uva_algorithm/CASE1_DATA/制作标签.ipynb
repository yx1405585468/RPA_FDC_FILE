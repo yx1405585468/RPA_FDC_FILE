{
 "cells": [
  {
   "cell_type": "code",
   "execution_count": 1,
   "id": "67ef1665",
   "metadata": {
    "ExecuteTime": {
     "end_time": "2024-06-13T02:53:54.852052Z",
     "start_time": "2024-06-13T02:53:52.473982Z"
    }
   },
   "outputs": [],
   "source": [
    "import pandas as pd"
   ]
  },
  {
   "cell_type": "code",
   "execution_count": 24,
   "id": "e9e746e3",
   "metadata": {
    "ExecuteTime": {
     "end_time": "2024-06-13T03:06:42.634717Z",
     "start_time": "2024-06-13T03:06:40.830604Z"
    }
   },
   "outputs": [],
   "source": [
    "df_pandas = pd.read_csv(\n",
    "        \"D:/Jupyterfiles/晶合MVAFDC_general开发/MVAanlysisDevelop/uva_algorithm/CASE1_DATA/DWD_POC_CASE_FD_UVA_DATA_CASE1_PROCESSED1_1.csv\")"
   ]
  },
  {
   "cell_type": "code",
   "execution_count": 25,
   "id": "32d128e7",
   "metadata": {
    "ExecuteTime": {
     "end_time": "2024-06-13T03:06:43.364374Z",
     "start_time": "2024-06-13T03:06:43.346235Z"
    }
   },
   "outputs": [
    {
     "data": {
      "text/plain": [
       "(550911, 16)"
      ]
     },
     "execution_count": 25,
     "metadata": {},
     "output_type": "execute_result"
    }
   ],
   "source": [
    "df_pandas.shape"
   ]
  },
  {
   "cell_type": "code",
   "execution_count": 4,
   "id": "faf55392",
   "metadata": {
    "ExecuteTime": {
     "end_time": "2024-06-13T02:54:12.176262Z",
     "start_time": "2024-06-13T02:54:12.155793Z"
    }
   },
   "outputs": [
    {
     "data": {
      "text/plain": [
       "0    364879\n",
       "1    186032\n",
       "Name: label, dtype: int64"
      ]
     },
     "execution_count": 4,
     "metadata": {},
     "output_type": "execute_result"
    }
   ],
   "source": [
    "df_pandas['label'].value_counts()"
   ]
  },
  {
   "cell_type": "code",
   "execution_count": 8,
   "id": "2fcf3847",
   "metadata": {
    "ExecuteTime": {
     "end_time": "2024-06-13T02:55:00.965610Z",
     "start_time": "2024-06-13T02:55:00.919529Z"
    }
   },
   "outputs": [
    {
     "data": {
      "text/plain": [
       "6094"
      ]
     },
     "execution_count": 8,
     "metadata": {},
     "output_type": "execute_result"
    }
   ],
   "source": [
    "df_pandas['WAFER_ID'].nunique()"
   ]
  },
  {
   "cell_type": "code",
   "execution_count": 17,
   "id": "4dd10338",
   "metadata": {
    "ExecuteTime": {
     "end_time": "2024-06-13T03:02:38.480986Z",
     "start_time": "2024-06-13T03:02:38.438121Z"
    }
   },
   "outputs": [
    {
     "data": {
      "text/plain": [
       "array(['NGE186-07', 'NGE197-03', 'NGE197-08', ..., 'NGE708-24',\n",
       "       'NGE709-17', 'NGE714-18'], dtype=object)"
      ]
     },
     "execution_count": 17,
     "metadata": {},
     "output_type": "execute_result"
    }
   ],
   "source": [
    "wf = df_pandas['WAFER_ID'].unique()\n",
    "wf"
   ]
  },
  {
   "cell_type": "code",
   "execution_count": 18,
   "id": "043d8d29",
   "metadata": {
    "ExecuteTime": {
     "end_time": "2024-06-13T03:02:39.466414Z",
     "start_time": "2024-06-13T03:02:39.458833Z"
    }
   },
   "outputs": [],
   "source": [
    "g = wf[:2020]\n",
    "b = wf[2020:5000]\n",
    "n = wf[5000:]"
   ]
  },
  {
   "cell_type": "code",
   "execution_count": 19,
   "id": "c3fab8be",
   "metadata": {
    "ExecuteTime": {
     "end_time": "2024-06-13T03:02:40.282632Z",
     "start_time": "2024-06-13T03:02:40.272050Z"
    }
   },
   "outputs": [],
   "source": [
    "def tag_label(row):\n",
    "    if row['WAFER_ID'] in g:\n",
    "        return 0\n",
    "    elif row['WAFER_ID'] in b:\n",
    "        return 1\n",
    "    elif row['WAFER_ID'] in n:\n",
    "        return 2\n",
    "    else:\n",
    "        return -1  "
   ]
  },
  {
   "cell_type": "code",
   "execution_count": 20,
   "id": "41fd6d22",
   "metadata": {
    "ExecuteTime": {
     "end_time": "2024-06-13T03:03:44.749551Z",
     "start_time": "2024-06-13T03:02:41.000588Z"
    }
   },
   "outputs": [],
   "source": [
    "df_pandas['label'] = df_pandas.apply(tag_label, axis=1)"
   ]
  },
  {
   "cell_type": "code",
   "execution_count": 21,
   "id": "3a5f93be",
   "metadata": {
    "ExecuteTime": {
     "end_time": "2024-06-13T03:03:46.947620Z",
     "start_time": "2024-06-13T03:03:46.927496Z"
    }
   },
   "outputs": [
    {
     "data": {
      "text/plain": [
       "1    284864\n",
       "0    150207\n",
       "2    115840\n",
       "Name: label, dtype: int64"
      ]
     },
     "execution_count": 21,
     "metadata": {},
     "output_type": "execute_result"
    }
   ],
   "source": [
    "df_pandas['label'].value_counts()"
   ]
  },
  {
   "cell_type": "code",
   "execution_count": 23,
   "id": "5fcbefb6",
   "metadata": {
    "ExecuteTime": {
     "end_time": "2024-06-13T03:04:26.664224Z",
     "start_time": "2024-06-13T03:04:21.442091Z"
    }
   },
   "outputs": [],
   "source": [
    "df_pandas.to_csv(\"DWD_POC_CASE_FD_UVA_DATA_CASE1_PROCESSED1_2.csv\")"
   ]
  },
  {
   "cell_type": "code",
   "execution_count": null,
   "id": "f78ad758",
   "metadata": {},
   "outputs": [],
   "source": []
  },
  {
   "cell_type": "code",
   "execution_count": 26,
   "id": "0c946a8e",
   "metadata": {
    "ExecuteTime": {
     "end_time": "2024-06-13T06:05:27.568463Z",
     "start_time": "2024-06-13T06:05:27.558909Z"
    }
   },
   "outputs": [],
   "source": [
    "grpby_list = ['OPE_NO', 'PRODUCT_ID', 'EQP_NAME']"
   ]
  },
  {
   "cell_type": "code",
   "execution_count": 31,
   "id": "cd0bd52e",
   "metadata": {
    "ExecuteTime": {
     "end_time": "2024-06-13T06:08:16.100745Z",
     "start_time": "2024-06-13T06:08:15.838688Z"
    },
    "scrolled": true
   },
   "outputs": [
    {
     "data": {
      "text/html": [
       "<div>\n",
       "<style scoped>\n",
       "    .dataframe tbody tr th:only-of-type {\n",
       "        vertical-align: middle;\n",
       "    }\n",
       "\n",
       "    .dataframe tbody tr th {\n",
       "        vertical-align: top;\n",
       "    }\n",
       "\n",
       "    .dataframe thead th {\n",
       "        text-align: right;\n",
       "    }\n",
       "</style>\n",
       "<table border=\"1\" class=\"dataframe\">\n",
       "  <thead>\n",
       "    <tr style=\"text-align: right;\">\n",
       "      <th></th>\n",
       "      <th>OPE_NO</th>\n",
       "      <th>PRODUCT_ID</th>\n",
       "      <th>EQP_NAME</th>\n",
       "      <th>GOOD_NUM</th>\n",
       "      <th>BAD_NUM</th>\n",
       "    </tr>\n",
       "  </thead>\n",
       "  <tbody>\n",
       "    <tr>\n",
       "      <th>0</th>\n",
       "      <td>1F.EEK10</td>\n",
       "      <td>AFGN0301N.0C02</td>\n",
       "      <td>EKT72</td>\n",
       "      <td>225</td>\n",
       "      <td>0</td>\n",
       "    </tr>\n",
       "    <tr>\n",
       "      <th>1</th>\n",
       "      <td>1F.EEK10</td>\n",
       "      <td>AFGN1501N.0C02</td>\n",
       "      <td>EKT72</td>\n",
       "      <td>100</td>\n",
       "      <td>75</td>\n",
       "    </tr>\n",
       "    <tr>\n",
       "      <th>2</th>\n",
       "      <td>1F.EEK10</td>\n",
       "      <td>AFGN1B01N.0E01</td>\n",
       "      <td>EKT72</td>\n",
       "      <td>74</td>\n",
       "      <td>0</td>\n",
       "    </tr>\n",
       "    <tr>\n",
       "      <th>3</th>\n",
       "      <td>1F.EEK10</td>\n",
       "      <td>AFGN1S01N.0B02</td>\n",
       "      <td>EKT72</td>\n",
       "      <td>525</td>\n",
       "      <td>0</td>\n",
       "    </tr>\n",
       "    <tr>\n",
       "      <th>4</th>\n",
       "      <td>1F.EEK10</td>\n",
       "      <td>AFGN2T01N.0G01</td>\n",
       "      <td>EKT72</td>\n",
       "      <td>200</td>\n",
       "      <td>1</td>\n",
       "    </tr>\n",
       "    <tr>\n",
       "      <th>5</th>\n",
       "      <td>1F.EEK10</td>\n",
       "      <td>AFGN4201N.0B01</td>\n",
       "      <td>EKT72</td>\n",
       "      <td>1</td>\n",
       "      <td>75</td>\n",
       "    </tr>\n",
       "    <tr>\n",
       "      <th>6</th>\n",
       "      <td>1F.EEK10</td>\n",
       "      <td>AFGN4B01N.0B02</td>\n",
       "      <td>EKT72</td>\n",
       "      <td>100</td>\n",
       "      <td>0</td>\n",
       "    </tr>\n",
       "    <tr>\n",
       "      <th>7</th>\n",
       "      <td>1F.EEK10</td>\n",
       "      <td>AFGN5101N.0S01</td>\n",
       "      <td>EKT72</td>\n",
       "      <td>0</td>\n",
       "      <td>101</td>\n",
       "    </tr>\n",
       "    <tr>\n",
       "      <th>8</th>\n",
       "      <td>1F.EEK10</td>\n",
       "      <td>AFGN6C01N.0C01</td>\n",
       "      <td>EKT72</td>\n",
       "      <td>125</td>\n",
       "      <td>0</td>\n",
       "    </tr>\n",
       "    <tr>\n",
       "      <th>9</th>\n",
       "      <td>1F.EEK10</td>\n",
       "      <td>AFGN8S01N.0C01</td>\n",
       "      <td>EKT72</td>\n",
       "      <td>100</td>\n",
       "      <td>0</td>\n",
       "    </tr>\n",
       "    <tr>\n",
       "      <th>10</th>\n",
       "      <td>1F.EEK10</td>\n",
       "      <td>AFGN8S01N.0D01</td>\n",
       "      <td>EKT72</td>\n",
       "      <td>151</td>\n",
       "      <td>0</td>\n",
       "    </tr>\n",
       "    <tr>\n",
       "      <th>11</th>\n",
       "      <td>1F.EEK10</td>\n",
       "      <td>AFGN8S01N.0F01</td>\n",
       "      <td>EKT72</td>\n",
       "      <td>1</td>\n",
       "      <td>0</td>\n",
       "    </tr>\n",
       "    <tr>\n",
       "      <th>12</th>\n",
       "      <td>1F.EEK10</td>\n",
       "      <td>AFGNK401N.0A01</td>\n",
       "      <td>EKT72</td>\n",
       "      <td>20</td>\n",
       "      <td>5</td>\n",
       "    </tr>\n",
       "    <tr>\n",
       "      <th>13</th>\n",
       "      <td>1F.EEK10</td>\n",
       "      <td>AFGNRE01N.0C01</td>\n",
       "      <td>EKT72</td>\n",
       "      <td>25</td>\n",
       "      <td>0</td>\n",
       "    </tr>\n",
       "    <tr>\n",
       "      <th>14</th>\n",
       "      <td>1F.EEK10</td>\n",
       "      <td>AFKN2J01N.0U01</td>\n",
       "      <td>EKT72</td>\n",
       "      <td>234</td>\n",
       "      <td>725</td>\n",
       "    </tr>\n",
       "    <tr>\n",
       "      <th>15</th>\n",
       "      <td>1F.EEK10</td>\n",
       "      <td>AFKN4X01N.0B01</td>\n",
       "      <td>EKT72</td>\n",
       "      <td>175</td>\n",
       "      <td>299</td>\n",
       "    </tr>\n",
       "    <tr>\n",
       "      <th>16</th>\n",
       "      <td>1F.EEK10</td>\n",
       "      <td>AFKN6201N.0A01</td>\n",
       "      <td>EKT72</td>\n",
       "      <td>0</td>\n",
       "      <td>75</td>\n",
       "    </tr>\n",
       "    <tr>\n",
       "      <th>17</th>\n",
       "      <td>1F.EEK10</td>\n",
       "      <td>AFKN8401N.0D01</td>\n",
       "      <td>EKT72</td>\n",
       "      <td>0</td>\n",
       "      <td>1</td>\n",
       "    </tr>\n",
       "    <tr>\n",
       "      <th>18</th>\n",
       "      <td>1F.EEK10</td>\n",
       "      <td>AFKN9Z01N.0A01</td>\n",
       "      <td>EKT72</td>\n",
       "      <td>174</td>\n",
       "      <td>0</td>\n",
       "    </tr>\n",
       "    <tr>\n",
       "      <th>19</th>\n",
       "      <td>1F.EEK10</td>\n",
       "      <td>AFKNBM01N.0B01</td>\n",
       "      <td>EKT72</td>\n",
       "      <td>0</td>\n",
       "      <td>1000</td>\n",
       "    </tr>\n",
       "    <tr>\n",
       "      <th>20</th>\n",
       "      <td>1F.EEK10</td>\n",
       "      <td>AFKNFV01N.0B01</td>\n",
       "      <td>EKT72</td>\n",
       "      <td>50</td>\n",
       "      <td>0</td>\n",
       "    </tr>\n",
       "    <tr>\n",
       "      <th>21</th>\n",
       "      <td>1F.EEK10</td>\n",
       "      <td>AFKNJD01N.0A01</td>\n",
       "      <td>EKT72</td>\n",
       "      <td>273</td>\n",
       "      <td>0</td>\n",
       "    </tr>\n",
       "    <tr>\n",
       "      <th>22</th>\n",
       "      <td>1F.EEK10</td>\n",
       "      <td>AFKNML01N.0A01</td>\n",
       "      <td>EKT72</td>\n",
       "      <td>1</td>\n",
       "      <td>0</td>\n",
       "    </tr>\n",
       "    <tr>\n",
       "      <th>23</th>\n",
       "      <td>1F.EEK10</td>\n",
       "      <td>AFKNML01N.0B01</td>\n",
       "      <td>EKT72</td>\n",
       "      <td>250</td>\n",
       "      <td>0</td>\n",
       "    </tr>\n",
       "    <tr>\n",
       "      <th>24</th>\n",
       "      <td>1F.EEK10</td>\n",
       "      <td>AFKNML01N.0C01</td>\n",
       "      <td>EKT72</td>\n",
       "      <td>0</td>\n",
       "      <td>2</td>\n",
       "    </tr>\n",
       "    <tr>\n",
       "      <th>25</th>\n",
       "      <td>1F.EEK10</td>\n",
       "      <td>AFKNNW01N.0C01</td>\n",
       "      <td>EKT72</td>\n",
       "      <td>75</td>\n",
       "      <td>0</td>\n",
       "    </tr>\n",
       "    <tr>\n",
       "      <th>26</th>\n",
       "      <td>1F.EEK10</td>\n",
       "      <td>AMKNGW01N.0C01</td>\n",
       "      <td>EKT72</td>\n",
       "      <td>0</td>\n",
       "      <td>224</td>\n",
       "    </tr>\n",
       "    <tr>\n",
       "      <th>27</th>\n",
       "      <td>1F.EEK10</td>\n",
       "      <td>AMKNS301N.0A01</td>\n",
       "      <td>EKT72</td>\n",
       "      <td>0</td>\n",
       "      <td>25</td>\n",
       "    </tr>\n",
       "    <tr>\n",
       "      <th>28</th>\n",
       "      <td>1F.EEK10</td>\n",
       "      <td>AMKNS301N.0B01</td>\n",
       "      <td>EKT72</td>\n",
       "      <td>200</td>\n",
       "      <td>0</td>\n",
       "    </tr>\n",
       "    <tr>\n",
       "      <th>29</th>\n",
       "      <td>1F.EEK10</td>\n",
       "      <td>AMKNSE01N.0B01</td>\n",
       "      <td>EKT72</td>\n",
       "      <td>201</td>\n",
       "      <td>0</td>\n",
       "    </tr>\n",
       "    <tr>\n",
       "      <th>30</th>\n",
       "      <td>1F.EEK10</td>\n",
       "      <td>AMKNTJ01N.0A01</td>\n",
       "      <td>EKT72</td>\n",
       "      <td>75</td>\n",
       "      <td>0</td>\n",
       "    </tr>\n",
       "    <tr>\n",
       "      <th>31</th>\n",
       "      <td>1F.EEK10</td>\n",
       "      <td>AMKNWX01N.0B01</td>\n",
       "      <td>EKT72</td>\n",
       "      <td>25</td>\n",
       "      <td>0</td>\n",
       "    </tr>\n",
       "    <tr>\n",
       "      <th>32</th>\n",
       "      <td>1F.EEK10</td>\n",
       "      <td>AMKNXJ01N.0A01</td>\n",
       "      <td>EKT72</td>\n",
       "      <td>0</td>\n",
       "      <td>3</td>\n",
       "    </tr>\n",
       "    <tr>\n",
       "      <th>33</th>\n",
       "      <td>1F.EEK10</td>\n",
       "      <td>AMKNXY01N.0A01</td>\n",
       "      <td>EKT72</td>\n",
       "      <td>1</td>\n",
       "      <td>74</td>\n",
       "    </tr>\n",
       "    <tr>\n",
       "      <th>34</th>\n",
       "      <td>1F.EEK10</td>\n",
       "      <td>AMKNZC01N.0A01</td>\n",
       "      <td>EKT72</td>\n",
       "      <td>1</td>\n",
       "      <td>0</td>\n",
       "    </tr>\n",
       "    <tr>\n",
       "      <th>35</th>\n",
       "      <td>1F.EEK10</td>\n",
       "      <td>AMKNZD01N.0A01</td>\n",
       "      <td>EKT72</td>\n",
       "      <td>27</td>\n",
       "      <td>0</td>\n",
       "    </tr>\n",
       "  </tbody>\n",
       "</table>\n",
       "</div>"
      ],
      "text/plain": [
       "      OPE_NO      PRODUCT_ID EQP_NAME  GOOD_NUM  BAD_NUM\n",
       "0   1F.EEK10  AFGN0301N.0C02    EKT72       225        0\n",
       "1   1F.EEK10  AFGN1501N.0C02    EKT72       100       75\n",
       "2   1F.EEK10  AFGN1B01N.0E01    EKT72        74        0\n",
       "3   1F.EEK10  AFGN1S01N.0B02    EKT72       525        0\n",
       "4   1F.EEK10  AFGN2T01N.0G01    EKT72       200        1\n",
       "5   1F.EEK10  AFGN4201N.0B01    EKT72         1       75\n",
       "6   1F.EEK10  AFGN4B01N.0B02    EKT72       100        0\n",
       "7   1F.EEK10  AFGN5101N.0S01    EKT72         0      101\n",
       "8   1F.EEK10  AFGN6C01N.0C01    EKT72       125        0\n",
       "9   1F.EEK10  AFGN8S01N.0C01    EKT72       100        0\n",
       "10  1F.EEK10  AFGN8S01N.0D01    EKT72       151        0\n",
       "11  1F.EEK10  AFGN8S01N.0F01    EKT72         1        0\n",
       "12  1F.EEK10  AFGNK401N.0A01    EKT72        20        5\n",
       "13  1F.EEK10  AFGNRE01N.0C01    EKT72        25        0\n",
       "14  1F.EEK10  AFKN2J01N.0U01    EKT72       234      725\n",
       "15  1F.EEK10  AFKN4X01N.0B01    EKT72       175      299\n",
       "16  1F.EEK10  AFKN6201N.0A01    EKT72         0       75\n",
       "17  1F.EEK10  AFKN8401N.0D01    EKT72         0        1\n",
       "18  1F.EEK10  AFKN9Z01N.0A01    EKT72       174        0\n",
       "19  1F.EEK10  AFKNBM01N.0B01    EKT72         0     1000\n",
       "20  1F.EEK10  AFKNFV01N.0B01    EKT72        50        0\n",
       "21  1F.EEK10  AFKNJD01N.0A01    EKT72       273        0\n",
       "22  1F.EEK10  AFKNML01N.0A01    EKT72         1        0\n",
       "23  1F.EEK10  AFKNML01N.0B01    EKT72       250        0\n",
       "24  1F.EEK10  AFKNML01N.0C01    EKT72         0        2\n",
       "25  1F.EEK10  AFKNNW01N.0C01    EKT72        75        0\n",
       "26  1F.EEK10  AMKNGW01N.0C01    EKT72         0      224\n",
       "27  1F.EEK10  AMKNS301N.0A01    EKT72         0       25\n",
       "28  1F.EEK10  AMKNS301N.0B01    EKT72       200        0\n",
       "29  1F.EEK10  AMKNSE01N.0B01    EKT72       201        0\n",
       "30  1F.EEK10  AMKNTJ01N.0A01    EKT72        75        0\n",
       "31  1F.EEK10  AMKNWX01N.0B01    EKT72        25        0\n",
       "32  1F.EEK10  AMKNXJ01N.0A01    EKT72         0        3\n",
       "33  1F.EEK10  AMKNXY01N.0A01    EKT72         1       74\n",
       "34  1F.EEK10  AMKNZC01N.0A01    EKT72         1        0\n",
       "35  1F.EEK10  AMKNZD01N.0A01    EKT72        27        0"
      ]
     },
     "execution_count": 31,
     "metadata": {},
     "output_type": "execute_result"
    }
   ],
   "source": [
    "common_res = (df_pandas.groupby(grpby_list)\n",
    "                  .agg(GOOD_NUM=('WAFER_ID', lambda x: x[df_pandas.loc[x.index, 'label'] == 0].nunique()),\n",
    "                       BAD_NUM=('WAFER_ID', lambda x: x[df_pandas.loc[x.index, 'label'] == 1].nunique()))\n",
    "                  .fillna(0))\n",
    "common_res = common_res.reset_index()\n",
    "common_res"
   ]
  },
  {
   "cell_type": "code",
   "execution_count": 32,
   "id": "c1e6c922",
   "metadata": {
    "ExecuteTime": {
     "end_time": "2024-06-13T06:21:41.984171Z",
     "start_time": "2024-06-13T06:21:41.933100Z"
    }
   },
   "outputs": [
    {
     "ename": "ModuleNotFoundError",
     "evalue": "No module named 'pyspark'",
     "output_type": "error",
     "traceback": [
      "\u001b[1;31m---------------------------------------------------------------------------\u001b[0m",
      "\u001b[1;31mModuleNotFoundError\u001b[0m                       Traceback (most recent call last)",
      "Cell \u001b[1;32mIn[32], line 1\u001b[0m\n\u001b[1;32m----> 1\u001b[0m \u001b[38;5;28;01mfrom\u001b[39;00m \u001b[38;5;21;01mpyspark\u001b[39;00m\u001b[38;5;21;01m.\u001b[39;00m\u001b[38;5;21;01msql\u001b[39;00m\u001b[38;5;21;01m.\u001b[39;00m\u001b[38;5;21;01mfunctions\u001b[39;00m \u001b[38;5;28;01mimport\u001b[39;00m countDistinct, when\n\u001b[0;32m      2\u001b[0m agg_exprs \u001b[38;5;241m=\u001b[39m [\n\u001b[0;32m      3\u001b[0m     countDistinct(when(df_pandas[\u001b[38;5;124m'\u001b[39m\u001b[38;5;124mlabel\u001b[39m\u001b[38;5;124m'\u001b[39m] \u001b[38;5;241m==\u001b[39m i, df_pandas[\u001b[38;5;124m'\u001b[39m\u001b[38;5;124mWAFER_ID\u001b[39m\u001b[38;5;124m'\u001b[39m]))\u001b[38;5;241m.\u001b[39malias(\u001b[38;5;124mf\u001b[39m\u001b[38;5;124m'\u001b[39m\u001b[38;5;124mLABEL_\u001b[39m\u001b[38;5;132;01m{\u001b[39;00mi\u001b[38;5;132;01m}\u001b[39;00m\u001b[38;5;124m_NUM\u001b[39m\u001b[38;5;124m'\u001b[39m)\n\u001b[0;32m      4\u001b[0m     \u001b[38;5;28;01mfor\u001b[39;00m i \u001b[38;5;129;01min\u001b[39;00m \u001b[38;5;28mrange\u001b[39m(max_label \u001b[38;5;241m+\u001b[39m \u001b[38;5;241m1\u001b[39m)\n\u001b[0;32m      5\u001b[0m ]\n",
      "\u001b[1;31mModuleNotFoundError\u001b[0m: No module named 'pyspark'"
     ]
    }
   ],
   "source": [
    "from pyspark.sql.functions import countDistinct, when\n",
    "agg_exprs = [\n",
    "    countDistinct(when(df_pandas['label'] == i, df_pandas['WAFER_ID'])).alias(f'LABEL_{i}_NUM')\n",
    "    for i in range(max_label + 1)\n",
    "]"
   ]
  },
  {
   "cell_type": "code",
   "execution_count": null,
   "id": "38774355",
   "metadata": {},
   "outputs": [],
   "source": []
  }
 ],
 "metadata": {
  "kernelspec": {
   "display_name": "Python 3 (ipykernel)",
   "language": "python",
   "name": "python3"
  },
  "language_info": {
   "codemirror_mode": {
    "name": "ipython",
    "version": 3
   },
   "file_extension": ".py",
   "mimetype": "text/x-python",
   "name": "python",
   "nbconvert_exporter": "python",
   "pygments_lexer": "ipython3",
   "version": "3.10.9"
  }
 },
 "nbformat": 4,
 "nbformat_minor": 5
}
