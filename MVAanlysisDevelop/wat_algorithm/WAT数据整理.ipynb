{
 "cells": [
  {
   "cell_type": "code",
   "execution_count": 1,
   "id": "20534e44",
   "metadata": {},
   "outputs": [],
   "source": [
    "import pandas as pd "
   ]
  },
  {
   "cell_type": "code",
   "execution_count": null,
   "id": "42e23d2f",
   "metadata": {},
   "outputs": [],
   "source": [
    "df = pd.read_csv(\"D:/Jupyterfiles/晶合MVAFDC_general开发/MVAanlysisDevelop/wat_algorithm/w1/www1.csv\")"
   ]
  },
  {
   "cell_type": "code",
   "execution_count": 3,
   "id": "49009ffc",
   "metadata": {},
   "outputs": [
    {
     "data": {
      "text/plain": [
       "1152"
      ]
     },
     "execution_count": 3,
     "metadata": {},
     "output_type": "execute_result"
    }
   ],
   "source": [
    "df['WAFER_ID'].nunique()"
   ]
  },
  {
   "cell_type": "code",
   "execution_count": 16,
   "id": "4f10ccea",
   "metadata": {},
   "outputs": [
    {
     "data": {
      "text/plain": [
       "4"
      ]
     },
     "execution_count": 16,
     "metadata": {},
     "output_type": "execute_result"
    }
   ],
   "source": [
    "df['OPE_NO'].nunique()"
   ]
  },
  {
   "cell_type": "code",
   "execution_count": 17,
   "id": "37482218",
   "metadata": {
    "collapsed": true
   },
   "outputs": [
    {
     "data": {
      "text/plain": [
       "['NHM078-15',\n",
       " 'NHP001-20',\n",
       " 'NHS493-07',\n",
       " 'NAY904-23',\n",
       " 'NHM078-01',\n",
       " 'NHN790-19',\n",
       " 'NHN817-23',\n",
       " 'NHR595-15',\n",
       " 'NHR595-22',\n",
       " 'NHT460-20',\n",
       " 'NHT689-08',\n",
       " 'NHT689-17',\n",
       " 'NJA698-24',\n",
       " 'NJB044-08',\n",
       " 'NJB606-16',\n",
       " 'NJB753-13',\n",
       " 'NJB753-24',\n",
       " 'NHE816-23',\n",
       " 'NHH106-23',\n",
       " 'NHN790-17',\n",
       " 'NJC089-08',\n",
       " 'NJC548-06',\n",
       " 'NJC609-15',\n",
       " 'NJC609-22',\n",
       " 'NJD203-03',\n",
       " 'NAY904-25',\n",
       " 'NHN817-25',\n",
       " 'NHS493-15',\n",
       " 'NHT627-12',\n",
       " 'NHT768-22',\n",
       " 'NJB622-01',\n",
       " 'NJC089-11',\n",
       " 'NJC548-23',\n",
       " 'NJC920-16',\n",
       " 'NJD030-03',\n",
       " 'NJD030-20',\n",
       " 'NJD105-12',\n",
       " 'NJD105-25',\n",
       " 'NJD203-05',\n",
       " 'NJD210-04',\n",
       " 'NHM078-23',\n",
       " 'NHN817-01',\n",
       " 'NHP001-16',\n",
       " 'NHT460-02',\n",
       " 'NHT627-01',\n",
       " 'NHT689-09',\n",
       " 'NJA276-10',\n",
       " 'NJB044-09',\n",
       " 'NJB276-02',\n",
       " 'NJB276-09',\n",
       " 'NJB622-06',\n",
       " 'NJC920-11',\n",
       " 'NJD105-01',\n",
       " 'NJD203-21',\n",
       " 'NJD210-17',\n",
       " 'NJD538-24',\n",
       " 'NJD551-10',\n",
       " 'NJE139-09',\n",
       " 'NJE605-16',\n",
       " 'NJE607-11',\n",
       " 'NJE749-04',\n",
       " 'NJF116-05',\n",
       " 'NJF741-24',\n",
       " 'NJF966-03',\n",
       " 'NHT724-24',\n",
       " 'NJB545-09',\n",
       " 'NJB545-16',\n",
       " 'NJC224-06',\n",
       " 'NHE816-08',\n",
       " 'NHE816-20',\n",
       " 'NHM078-18',\n",
       " 'NHR595-07',\n",
       " 'NHT460-05',\n",
       " 'NHT627-06',\n",
       " 'NJB606-10',\n",
       " 'NJB622-15',\n",
       " 'NJC224-23',\n",
       " 'NJC920-21',\n",
       " 'NJD105-19',\n",
       " 'NHH106-13',\n",
       " 'NHH106-18',\n",
       " 'NHM078-03',\n",
       " 'NHN790-10',\n",
       " 'NHT460-15',\n",
       " 'NHT627-21',\n",
       " 'NHT689-01',\n",
       " 'NHT689-15',\n",
       " 'NJB044-15',\n",
       " 'NJB276-01',\n",
       " 'NJB278-06',\n",
       " 'NJB606-14',\n",
       " 'NJC089-15',\n",
       " 'NJC224-04',\n",
       " 'NJC609-03',\n",
       " 'NHT460-08',\n",
       " 'NHT460-17',\n",
       " 'NJA276-11',\n",
       " 'NJA309-16',\n",
       " 'NJB044-17',\n",
       " 'NJB622-18']"
      ]
     },
     "execution_count": 17,
     "metadata": {},
     "output_type": "execute_result"
    }
   ],
   "source": [
    "select_wafer_list = list(df['WAFER_ID'].unique()[:100])\n",
    "select_wafer_list"
   ]
  },
  {
   "cell_type": "code",
   "execution_count": 19,
   "id": "5b301cc5",
   "metadata": {
    "collapsed": true
   },
   "outputs": [
    {
     "data": {
      "text/plain": [
       "['NHM078-15',\n",
       " 'NHP001-20',\n",
       " 'NHS493-07',\n",
       " 'NAY904-23',\n",
       " 'NHM078-01',\n",
       " 'NHN790-19',\n",
       " 'NHN817-23',\n",
       " 'NHR595-15',\n",
       " 'NHR595-22',\n",
       " 'NHT460-20',\n",
       " 'NHT689-08',\n",
       " 'NHT689-17',\n",
       " 'NJA698-24',\n",
       " 'NJB044-08',\n",
       " 'NJB606-16',\n",
       " 'NJB753-13',\n",
       " 'NJB753-24',\n",
       " 'NHE816-23',\n",
       " 'NHH106-23',\n",
       " 'NHN790-17',\n",
       " 'NJC089-08',\n",
       " 'NJC548-06',\n",
       " 'NJC609-15',\n",
       " 'NJC609-22',\n",
       " 'NJD203-03',\n",
       " 'NAY904-25',\n",
       " 'NHN817-25',\n",
       " 'NHS493-15',\n",
       " 'NHT627-12',\n",
       " 'NHT768-22',\n",
       " 'NJB622-01',\n",
       " 'NJC089-11',\n",
       " 'NJC548-23',\n",
       " 'NJC920-16',\n",
       " 'NJD030-03',\n",
       " 'NJD030-20',\n",
       " 'NJD105-12',\n",
       " 'NJD105-25',\n",
       " 'NJD203-05',\n",
       " 'NJD210-04',\n",
       " 'NHM078-23',\n",
       " 'NHN817-01',\n",
       " 'NHP001-16',\n",
       " 'NHT460-02',\n",
       " 'NHT627-01',\n",
       " 'NHT689-09',\n",
       " 'NJA276-10',\n",
       " 'NJB044-09',\n",
       " 'NJB276-02',\n",
       " 'NJB276-09']"
      ]
     },
     "execution_count": 19,
     "metadata": {},
     "output_type": "execute_result"
    }
   ],
   "source": [
    "good_wafer_list = select_wafer_list[:50]\n",
    "good_wafer_list"
   ]
  },
  {
   "cell_type": "code",
   "execution_count": 14,
   "id": "9cabe9bf",
   "metadata": {},
   "outputs": [],
   "source": [
    "df_select = df[df['WAFER_ID'].isin(select_wafer_list)]"
   ]
  },
  {
   "cell_type": "code",
   "execution_count": 20,
   "id": "030b20ca",
   "metadata": {
    "scrolled": true
   },
   "outputs": [
    {
     "name": "stderr",
     "output_type": "stream",
     "text": [
      "C:\\Users\\yang.wenjun\\AppData\\Local\\Temp\\ipykernel_39992\\3912538998.py:1: SettingWithCopyWarning: \n",
      "A value is trying to be set on a copy of a slice from a DataFrame.\n",
      "Try using .loc[row_indexer,col_indexer] = value instead\n",
      "\n",
      "See the caveats in the documentation: https://pandas.pydata.org/pandas-docs/stable/user_guide/indexing.html#returning-a-view-versus-a-copy\n",
      "  df_select['label'] = df_select['WAFER_ID'].apply(lambda x: 0 if x in good_wafer_list else 1)\n"
     ]
    }
   ],
   "source": [
    "df_select['label'] = df_select['WAFER_ID'].apply(lambda x: 0 if x in good_wafer_list else 1)"
   ]
  },
  {
   "cell_type": "code",
   "execution_count": 23,
   "id": "cbbe1ad5",
   "metadata": {},
   "outputs": [
    {
     "data": {
      "text/plain": [
       "50"
      ]
     },
     "execution_count": 23,
     "metadata": {},
     "output_type": "execute_result"
    }
   ],
   "source": [
    "df_select[df_select['label'] == 1]['WAFER_ID'].nunique()"
   ]
  },
  {
   "cell_type": "code",
   "execution_count": 24,
   "id": "ce3d5c0d",
   "metadata": {},
   "outputs": [
    {
     "data": {
      "text/plain": [
       "50"
      ]
     },
     "execution_count": 24,
     "metadata": {},
     "output_type": "execute_result"
    }
   ],
   "source": [
    "df_select[df_select['label'] == 0]['WAFER_ID'].nunique()"
   ]
  },
  {
   "cell_type": "code",
   "execution_count": 30,
   "id": "912c0cf9",
   "metadata": {
    "scrolled": true
   },
   "outputs": [
    {
     "name": "stderr",
     "output_type": "stream",
     "text": [
      "C:\\Users\\yang.wenjun\\AppData\\Local\\Temp\\ipykernel_39992\\764544672.py:1: SettingWithCopyWarning: \n",
      "A value is trying to be set on a copy of a slice from a DataFrame\n",
      "\n",
      "See the caveats in the documentation: https://pandas.pydata.org/pandas-docs/stable/user_guide/indexing.html#returning-a-view-versus-a-copy\n",
      "  df_select.rename({\"WAT_PARAMETER_ID\": \"PARAMETRIC_NAME\"}, inplace=True, axis='columns')\n"
     ]
    }
   ],
   "source": [
    "df_select.rename({\"WAT_PARAMETER_ID\": \"PARAMETRIC_NAME\"}, inplace=True, axis='columns')"
   ]
  },
  {
   "cell_type": "code",
   "execution_count": 32,
   "id": "35f1b90a",
   "metadata": {},
   "outputs": [],
   "source": [
    "df_select.to_csv(\"wat_select.csv\")"
   ]
  },
  {
   "cell_type": "code",
   "execution_count": 34,
   "id": "e7e9551f",
   "metadata": {},
   "outputs": [
    {
     "data": {
      "text/plain": [
       "array(['AEMNRM01N.0B01', 'AEMNE801N.0B01', 'AFXNE001N.0C01',\n",
       "       'AGKNCE01N.0A01', 'AFXNJ701N.0B01', 'AEMNC301N.0H01',\n",
       "       'AGENET01N.0B01', 'AMKNWF01N.0C01', 'AFKNG501N.0B01',\n",
       "       'AFKNNY01N.0B01', 'AEMNV901N.0A02', 'AFKNCJ01N.0A01',\n",
       "       'AFMN3D01N.0F01', 'AFGN3X01N.0C01', 'AFMN6V01N.0F01',\n",
       "       'AFMNE601N.0C01', 'AEXNVU01N.0D02', 'AFGN5S01N.0A01',\n",
       "       'AFGN2K01N.0F01', 'AFGN8S01N.0C01', 'AGGNMX01N.0C01'], dtype=object)"
      ]
     },
     "execution_count": 34,
     "metadata": {},
     "output_type": "execute_result"
    }
   ],
   "source": [
    "df_select['PRODUCT_ID'].unique()"
   ]
  },
  {
   "cell_type": "code",
   "execution_count": 36,
   "id": "c442b373",
   "metadata": {},
   "outputs": [
    {
     "data": {
      "text/plain": [
       "Index(['PH_FAB_ID_LABEL', 'WAFER_ID', 'OPE_NO', 'PARAMETRIC_NAME', 'TEST_TYPE',\n",
       "       'RETEST_COUNT', 'RANGE_INDEX', 'MEASURE_TIME', 'WAT_PARAMETER_NO',\n",
       "       'LOT_ID',\n",
       "       ...\n",
       "       'PH_FAB_ID', 'ETL_INSERT_TIME', 'ETL_ARC_FLAG', 'ETL_BATCH_SYNC_TS',\n",
       "       'ETL_DEL_FLAG', 'ETL_DS_JOB_NM', 'ETL_SRC_DB', 'ETL_SRC_TBL',\n",
       "       'ETL_TBL_OPER_TS', 'label'],\n",
       "      dtype='object', length=155)"
      ]
     },
     "execution_count": 36,
     "metadata": {},
     "output_type": "execute_result"
    }
   ],
   "source": [
    "df_select.columns"
   ]
  },
  {
   "cell_type": "code",
   "execution_count": null,
   "id": "d0dcae79",
   "metadata": {},
   "outputs": [],
   "source": []
  },
  {
   "cell_type": "code",
   "execution_count": null,
   "id": "9381ed38",
   "metadata": {},
   "outputs": [],
   "source": []
  },
  {
   "cell_type": "code",
   "execution_count": null,
   "id": "5987c560",
   "metadata": {},
   "outputs": [],
   "source": []
  }
 ],
 "metadata": {
  "kernelspec": {
   "display_name": "Python 3 (ipykernel)",
   "language": "python",
   "name": "python3"
  },
  "language_info": {
   "codemirror_mode": {
    "name": "ipython",
    "version": 3
   },
   "file_extension": ".py",
   "mimetype": "text/x-python",
   "name": "python",
   "nbconvert_exporter": "python",
   "pygments_lexer": "ipython3",
   "version": "3.9.13"
  }
 },
 "nbformat": 4,
 "nbformat_minor": 5
}
