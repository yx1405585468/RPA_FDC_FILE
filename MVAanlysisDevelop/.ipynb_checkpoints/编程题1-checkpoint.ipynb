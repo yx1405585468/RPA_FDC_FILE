{
 "cells": [
  {
   "cell_type": "code",
   "execution_count": 1,
   "id": "00ec7aa6",
   "metadata": {},
   "outputs": [],
   "source": [
    "import logging"
   ]
  },
  {
   "cell_type": "code",
   "execution_count": 2,
   "id": "405d1f32",
   "metadata": {},
   "outputs": [],
   "source": [
    "class DefineEquipmentType:\n",
    "    def __init__(self, equipment_id, equipment_type):\n",
    "        self.equipment_id = equipment_id\n",
    "        self.equipment_type = equipment_type\n",
    "\n",
    "class DefineTaskType:\n",
    "    def __init__(self, task_id, task_type, required_priority):\n",
    "        self.task_id = task_id\n",
    "        self.task_type = task_type\n",
    "        self.required_priority = required_priority\n",
    "\n",
    "class RunTask:\n",
    "    \n",
    "    global_equipment_status = \"idle\"\n",
    "\n",
    "    def __init__(self, equipment, task):\n",
    "        self.equipment = equipment\n",
    "        self.task = task\n",
    "        \n",
    "        # Check if the equipment is already busy\n",
    "        if equipment.equipment_id == self.find_busy_equipment():\n",
    "            self.equipment_status = \"busy\"\n",
    "        else:\n",
    "            self.equipment_status = \"idle\"\n",
    "\n",
    "    @classmethod\n",
    "    def find_busy_equipment(cls):\n",
    "        if cls.global_equipment_status == \"busy\":\n",
    "            return 1  # Change this based on your logic\n",
    "        return None\n",
    "\n",
    "    \n",
    "    def assign_task(self):\n",
    "        if RunTask.global_equipment_status == \"idle\":\n",
    "            if self.equipment_status == \"idle\":\n",
    "                if self.task.task_type == self.equipment.equipment_type:\n",
    "                    logging.info(f\"Assigning task{self.task.task_id}({self.task.task_type}) to equipment{self.equipment.equipment_id}({self.equipment.equipment_type}).\")\n",
    "                    self.equipment_status = \"busy\"\n",
    "                    RunTask.global_equipment_status = \"busy\"\n",
    "                else:\n",
    "                    logging.info(f\"Equipment({self.equipment.equipment_type}) is not suitable for task{self.task.task_id}({self.task.task_type}).\")\n",
    "\n",
    "            elif self.equipment_status == \"maintenance\":\n",
    "                logging.info(f\"Equipment{self.equipment.equipment_id}({self.equipment.equipment_type}) is under maintenance.\")\n",
    "\n",
    "            else:\n",
    "                logging.info(f\"Equipment{self.equipment.equipment_id}({self.equipment.equipment_type}) is not available.\")\n",
    "        else:\n",
    "            logging.info(f\"Equipment{self.equipment.equipment_id}({self.equipment.equipment_type}) is busy. Cannot assign task{self.task.task_id}({self.task.task_type}) to equipment{self.equipment.equipment_id}({self.equipment.equipment_type})\")\n",
    "\n",
    "    def complete_task(self):\n",
    "        logging.info(f\"Equipment{self.equipment.equipment_id}({self.equipment.equipment_type}) has completed the task{self.task.task_id}({self.task.task_type}).\")\n",
    "        self.equipment_status = \"idle\"\n",
    "        RunTask.global_equipment_status = \"idle\""
   ]
  },
  {
   "cell_type": "code",
   "execution_count": 3,
   "id": "e1344fb6",
   "metadata": {},
   "outputs": [],
   "source": [
    "logging.basicConfig(filename=\"test.log\", filemode=\"w\", format=\"%(asctime)s %(name)s:%(levelname)s:%(message)s\", datefmt=\"%d-%M-%Y %H:%M:%S\")\n",
    "logging.getLogger().setLevel(logging.INFO)  # Set the logging level to INFO"
   ]
  },
  {
   "cell_type": "code",
   "execution_count": null,
   "id": "82c700da",
   "metadata": {},
   "outputs": [],
   "source": []
  },
  {
   "cell_type": "code",
   "execution_count": 68,
   "id": "b5fcd837",
   "metadata": {},
   "outputs": [],
   "source": [
    "# equipment_type_A1 = DefineEquipmentType(equipment_id=1, equipment_type=\"TypeA\")\n",
    "# equipment_type_A2 = DefineEquipmentType(equipment_id=2, equipment_type=\"TypeA\")\n",
    "\n",
    "# task1 = DefineTaskType(task_id=1, task_type=\"TypeA\", required_priority=1)\n",
    "# task2 = DefineTaskType(task_id=2, task_type=\"TypeA\", required_priority=5)\n",
    "\n",
    "# runtask1 = RunTask(equipment=equipment_type_A1, task=task1)\n",
    "# runtask2 = RunTask(equipment=equipment_type_A1, task=task2)\n",
    "\n",
    "# # 分配任务\n",
    "# runtask1.assign_task() \n",
    "# runtask2.assign_task() \n",
    "\n",
    "# runtask1.complete_task()\n",
    "# runtask2.assign_task() "
   ]
  },
  {
   "cell_type": "code",
   "execution_count": null,
   "id": "a1ef0606",
   "metadata": {},
   "outputs": [],
   "source": []
  },
  {
   "cell_type": "code",
   "execution_count": 4,
   "id": "a2b5c7b0",
   "metadata": {},
   "outputs": [],
   "source": [
    "# 创建设备类型\n",
    "equipment_type_A1 = DefineEquipmentType(equipment_id=1, equipment_type=\"TypeA\")\n",
    "equipment_type_A2 = DefineEquipmentType(equipment_id=2, equipment_type=\"TypeA\")\n",
    "\n",
    "equipment_type_B1 = DefineEquipmentType(equipment_id=1, equipment_type=\"TypeB\")\n",
    "equipment_type_B2 = DefineEquipmentType(equipment_id=2, equipment_type=\"TypeB\")\n",
    "equipment_type_B3 = DefineEquipmentType(equipment_id=3, equipment_type=\"TypeB\")\n",
    "\n",
    "taskA1 = DefineTaskType(task_id=1, task_type=\"TypeA\", required_priority=1)\n",
    "taskA2 = DefineTaskType(task_id=2, task_type=\"TypeA\", required_priority=5)\n",
    "taskA3 = DefineTaskType(task_id=3, task_type=\"TypeA\", required_priority=12)\n",
    "\n",
    "taskB4 = DefineTaskType(task_id=4, task_type=\"TypeB\", required_priority=1)\n",
    "taskB5 = DefineTaskType(task_id=5, task_type=\"TypeB\", required_priority=10)\n",
    "\n",
    "\n",
    "# 创建设备和任务对象\n",
    "runtask1 = RunTask(equipment=equipment_type_A1, task=taskA1)\n",
    "runtask2 = RunTask(equipment=equipment_type_A2, task=taskA2) \n",
    "runtask3 = RunTask(equipment=equipment_type_A1, task=taskA3) \n",
    "\n",
    "runtask4 = RunTask(equipment=equipment_type_A2, task=taskB4)\n",
    "runtask5 = RunTask(equipment=equipment_type_B1, task=taskB5)"
   ]
  },
  {
   "cell_type": "code",
   "execution_count": 5,
   "id": "52b5ff45",
   "metadata": {},
   "outputs": [],
   "source": [
    "# 分配任务\n",
    "runtask1.assign_task()  # 成功，设备A1变为busy\n",
    "\n",
    "runtask2.assign_task()  # 成功，设备A2变为busy\n",
    "\n",
    "runtask3.assign_task()  # 失败，设备A1已被占用\n",
    "\n",
    "runtask1.complete_task()  # 设备A1完成task1\n",
    "\n",
    "runtask3.assign_task()  # 成功，设备A1执行task3, 变为busy\n",
    "\n",
    "runtask4.assign_task()  # 失败，设备类型和任务类型不对应\n",
    "\n",
    "runtask5.assign_task()  # 成功，设备B1执行task5"
   ]
  },
  {
   "cell_type": "code",
   "execution_count": null,
   "id": "4fab9891",
   "metadata": {},
   "outputs": [],
   "source": []
  },
  {
   "cell_type": "code",
   "execution_count": null,
   "id": "05430e71",
   "metadata": {},
   "outputs": [],
   "source": []
  },
  {
   "cell_type": "code",
   "execution_count": null,
   "id": "9831886c",
   "metadata": {},
   "outputs": [],
   "source": []
  },
  {
   "cell_type": "code",
   "execution_count": 26,
   "id": "9eeae861",
   "metadata": {},
   "outputs": [],
   "source": [
    "class RunTask:\n",
    "    global_equipment_status = \"idle\"\n",
    "\n",
    "    def __init__(self, equipment, task):\n",
    "        self.equipment = equipment\n",
    "        self.task = task\n",
    "\n",
    "        # Check if the equipment is already busy\n",
    "        if equipment.equipment_id == self.find_busy_equipment():\n",
    "            self.equipment_status = \"busy\"\n",
    "        else:\n",
    "            self.equipment_status = \"idle\"\n",
    "\n",
    "    @classmethod\n",
    "    def find_busy_equipment(cls):\n",
    "        if cls.global_equipment_status == \"busy\":\n",
    "            return 1  # Change this based on your logic\n",
    "        return None\n",
    "\n",
    "    def assign_task(self):\n",
    "        if RunTask.global_equipment_status == \"idle\":\n",
    "            if self.equipment_status == \"idle\":\n",
    "                if self.task.task_type == self.equipment.equipment_type:\n",
    "#                     logging.info(f\"Assigning task {self.task.task_id} to equipment {self.equipment.equipment_id}.\")\n",
    "                    print(f\"Assigning task {self.task.task_id} to equipment {self.equipment.equipment_id}.\")\n",
    "                    self.equipment_status = \"busy\"\n",
    "                    RunTask.global_equipment_status = \"busy\"\n",
    "                else:\n",
    "#                     logging.info(f\"Equipment {self.equipment.equipment_type} is not suitable for task {self.task.task_id}.\")\n",
    "                    print(f\"Equipment {self.equipment.equipment_type} is not suitable for task {self.task.task_id}.\")\n",
    "            elif self.equipment_status == \"maintenance\":\n",
    "#                 logging.info(f\"Equipment {self.equipment.equipment_id} is under maintenance.\")\n",
    "                print(f\"Equipment {self.equipment.equipment_id} is under maintenance.\")\n",
    "            else:\n",
    "#                 logging.info(f\"Equipment {self.equipment.equipment_id} is not available.\")\n",
    "                print(f\"Equipment {self.equipment.equipment_id} is not available.\")\n",
    "        else:\n",
    "            print(f\"Equipment {self.equipment.equipment_id} is busy. Cannot assign task {self.task.task_id} to equipment {self.equipment.equipment_id}\")\n",
    "#             logging.info(f\"Equipment {self.equipment.equipment_id} is busy. Cannot assign task {self.task.task_id} to equipment {self.equipment.equipment_id}\")\n",
    "\n",
    "    def complete_task(self):\n",
    "#         logging.info(f\"Equipment {self.equipment.equipment_id} has completed the task {self.task.task_id}.\")\n",
    "        print(f\"Equipment {self.equipment.equipment_id} has completed the task {self.task.task_id}.\")\n",
    "        self.equipment_status = \"idle\"\n",
    "        RunTask.global_equipment_status = \"idle\""
   ]
  },
  {
   "cell_type": "code",
   "execution_count": 27,
   "id": "482a93b5",
   "metadata": {},
   "outputs": [],
   "source": [
    "# 创建设备类型\n",
    "equipment_type_A1 = DefineEquipmentType(equipment_id=1, equipment_type=\"TypeA\")\n",
    "equipment_type_A2 = DefineEquipmentType(equipment_id=2, equipment_type=\"TypeA\")\n",
    "\n",
    "taskA1 = DefineTaskType(task_id=1, task_type=\"TypeA\", required_priority=1)\n",
    "taskA2 = DefineTaskType(task_id=2, task_type=\"TypeA\", required_priority=5)\n",
    "taskA3 = DefineTaskType(task_id=3, task_type=\"TypeA\", required_priority=12)"
   ]
  },
  {
   "cell_type": "code",
   "execution_count": null,
   "id": "8dd0a09c",
   "metadata": {},
   "outputs": [],
   "source": []
  },
  {
   "cell_type": "code",
   "execution_count": 24,
   "id": "1143471c",
   "metadata": {},
   "outputs": [
    {
     "name": "stdout",
     "output_type": "stream",
     "text": [
      "Assigning task 1 to equipment 1.\n",
      "Equipment 2 is busy. Cannot assign task 2 to equipment 2\n",
      "Equipment 1 is busy. Cannot assign task 2 to equipment 1\n"
     ]
    }
   ],
   "source": [
    "runtask1 = RunTask(equipment=equipment_type_A1, task=taskA1)\n",
    "runtask2 = RunTask(equipment=equipment_type_A2, task=taskA2)\n",
    "runtask3 = RunTask(equipment=equipment_type_A1, task=taskA2)\n",
    "runtask1.assign_task()  # 成功，设备A1变为busy\n",
    "\n",
    "runtask2.assign_task()  # 成功，设备A2变为busy\n",
    "\n",
    "runtask3.assign_task()  # 失败，设备A1已被占用"
   ]
  },
  {
   "cell_type": "code",
   "execution_count": 28,
   "id": "74c5461b",
   "metadata": {},
   "outputs": [
    {
     "name": "stdout",
     "output_type": "stream",
     "text": [
      "Assigning task 1 to equipment 1.\n",
      "Equipment 1 is busy. Cannot assign task 2 to equipment 1\n"
     ]
    }
   ],
   "source": [
    "tasks = [\n",
    "    DefineTaskType(task_id=1, task_type=\"TypeA\", required_priority=1),\n",
    "    DefineTaskType(task_id=2, task_type=\"TypeA\", required_priority=5),\n",
    "    # Add more tasks as needed\n",
    "]\n",
    "\n",
    "# Create RunTask instances and assign tasks dynamically\n",
    "for task in tasks:\n",
    "    run_task_instance = RunTask(equipment=equipment_type_A1, task=task)\n",
    "    run_task_instance.assign_task()"
   ]
  },
  {
   "cell_type": "code",
   "execution_count": null,
   "id": "d73ad314",
   "metadata": {},
   "outputs": [],
   "source": []
  },
  {
   "cell_type": "code",
   "execution_count": null,
   "id": "93096ed7",
   "metadata": {},
   "outputs": [],
   "source": []
  },
  {
   "cell_type": "code",
   "execution_count": null,
   "id": "bcb7467d",
   "metadata": {},
   "outputs": [],
   "source": []
  },
  {
   "cell_type": "code",
   "execution_count": null,
   "id": "6ae073f5",
   "metadata": {},
   "outputs": [],
   "source": []
  },
  {
   "cell_type": "code",
   "execution_count": null,
   "id": "0d4f6275",
   "metadata": {},
   "outputs": [],
   "source": []
  },
  {
   "cell_type": "code",
   "execution_count": 84,
   "id": "2d43cf89",
   "metadata": {},
   "outputs": [],
   "source": [
    "class DefineEquipmentType:\n",
    "    def __init__(self, equipment_id, equipment_type, equipment_status='idle'):\n",
    "        self.equipment_id = equipment_id\n",
    "        self.equipment_type = equipment_type\n",
    "        self.equipment_status = equipment_status\n",
    "\n",
    "class DefineTaskType:\n",
    "    def __init__(self, task_id, task_type, required_priority):\n",
    "        self.task_id = task_id\n",
    "        self.task_type = task_type\n",
    "        self.required_priority = required_priority\n",
    "\n",
    "class RunTask:\n",
    "\n",
    "    def __init__(self, equipment, task):\n",
    "        self.equipment = equipment\n",
    "        self.task = task\n",
    "\n",
    "    def assign_task(self):\n",
    "        if self.equipment.equipment_status == \"idle\":\n",
    "            if self.task.task_type == self.equipment.equipment_type:\n",
    "                print(f\"Assigning task {self.task.task_id} ({self.task.task_type}) to equipment {self.equipment.equipment_id} ({self.equipment.equipment_type}).\")\n",
    "                self.equipment.equipment_status = \"busy\"\n",
    "            else:\n",
    "                print(f\"Equipment {self.equipment.equipment_type} is not suitable for task {self.task.task_id} ({self.task.task_type}).\")\n",
    "                \n",
    "        elif self.equipment.equipment_status == \"maintenance\":\n",
    "            print(f\"Equipment {self.equipment.equipment_id} ({self.equipment.equipment_type}) is under maintenance.\")\n",
    "            \n",
    "        else:\n",
    "            print(f\"Equipment {self.equipment.equipment_id} ({self.equipment.equipment_type}) is busy. Cannot assign task {self.task.task_id} ({self.task.task_type}) to equipment {self.equipment.equipment_id} ({self.equipment.equipment_type})\")\n",
    "\n",
    "\n",
    "    def complete_task(self):\n",
    "        print(f\"Equipment {self.equipment.equipment_id} ({self.equipment.equipment_type}) has completed the task {self.task.task_id} ({self.task.task_type}).\")\n",
    "        self.equipment.equipment_status = \"idle\""
   ]
  },
  {
   "cell_type": "code",
   "execution_count": 85,
   "id": "7ea99f04",
   "metadata": {},
   "outputs": [],
   "source": [
    "# 创建设备类型\n",
    "equipment_type_A1 = DefineEquipmentType(equipment_id=1, equipment_type=\"TypeA\")\n",
    "equipment_type_A2 = DefineEquipmentType(equipment_id=2, equipment_type=\"TypeA\", equipment_status='maintenance')\n",
    "\n",
    "taskA1 = DefineTaskType(task_id=1, task_type=\"TypeA\", required_priority=1)\n",
    "taskA2 = DefineTaskType(task_id=2, task_type=\"TypeA\", required_priority=5)\n",
    "taskA3 = DefineTaskType(task_id=3, task_type=\"TypeA\", required_priority=12)\n",
    "\n",
    "runtask1 = RunTask(equipment=equipment_type_A1, task=taskA1)\n",
    "runtask2 = RunTask(equipment=equipment_type_A2, task=taskA2)\n",
    "runtask3 = RunTask(equipment=equipment_type_A1, task=taskA3)"
   ]
  },
  {
   "cell_type": "code",
   "execution_count": 86,
   "id": "b7574a28",
   "metadata": {},
   "outputs": [
    {
     "name": "stdout",
     "output_type": "stream",
     "text": [
      "Assigning task 3 (TypeA) to equipment 1 (TypeA).\n",
      "Equipment 1 (TypeA) has completed the task 3 (TypeA).\n",
      "Assigning task 2 (TypeA) to equipment 1 (TypeA).\n",
      "Equipment 1 (TypeA) has completed the task 2 (TypeA).\n",
      "Assigning task 1 (TypeA) to equipment 1 (TypeA).\n",
      "Equipment 1 (TypeA) has completed the task 1 (TypeA).\n"
     ]
    }
   ],
   "source": [
    "# 创建任务列表\n",
    "task_list = [taskA1, taskA2, taskA3]\n",
    "\n",
    "# 根据required_priority降序排序任务列表\n",
    "sorted_tasks = sorted(task_list, key=lambda x: x.required_priority, reverse=True)\n",
    "\n",
    "# 创建RunTask对象并执行任务\n",
    "for task in sorted_tasks:\n",
    "    if equipment_type_A1.equipment_status != \"busy\":\n",
    "        run_task = RunTask(equipment=equipment_type_A1, task=task)\n",
    "    elif equipment_type_A2.equipment_status != \"busy\":\n",
    "        run_task = RunTask(equipment=equipment_type_A2, task=task)\n",
    "    else:\n",
    "        # Handle the case when both equipment instances are busy\n",
    "        print(\"All equipment is busy. Cannot assign the task.\")\n",
    "        break\n",
    "\n",
    "    run_task.assign_task()\n",
    "    run_task.complete_task()"
   ]
  },
  {
   "cell_type": "code",
   "execution_count": null,
   "id": "e479a710",
   "metadata": {},
   "outputs": [],
   "source": []
  },
  {
   "cell_type": "code",
   "execution_count": 49,
   "id": "a9ca77af",
   "metadata": {},
   "outputs": [
    {
     "ename": "TypeError",
     "evalue": "__init__() got an unexpected keyword argument 'equipment_status'",
     "output_type": "error",
     "traceback": [
      "\u001b[1;31m---------------------------------------------------------------------------\u001b[0m",
      "\u001b[1;31mTypeError\u001b[0m                                 Traceback (most recent call last)",
      "\u001b[1;32m~\\AppData\\Local\\Temp\\ipykernel_25036\\4188369417.py\u001b[0m in \u001b[0;36m<module>\u001b[1;34m\u001b[0m\n\u001b[0;32m      1\u001b[0m \u001b[1;31m# Create dynamic equipment list\u001b[0m\u001b[1;33m\u001b[0m\u001b[1;33m\u001b[0m\u001b[0m\n\u001b[0;32m      2\u001b[0m equipment_list = [\n\u001b[1;32m----> 3\u001b[1;33m     \u001b[0mDefineEquipmentType\u001b[0m\u001b[1;33m(\u001b[0m\u001b[0mequipment_id\u001b[0m\u001b[1;33m=\u001b[0m\u001b[1;36m1\u001b[0m\u001b[1;33m,\u001b[0m \u001b[0mequipment_type\u001b[0m\u001b[1;33m=\u001b[0m\u001b[1;34m\"TypeA\"\u001b[0m\u001b[1;33m,\u001b[0m \u001b[0mequipment_status\u001b[0m\u001b[1;33m=\u001b[0m\u001b[1;34m'idle'\u001b[0m\u001b[1;33m)\u001b[0m\u001b[1;33m,\u001b[0m\u001b[1;33m\u001b[0m\u001b[1;33m\u001b[0m\u001b[0m\n\u001b[0m\u001b[0;32m      4\u001b[0m     \u001b[0mDefineEquipmentType\u001b[0m\u001b[1;33m(\u001b[0m\u001b[0mequipment_id\u001b[0m\u001b[1;33m=\u001b[0m\u001b[1;36m2\u001b[0m\u001b[1;33m,\u001b[0m \u001b[0mequipment_type\u001b[0m\u001b[1;33m=\u001b[0m\u001b[1;34m\"TypeA\"\u001b[0m\u001b[1;33m,\u001b[0m \u001b[0mequipment_status\u001b[0m\u001b[1;33m=\u001b[0m\u001b[1;34m'idle'\u001b[0m\u001b[1;33m)\u001b[0m\u001b[1;33m,\u001b[0m\u001b[1;33m\u001b[0m\u001b[1;33m\u001b[0m\u001b[0m\n\u001b[0;32m      5\u001b[0m     \u001b[0mDefineEquipmentType\u001b[0m\u001b[1;33m(\u001b[0m\u001b[0mequipment_id\u001b[0m\u001b[1;33m=\u001b[0m\u001b[1;36m3\u001b[0m\u001b[1;33m,\u001b[0m \u001b[0mequipment_type\u001b[0m\u001b[1;33m=\u001b[0m\u001b[1;34m\"TypeA\"\u001b[0m\u001b[1;33m,\u001b[0m \u001b[0mequipment_status\u001b[0m\u001b[1;33m=\u001b[0m\u001b[1;34m'idle'\u001b[0m\u001b[1;33m)\u001b[0m\u001b[1;33m,\u001b[0m\u001b[1;33m\u001b[0m\u001b[1;33m\u001b[0m\u001b[0m\n",
      "\u001b[1;31mTypeError\u001b[0m: __init__() got an unexpected keyword argument 'equipment_status'"
     ]
    }
   ],
   "source": [
    "# Create dynamic equipment list\n",
    "equipment_list = [\n",
    "    DefineEquipmentType(equipment_id=1, equipment_type=\"TypeA\", equipment_status='idle'),\n",
    "    DefineEquipmentType(equipment_id=2, equipment_type=\"TypeA\", equipment_status='idle'),\n",
    "    DefineEquipmentType(equipment_id=3, equipment_type=\"TypeA\", equipment_status='idle'),\n",
    "    \n",
    "    DefineEquipmentType(equipment_id=4, equipment_type=\"TypeB\", equipment_status='idle'),\n",
    "    DefineEquipmentType(equipment_id=5, equipment_type=\"TypeB\", equipment_status='idle'),\n",
    "    DefineEquipmentType(equipment_id=6, equipment_type=\"TypeB\", equipment_status='idle')\n",
    "]\n",
    "\n",
    "# Create dynamic task list\n",
    "task_list = [\n",
    "    DefineTaskType(task_id=1, task_type=\"TypeA\", required_priority=1),\n",
    "    DefineTaskType(task_id=2, task_type=\"TypeA\", required_priority=5),\n",
    "    \n",
    "    DefineTaskType(task_id=3, task_type=\"TypeB\", required_priority=3),\n",
    "    DefineTaskType(task_id=4, task_type=\"TypeB\", required_priority=1),\n",
    "    DefineTaskType(task_id=5, task_type=\"TypeB\", required_priority=10)\n",
    "]\n",
    "\n",
    "\n",
    "# Assign tasks to available equipment\n",
    "for task in task_list:\n",
    "    available_equipment = next((equipment for equipment in equipment_list if equipment.equipment_type == task.task_type and equipment.equipment_status == \"idle\"), None)\n",
    "\n",
    "    if available_equipment:\n",
    "        run_task = RunTask(equipment=available_equipment, task=task)\n",
    "        run_task.assign_task()\n",
    "    else:\n",
    "        print(f\"No available equipment for task {task.task_id} ({task.task_type}).\")"
   ]
  },
  {
   "cell_type": "code",
   "execution_count": null,
   "id": "58a48007",
   "metadata": {},
   "outputs": [],
   "source": []
  },
  {
   "cell_type": "code",
   "execution_count": null,
   "id": "8a9cf867",
   "metadata": {},
   "outputs": [],
   "source": []
  },
  {
   "cell_type": "code",
   "execution_count": null,
   "id": "0ab52bb3",
   "metadata": {},
   "outputs": [],
   "source": []
  },
  {
   "cell_type": "code",
   "execution_count": null,
   "id": "e290d350",
   "metadata": {},
   "outputs": [],
   "source": []
  },
  {
   "cell_type": "code",
   "execution_count": null,
   "id": "78cab373",
   "metadata": {},
   "outputs": [],
   "source": []
  },
  {
   "cell_type": "code",
   "execution_count": null,
   "id": "d971d8f8",
   "metadata": {},
   "outputs": [],
   "source": []
  },
  {
   "cell_type": "code",
   "execution_count": null,
   "id": "d1e380c8",
   "metadata": {},
   "outputs": [],
   "source": []
  },
  {
   "cell_type": "code",
   "execution_count": null,
   "id": "af510f40",
   "metadata": {},
   "outputs": [],
   "source": []
  }
 ],
 "metadata": {
  "kernelspec": {
   "display_name": "Python 3 (ipykernel)",
   "language": "python",
   "name": "python3"
  },
  "language_info": {
   "codemirror_mode": {
    "name": "ipython",
    "version": 3
   },
   "file_extension": ".py",
   "mimetype": "text/x-python",
   "name": "python",
   "nbconvert_exporter": "python",
   "pygments_lexer": "ipython3",
   "version": "3.9.13"
  }
 },
 "nbformat": 4,
 "nbformat_minor": 5
}
