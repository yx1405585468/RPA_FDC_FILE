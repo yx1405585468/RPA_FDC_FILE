{
 "cells": [
  {
   "cell_type": "markdown",
   "id": "b56e5817",
   "metadata": {},
   "source": [
    "### 同一站点每片WAFER取最近的时间; 最后算法的结果有0和NA的检查、处理"
   ]
  },
  {
   "cell_type": "code",
   "execution_count": 1,
   "id": "df61c7ca",
   "metadata": {},
   "outputs": [],
   "source": [
    "import warnings\n",
    "import pandas as pd\n",
    "import os\n",
    "warnings.filterwarnings('ignore')\n",
    "from scipy.stats import ttest_ind, mannwhitneyu, shapiro, levene"
   ]
  },
  {
   "cell_type": "code",
   "execution_count": 2,
   "id": "2fa13a63",
   "metadata": {},
   "outputs": [
    {
     "name": "stderr",
     "output_type": "stream",
     "text": [
      "WARNING:root:'PYARROW_IGNORE_TIMEZONE' environment variable was not set. It is required to set this environment variable to '1' in both driver and executor sides if you use pyarrow>=2.0.0. pandas-on-Spark will set it for you but it does not work if there is a Spark context already launched.\n"
     ]
    }
   ],
   "source": [
    "import pyspark.pandas as ps\n",
    "from pyspark.sql.functions import pandas_udf, PandasUDFType, countDistinct, when, col, rank, lit"
   ]
  },
  {
   "cell_type": "code",
   "execution_count": 3,
   "id": "94d8a62b",
   "metadata": {},
   "outputs": [],
   "source": [
    "# spark集群模式\n",
    "from pyspark.sql import SparkSession\n",
    "\n",
    "os.environ['PYSPARK_PYTHON'] = '/usr/local/python-3.9.13/bin/python3'\n",
    "spark = SparkSession.builder \\\n",
    "    .appName(\"pandas_udf\") \\\n",
    "    .config('spark.sql.session.timeZone', 'Asia/Shanghai') \\\n",
    "    .config(\"spark.scheduler.mode\", \"FAIR\") \\\n",
    "    .config('spark.driver.memory', '4g') \\\n",
    "    .config('spark.driver.cores', '8') \\\n",
    "    .config('spark.executor.memory', '4g') \\\n",
    "    .config('spark.executor.cores', '8') \\\n",
    "    .config('spark.cores.max', '8') \\\n",
    "    .config('spark.driver.host', '192.168.22.28') \\\n",
    "    .master(\"spark://192.168.12.47:7077,192.168.12.48:7077\") \\\n",
    "    .getOrCreate()"
   ]
  },
  {
   "cell_type": "code",
   "execution_count": 4,
   "id": "25052f04",
   "metadata": {
    "scrolled": true
   },
   "outputs": [
    {
     "data": {
      "text/html": [
       "<div>\n",
       "<style scoped>\n",
       "    .dataframe tbody tr th:only-of-type {\n",
       "        vertical-align: middle;\n",
       "    }\n",
       "\n",
       "    .dataframe tbody tr th {\n",
       "        vertical-align: top;\n",
       "    }\n",
       "\n",
       "    .dataframe thead th {\n",
       "        text-align: right;\n",
       "    }\n",
       "</style>\n",
       "<table border=\"1\" class=\"dataframe\">\n",
       "  <thead>\n",
       "    <tr style=\"text-align: right;\">\n",
       "      <th></th>\n",
       "      <th>WAFER_ID</th>\n",
       "      <th>OPER_NO</th>\n",
       "      <th>LOT_ID</th>\n",
       "      <th>RECIPE_KEY</th>\n",
       "      <th>RECIPE_ID</th>\n",
       "      <th>RANDOM_DEFECTS</th>\n",
       "      <th>INSPECTION_TIME</th>\n",
       "      <th>label</th>\n",
       "    </tr>\n",
       "  </thead>\n",
       "  <tbody>\n",
       "    <tr>\n",
       "      <th>0</th>\n",
       "      <td>NA0299-02</td>\n",
       "      <td>5FP10</td>\n",
       "      <td>NA0299.000</td>\n",
       "      <td>3828393</td>\n",
       "      <td>EMNDE015FP10</td>\n",
       "      <td>6.0</td>\n",
       "      <td>2023-04-10 12:30:28</td>\n",
       "      <td>1</td>\n",
       "    </tr>\n",
       "    <tr>\n",
       "      <th>1</th>\n",
       "      <td>NA0301-13</td>\n",
       "      <td>5FP10</td>\n",
       "      <td>NA0301.000</td>\n",
       "      <td>3827258</td>\n",
       "      <td>EMNDE015FP10</td>\n",
       "      <td>3.0</td>\n",
       "      <td>2023-04-10 12:30:03</td>\n",
       "      <td>1</td>\n",
       "    </tr>\n",
       "    <tr>\n",
       "      <th>2</th>\n",
       "      <td>NA0303-02</td>\n",
       "      <td>5FP10</td>\n",
       "      <td>NA0303.000</td>\n",
       "      <td>3831272</td>\n",
       "      <td>EMNDE015FP10</td>\n",
       "      <td>6.0</td>\n",
       "      <td>2023-04-10 07:43:26</td>\n",
       "      <td>1</td>\n",
       "    </tr>\n",
       "    <tr>\n",
       "      <th>3</th>\n",
       "      <td>NA0304-24</td>\n",
       "      <td>5FP10</td>\n",
       "      <td>NA0304.000</td>\n",
       "      <td>3827258</td>\n",
       "      <td>EMNDE015FP10</td>\n",
       "      <td>9.0</td>\n",
       "      <td>2023-04-10 13:22:14</td>\n",
       "      <td>1</td>\n",
       "    </tr>\n",
       "    <tr>\n",
       "      <th>4</th>\n",
       "      <td>NA0305-02</td>\n",
       "      <td>5FP10</td>\n",
       "      <td>NA0305.000</td>\n",
       "      <td>3827258</td>\n",
       "      <td>EMNDE015FP10</td>\n",
       "      <td>11.0</td>\n",
       "      <td>2023-04-10 13:14:54</td>\n",
       "      <td>1</td>\n",
       "    </tr>\n",
       "    <tr>\n",
       "      <th>...</th>\n",
       "      <td>...</td>\n",
       "      <td>...</td>\n",
       "      <td>...</td>\n",
       "      <td>...</td>\n",
       "      <td>...</td>\n",
       "      <td>...</td>\n",
       "      <td>...</td>\n",
       "      <td>...</td>\n",
       "    </tr>\n",
       "    <tr>\n",
       "      <th>2235</th>\n",
       "      <td>NAZ541-15</td>\n",
       "      <td>1CG40</td>\n",
       "      <td>NAZ541.300</td>\n",
       "      <td>5766658</td>\n",
       "      <td>FYZK7011CG40S5</td>\n",
       "      <td>2262.0</td>\n",
       "      <td>2023-09-13 07:53:54</td>\n",
       "      <td>0</td>\n",
       "    </tr>\n",
       "    <tr>\n",
       "      <th>2236</th>\n",
       "      <td>NAZ541-15</td>\n",
       "      <td>1CZ10</td>\n",
       "      <td>NAZ541.300</td>\n",
       "      <td>5112663</td>\n",
       "      <td>FYZK7011CZ1007</td>\n",
       "      <td>809.0</td>\n",
       "      <td>2023-08-30 21:00:18</td>\n",
       "      <td>0</td>\n",
       "    </tr>\n",
       "    <tr>\n",
       "      <th>2237</th>\n",
       "      <td>NAZ541-15</td>\n",
       "      <td>1CG40</td>\n",
       "      <td>NAZ541.300</td>\n",
       "      <td>4769683</td>\n",
       "      <td>FYZK7011CG40</td>\n",
       "      <td>NaN</td>\n",
       "      <td>2023-08-27 23:52:52</td>\n",
       "      <td>0</td>\n",
       "    </tr>\n",
       "    <tr>\n",
       "      <th>2238</th>\n",
       "      <td>NAZ541-15</td>\n",
       "      <td>1CG20</td>\n",
       "      <td>NAZ541.300</td>\n",
       "      <td>4871798</td>\n",
       "      <td>FYZK7011CG20</td>\n",
       "      <td>NaN</td>\n",
       "      <td>2023-08-26 20:36:43</td>\n",
       "      <td>0</td>\n",
       "    </tr>\n",
       "    <tr>\n",
       "      <th>2239</th>\n",
       "      <td>NAZ542-02</td>\n",
       "      <td>1CG40</td>\n",
       "      <td>NAZ542.000</td>\n",
       "      <td>4406980</td>\n",
       "      <td>FYZF0011CG40</td>\n",
       "      <td>721.0</td>\n",
       "      <td>2023-04-23 01:18:11</td>\n",
       "      <td>0</td>\n",
       "    </tr>\n",
       "  </tbody>\n",
       "</table>\n",
       "<p>2240 rows × 8 columns</p>\n",
       "</div>"
      ],
      "text/plain": [
       "       WAFER_ID OPER_NO      LOT_ID  RECIPE_KEY       RECIPE_ID  \\\n",
       "0     NA0299-02   5FP10  NA0299.000     3828393    EMNDE015FP10   \n",
       "1     NA0301-13   5FP10  NA0301.000     3827258    EMNDE015FP10   \n",
       "2     NA0303-02   5FP10  NA0303.000     3831272    EMNDE015FP10   \n",
       "3     NA0304-24   5FP10  NA0304.000     3827258    EMNDE015FP10   \n",
       "4     NA0305-02   5FP10  NA0305.000     3827258    EMNDE015FP10   \n",
       "...         ...     ...         ...         ...             ...   \n",
       "2235  NAZ541-15   1CG40  NAZ541.300     5766658  FYZK7011CG40S5   \n",
       "2236  NAZ541-15   1CZ10  NAZ541.300     5112663  FYZK7011CZ1007   \n",
       "2237  NAZ541-15   1CG40  NAZ541.300     4769683    FYZK7011CG40   \n",
       "2238  NAZ541-15   1CG20  NAZ541.300     4871798    FYZK7011CG20   \n",
       "2239  NAZ542-02   1CG40  NAZ542.000     4406980    FYZF0011CG40   \n",
       "\n",
       "      RANDOM_DEFECTS      INSPECTION_TIME  label  \n",
       "0                6.0  2023-04-10 12:30:28      1  \n",
       "1                3.0  2023-04-10 12:30:03      1  \n",
       "2                6.0  2023-04-10 07:43:26      1  \n",
       "3                9.0  2023-04-10 13:22:14      1  \n",
       "4               11.0  2023-04-10 13:14:54      1  \n",
       "...              ...                  ...    ...  \n",
       "2235          2262.0  2023-09-13 07:53:54      0  \n",
       "2236           809.0  2023-08-30 21:00:18      0  \n",
       "2237             NaN  2023-08-27 23:52:52      0  \n",
       "2238             NaN  2023-08-26 20:36:43      0  \n",
       "2239           721.0  2023-04-23 01:18:11      0  \n",
       "\n",
       "[2240 rows x 8 columns]"
      ]
     },
     "execution_count": 4,
     "metadata": {},
     "output_type": "execute_result"
    }
   ],
   "source": [
    "df_run_pandas = pd.read_csv(\"D:/Jupyterfiles/晶合MVAFDC_general开发/MVAanlysisDevelop/defect_algorithm/defect_by_wafer_labeled.csv\")\n",
    "df_run_pandas"
   ]
  },
  {
   "cell_type": "code",
   "execution_count": 124,
   "id": "ea9bcdef",
   "metadata": {
    "scrolled": true
   },
   "outputs": [],
   "source": [
    "# df_run_pandas.loc[df_run_pandas['label'] == 0, 'RANDOM_DEFECTS'].tolist()"
   ]
  },
  {
   "cell_type": "code",
   "execution_count": 5,
   "id": "971682ad",
   "metadata": {},
   "outputs": [
    {
     "data": {
      "text/plain": [
       "2240"
      ]
     },
     "execution_count": 5,
     "metadata": {},
     "output_type": "execute_result"
    }
   ],
   "source": [
    "df_run = ps.from_pandas(df_run_pandas).to_spark()\n",
    "df_run.count()"
   ]
  },
  {
   "cell_type": "code",
   "execution_count": 6,
   "id": "0ef6ff54",
   "metadata": {
    "scrolled": true
   },
   "outputs": [
    {
     "name": "stdout",
     "output_type": "stream",
     "text": [
      "+----------+-----------+--------+-------+\n",
      "|   OPER_NO|wafer_count|good_num|bad_num|\n",
      "+----------+-----------+--------+-------+\n",
      "|     5FP10|         78|       0|     78|\n",
      "|       EOL|         47|      19|     28|\n",
      "|     HEFEI|         65|      44|     21|\n",
      "|     1CG10|         29|      15|     14|\n",
      "|     1CZ10|         26|      14|     12|\n",
      "|BH90WA12S1|         31|      21|     10|\n",
      "|     PVP10|         12|       3|      9|\n",
      "|     2UG30|         16|       7|      9|\n",
      "|     1CG40|         29|      21|      8|\n",
      "|     BBP60|         14|       7|      7|\n",
      "|     1GG30|         36|      29|      7|\n",
      "|     GRP30|         20|      13|      7|\n",
      "|     2UP30|         11|       5|      6|\n",
      "|     1DG10|          8|       2|      6|\n",
      "|     1FG10|         32|      26|      6|\n",
      "|     2EG20|         16|      10|      6|\n",
      "|     1CP20|          9|       3|      6|\n",
      "|     2DG10|          9|       3|      6|\n",
      "|     GRP40|         18|      12|      6|\n",
      "|     3UG30|         15|       9|      6|\n",
      "+----------+-----------+--------+-------+\n",
      "only showing top 20 rows\n",
      "\n"
     ]
    }
   ],
   "source": [
    "grpby_list = ['OPER_NO']\n",
    "grps = (df_run.groupBy(grpby_list)\n",
    "                .agg(countDistinct('WAFER_ID').alias('wafer_count'),\n",
    "                     countDistinct('WAFER_ID', when(df_run['label'] == 0, 1)).alias('good_num'),\n",
    "                     countDistinct('WAFER_ID', when(df_run['label'] == 1, 1)).alias('bad_num'))\n",
    "                .orderBy('bad_num', ascending=False))\n",
    "grps.show()"
   ]
  },
  {
   "cell_type": "code",
   "execution_count": null,
   "id": "c59c861b",
   "metadata": {},
   "outputs": [],
   "source": []
  },
  {
   "cell_type": "markdown",
   "id": "6a10a637",
   "metadata": {},
   "source": [
    "-----------pandas"
   ]
  },
  {
   "cell_type": "code",
   "execution_count": 41,
   "id": "4d9933ae",
   "metadata": {},
   "outputs": [
    {
     "name": "stdout",
     "output_type": "stream",
     "text": [
      "+---------+-------+----------+----------+------------+--------------+-------------------+-----+\n",
      "| WAFER_ID|OPER_NO|    LOT_ID|RECIPE_KEY|   RECIPE_ID|RANDOM_DEFECTS|    INSPECTION_TIME|label|\n",
      "+---------+-------+----------+----------+------------+--------------+-------------------+-----+\n",
      "|NAZ048-18|  1FP01|NAZ048.120|   2769299|FYZF0011FP01|           1.0|2023-03-09 10:42:48|    1|\n",
      "|NAZ170-05|  1FP01|NAZ170.000|   2728737|FYZF0011FP01|           9.0|2022-10-08 19:56:12|    0|\n",
      "|NAZ173-07|  1FP01|NAZ173.010|   2827072|FYZF0011FP01|           8.0|2022-10-23 03:14:12|    0|\n",
      "+---------+-------+----------+----------+------------+--------------+-------------------+-----+\n",
      "\n"
     ]
    }
   ],
   "source": [
    "# oper, recipe = '5FP15', 'EMNH015FP222'\n",
    "# df_specific = df_run.filter(f\"OPER_NO == '{oper}' AND RECIPE_ID == '{recipe}'\")\n",
    "# df_specific.show()\n",
    "\n",
    "oper = '1FP01'\n",
    "df_specific = df_run.filter(f\"OPER_NO == '{oper}'\")\n",
    "df_specific.show()"
   ]
  },
  {
   "cell_type": "code",
   "execution_count": 42,
   "id": "5342a585",
   "metadata": {
    "scrolled": true
   },
   "outputs": [
    {
     "data": {
      "text/html": [
       "<div>\n",
       "<style scoped>\n",
       "    .dataframe tbody tr th:only-of-type {\n",
       "        vertical-align: middle;\n",
       "    }\n",
       "\n",
       "    .dataframe tbody tr th {\n",
       "        vertical-align: top;\n",
       "    }\n",
       "\n",
       "    .dataframe thead th {\n",
       "        text-align: right;\n",
       "    }\n",
       "</style>\n",
       "<table border=\"1\" class=\"dataframe\">\n",
       "  <thead>\n",
       "    <tr style=\"text-align: right;\">\n",
       "      <th></th>\n",
       "      <th>WAFER_ID</th>\n",
       "      <th>OPER_NO</th>\n",
       "      <th>LOT_ID</th>\n",
       "      <th>RECIPE_KEY</th>\n",
       "      <th>RECIPE_ID</th>\n",
       "      <th>RANDOM_DEFECTS</th>\n",
       "      <th>INSPECTION_TIME</th>\n",
       "      <th>label</th>\n",
       "    </tr>\n",
       "  </thead>\n",
       "  <tbody>\n",
       "    <tr>\n",
       "      <th>0</th>\n",
       "      <td>NAZ048-18</td>\n",
       "      <td>1FP01</td>\n",
       "      <td>NAZ048.120</td>\n",
       "      <td>2769299</td>\n",
       "      <td>FYZF0011FP01</td>\n",
       "      <td>1.0</td>\n",
       "      <td>2023-03-09 10:42:48</td>\n",
       "      <td>1</td>\n",
       "    </tr>\n",
       "    <tr>\n",
       "      <th>1</th>\n",
       "      <td>NAZ170-05</td>\n",
       "      <td>1FP01</td>\n",
       "      <td>NAZ170.000</td>\n",
       "      <td>2728737</td>\n",
       "      <td>FYZF0011FP01</td>\n",
       "      <td>9.0</td>\n",
       "      <td>2022-10-08 19:56:12</td>\n",
       "      <td>0</td>\n",
       "    </tr>\n",
       "    <tr>\n",
       "      <th>2</th>\n",
       "      <td>NAZ173-07</td>\n",
       "      <td>1FP01</td>\n",
       "      <td>NAZ173.010</td>\n",
       "      <td>2827072</td>\n",
       "      <td>FYZF0011FP01</td>\n",
       "      <td>8.0</td>\n",
       "      <td>2022-10-23 03:14:12</td>\n",
       "      <td>0</td>\n",
       "    </tr>\n",
       "  </tbody>\n",
       "</table>\n",
       "</div>"
      ],
      "text/plain": [
       "    WAFER_ID OPER_NO      LOT_ID  RECIPE_KEY     RECIPE_ID  RANDOM_DEFECTS  \\\n",
       "0  NAZ048-18   1FP01  NAZ048.120     2769299  FYZF0011FP01             1.0   \n",
       "1  NAZ170-05   1FP01  NAZ170.000     2728737  FYZF0011FP01             9.0   \n",
       "2  NAZ173-07   1FP01  NAZ173.010     2827072  FYZF0011FP01             8.0   \n",
       "\n",
       "       INSPECTION_TIME  label  \n",
       "0  2023-03-09 10:42:48      1  \n",
       "1  2022-10-08 19:56:12      0  \n",
       "2  2022-10-23 03:14:12      0  "
      ]
     },
     "execution_count": 42,
     "metadata": {},
     "output_type": "execute_result"
    }
   ],
   "source": [
    "df_specific_pandas = df_specific.toPandas()\n",
    "df_specific_pandas"
   ]
  },
  {
   "cell_type": "code",
   "execution_count": 43,
   "id": "be346903",
   "metadata": {},
   "outputs": [
    {
     "name": "stdout",
     "output_type": "stream",
     "text": [
      "good_wafers: [9.0, 8.0]\n",
      "bad_wafers [1.0]\n",
      "p_shapiro_good, p_shapiro_bad, p_levene: 1.0 1.0 0.11611652351681559\n",
      "equal_var=True\n",
      "statistic, p_value: 25.98076211353316 1.3039667249712685e-05\n"
     ]
    },
    {
     "data": {
      "text/html": [
       "<div>\n",
       "<style scoped>\n",
       "    .dataframe tbody tr th:only-of-type {\n",
       "        vertical-align: middle;\n",
       "    }\n",
       "\n",
       "    .dataframe tbody tr th {\n",
       "        vertical-align: top;\n",
       "    }\n",
       "\n",
       "    .dataframe thead th {\n",
       "        text-align: right;\n",
       "    }\n",
       "</style>\n",
       "<table border=\"1\" class=\"dataframe\">\n",
       "  <thead>\n",
       "    <tr style=\"text-align: right;\">\n",
       "      <th></th>\n",
       "      <th>statistic</th>\n",
       "      <th>importance</th>\n",
       "      <th>OPER_NO</th>\n",
       "    </tr>\n",
       "  </thead>\n",
       "  <tbody>\n",
       "    <tr>\n",
       "      <th>0</th>\n",
       "      <td>25.980762</td>\n",
       "      <td>0.999987</td>\n",
       "      <td>1FP01</td>\n",
       "    </tr>\n",
       "  </tbody>\n",
       "</table>\n",
       "</div>"
      ],
      "text/plain": [
       "   statistic  importance OPER_NO\n",
       "0  25.980762    0.999987   1FP01"
      ]
     },
     "execution_count": 43,
     "metadata": {},
     "output_type": "execute_result"
    }
   ],
   "source": [
    "def get_model_result(df_run):\n",
    "\n",
    "    good_wafers = df_run.loc[df_run['label'] == 0, 'RANDOM_DEFECTS'].tolist()\n",
    "    bad_wafers = df_run.loc[df_run['label'] == 1, 'RANDOM_DEFECTS'].tolist()\n",
    "    print(\"good_wafers:\", good_wafers)\n",
    "    print(\"bad_wafers\", bad_wafers)\n",
    "\n",
    "    if len(good_wafers) == 0 or len(bad_wafers) == 0:\n",
    "        print(\"可能有一个为空\")\n",
    "        return pd.DataFrame()\n",
    "\n",
    "    p_shapiro_good, p_shapiro_bad, p_levene = do_normality_tests(good_wafers, bad_wafers)\n",
    "    print(\"p_shapiro_good, p_shapiro_bad, p_levene:\", p_shapiro_good, p_shapiro_bad, p_levene)\n",
    "    \n",
    "    statistic, p_value = get_difference_results(good_wafers, bad_wafers, p_shapiro_good, p_shapiro_bad, p_levene)\n",
    "    print(\"statistic, p_value:\", statistic, p_value)\n",
    "\n",
    "    importance_dict = {'statistic': statistic, 'importance': 1 - p_value}\n",
    "    importance_dict.update({col_: df_run[col_].values[0] for col_ in grpby_list})\n",
    "    importance_res = pd.DataFrame(importance_dict, index=[0])\n",
    "    return importance_res\n",
    "\n",
    "res = get_model_result(df_specific_pandas)\n",
    "res"
   ]
  },
  {
   "cell_type": "code",
   "execution_count": null,
   "id": "16a2c8cd",
   "metadata": {},
   "outputs": [],
   "source": []
  },
  {
   "cell_type": "code",
   "execution_count": null,
   "id": "69f82e68",
   "metadata": {},
   "outputs": [],
   "source": []
  },
  {
   "cell_type": "markdown",
   "id": "d4e7ddeb",
   "metadata": {},
   "source": [
    "----------------- "
   ]
  },
  {
   "cell_type": "code",
   "execution_count": null,
   "id": "db248c27",
   "metadata": {},
   "outputs": [],
   "source": []
  },
  {
   "cell_type": "code",
   "execution_count": null,
   "id": "7ec68f63",
   "metadata": {},
   "outputs": [],
   "source": [
    "levene(good_wafers, bad_wafers)"
   ]
  },
  {
   "cell_type": "code",
   "execution_count": 148,
   "id": "dd7927f8",
   "metadata": {},
   "outputs": [],
   "source": [
    "# good_wafers = df_specific.filter(col(\"label\") == 0).select(\"RANDOM_DEFECTS\").rdd.flatMap(lambda x: x).collect()\n",
    "# bad_wafers = df_specific.filter(col(\"label\") == 1).select(\"RANDOM_DEFECTS\").rdd.flatMap(lambda x: x).collect()"
   ]
  },
  {
   "cell_type": "code",
   "execution_count": 35,
   "id": "cb853ab9",
   "metadata": {},
   "outputs": [],
   "source": [
    "def extend_wafers(good_wafers, bad_wafers):\n",
    "    if len(good_wafers) < 3:\n",
    "        n = len(good_wafers)\n",
    "        g_mean = np.mean(good_wafers)\n",
    "        good_wafers.extend([g_mean] * (3 - n))\n",
    "\n",
    "    if len(bad_wafers) < 3:\n",
    "        n = len(bad_wafers)\n",
    "        b_mean = np.mean(bad_wafers)\n",
    "        bad_wafers.extend([b_mean] * (3 - n))\n",
    "    return good_wafers, bad_wafers\n",
    "\n",
    "\n",
    "def do_normality_tests(good_wafers, bad_wafers):\n",
    "    \n",
    "    good_wafers, bad_wafers = extend_wafers(good_wafers=good_wafers, bad_wafers=bad_wafers)\n",
    "    \n",
    "    # Shapiro-Wilk test: Normality Assumption\n",
    "    _, p_shapiro_good = shapiro(good_wafers)\n",
    "    _, p_shapiro_bad = shapiro(bad_wafers)\n",
    "\n",
    "    # Levene's test: Homogeneity of Variance Assumption\n",
    "    _, p_levene = levene(good_wafers, bad_wafers)\n",
    "    return p_shapiro_good, p_shapiro_bad, p_levene\n",
    "\n",
    "def get_difference_results(good_wafers, bad_wafers, p_shapiro_good, p_shapiro_bad, p_levene, alpha=0.05):\n",
    "    \n",
    "    good_wafers, bad_wafers = extend_wafers(good_wafers=good_wafers, bad_wafers=bad_wafers)\n",
    "    \n",
    "    if p_shapiro_good > alpha and p_shapiro_bad > alpha and p_levene > alpha:\n",
    "        print(\"equal_var=True\")\n",
    "        statistic, p_value = ttest_ind(good_wafers, bad_wafers, equal_var=True)\n",
    "        \n",
    "    elif p_shapiro_good > alpha and p_shapiro_bad > alpha and p_levene < alpha:\n",
    "        print(\"equal_var=False\")\n",
    "        statistic, p_value = ttest_ind(good_wafers, bad_wafers, equal_var=False)\n",
    "        \n",
    "    else:\n",
    "        print(\"mannwhitneyu\")\n",
    "        statistic, p_value = mannwhitneyu(good_wafers, bad_wafers)\n",
    "    return statistic, p_value"
   ]
  },
  {
   "cell_type": "code",
   "execution_count": 175,
   "id": "3231c3c9",
   "metadata": {},
   "outputs": [
    {
     "data": {
      "text/plain": [
       "(-0.25000000000000006, 0.8149020114591812)"
      ]
     },
     "execution_count": 175,
     "metadata": {},
     "output_type": "execute_result"
    }
   ],
   "source": [
    "good_wafers = [1,2, 3]\n",
    "bad_wafers = [3, 4, 0]\n",
    "p_shapiro_good, p_shapiro_bad, p_levene = do_normality_tests(good_wafers, bad_wafers)\n",
    "get_difference_results(good_wafers, bad_wafers, p_shapiro_good, p_shapiro_bad, p_levene)"
   ]
  },
  {
   "cell_type": "code",
   "execution_count": 177,
   "id": "e4ccad81",
   "metadata": {},
   "outputs": [],
   "source": [
    "from pyspark.sql.types import StringType, IntegerType, FloatType, StructType, StructField\n",
    "def fit_defect_model(df, grpby_list):\n",
    "    struct_fields = [StructField(col_, StringType(), True) for col_ in grpby_list]\n",
    "    struct_fields.extend([StructField(\"statistic\", FloatType(), True),\n",
    "                          StructField(\"importance\", FloatType(), True)])\n",
    "    schema_all = StructType(struct_fields)\n",
    "    \n",
    "    @pandas_udf(returnType=schema_all, functionType=PandasUDFType.GROUPED_MAP)\n",
    "    def get_model_result(df_run):\n",
    "\n",
    "        good_wafers = df_run.loc[df_run['label'] == 0, 'RANDOM_DEFECTS'].tolist()\n",
    "        bad_wafers = df_run.loc[df_run['label'] == 1, 'RANDOM_DEFECTS'].tolist()\n",
    "        \n",
    "        if len(good_wafers) == 0 or len(bad_wafers) == 0:\n",
    "            return pd.DataFrame()\n",
    "            \n",
    "        p_shapiro_good, p_shapiro_bad, p_levene = do_normality_tests(good_wafers, bad_wafers)\n",
    "        statistic, p_value = get_difference_results(good_wafers, bad_wafers, p_shapiro_good, p_shapiro_bad, p_levene)\n",
    "\n",
    "        importance_dict = {'statistic': statistic, 'importance': 1 - p_value}\n",
    "        importance_dict.update({col_: df_run[col_].values[0] for col_ in grpby_list})\n",
    "        importance_res = pd.DataFrame(importance_dict, index=[0])\n",
    "        return importance_res\n",
    "    return df.groupby(grpby_list).apply(get_model_result)"
   ]
  },
  {
   "cell_type": "code",
   "execution_count": 178,
   "id": "818e6afb",
   "metadata": {},
   "outputs": [
    {
     "data": {
      "text/html": [
       "<div>\n",
       "<style scoped>\n",
       "    .dataframe tbody tr th:only-of-type {\n",
       "        vertical-align: middle;\n",
       "    }\n",
       "\n",
       "    .dataframe tbody tr th {\n",
       "        vertical-align: top;\n",
       "    }\n",
       "\n",
       "    .dataframe thead th {\n",
       "        text-align: right;\n",
       "    }\n",
       "</style>\n",
       "<table border=\"1\" class=\"dataframe\">\n",
       "  <thead>\n",
       "    <tr style=\"text-align: right;\">\n",
       "      <th></th>\n",
       "      <th>OPER_NO</th>\n",
       "      <th>RECIPE_ID</th>\n",
       "      <th>statistic</th>\n",
       "      <th>importance</th>\n",
       "    </tr>\n",
       "  </thead>\n",
       "  <tbody>\n",
       "    <tr>\n",
       "      <th>0</th>\n",
       "      <td>5FP10</td>\n",
       "      <td>EMNDE015FP10</td>\n",
       "      <td>0.0</td>\n",
       "      <td>0.982549</td>\n",
       "    </tr>\n",
       "    <tr>\n",
       "      <th>1</th>\n",
       "      <td>5FP10</td>\n",
       "      <td>EMNH015FP15</td>\n",
       "      <td>0.0</td>\n",
       "      <td>0.987879</td>\n",
       "    </tr>\n",
       "    <tr>\n",
       "      <th>2</th>\n",
       "      <td>5FP14</td>\n",
       "      <td>EMNH015FP222</td>\n",
       "      <td>9.0</td>\n",
       "      <td>0.923477</td>\n",
       "    </tr>\n",
       "    <tr>\n",
       "      <th>3</th>\n",
       "      <td>5FP15</td>\n",
       "      <td>EMNH015FP18</td>\n",
       "      <td>0.0</td>\n",
       "      <td>0.996865</td>\n",
       "    </tr>\n",
       "    <tr>\n",
       "      <th>4</th>\n",
       "      <td>5FP15</td>\n",
       "      <td>EMNH015FP222</td>\n",
       "      <td>3.0</td>\n",
       "      <td>0.342095</td>\n",
       "    </tr>\n",
       "  </tbody>\n",
       "</table>\n",
       "</div>"
      ],
      "text/plain": [
       "  OPER_NO     RECIPE_ID  statistic  importance\n",
       "0   5FP10  EMNDE015FP10        0.0    0.982549\n",
       "1   5FP10   EMNH015FP15        0.0    0.987879\n",
       "2   5FP14  EMNH015FP222        9.0    0.923477\n",
       "3   5FP15   EMNH015FP18        0.0    0.996865\n",
       "4   5FP15  EMNH015FP222        3.0    0.342095"
      ]
     },
     "execution_count": 178,
     "metadata": {},
     "output_type": "execute_result"
    }
   ],
   "source": [
    "res = fit_defect_model(df=df_run, grpby_list=['OPER_NO', 'RECIPE_ID'])\n",
    "res.toPandas()"
   ]
  },
  {
   "cell_type": "code",
   "execution_count": null,
   "id": "916fffd0",
   "metadata": {},
   "outputs": [],
   "source": []
  },
  {
   "cell_type": "code",
   "execution_count": null,
   "id": "75a74fe8",
   "metadata": {},
   "outputs": [],
   "source": []
  },
  {
   "cell_type": "code",
   "execution_count": null,
   "id": "68129874",
   "metadata": {},
   "outputs": [],
   "source": []
  },
  {
   "cell_type": "code",
   "execution_count": null,
   "id": "2e680d8a",
   "metadata": {},
   "outputs": [],
   "source": []
  },
  {
   "cell_type": "code",
   "execution_count": null,
   "id": "3c69241d",
   "metadata": {},
   "outputs": [],
   "source": []
  },
  {
   "cell_type": "code",
   "execution_count": null,
   "id": "18e8d455",
   "metadata": {},
   "outputs": [],
   "source": []
  },
  {
   "cell_type": "code",
   "execution_count": null,
   "id": "baa41693",
   "metadata": {},
   "outputs": [],
   "source": []
  },
  {
   "cell_type": "markdown",
   "id": "7a1180e7",
   "metadata": {},
   "source": [
    "#### 检验"
   ]
  },
  {
   "cell_type": "code",
   "execution_count": 57,
   "id": "56812f64",
   "metadata": {},
   "outputs": [
    {
     "data": {
      "text/plain": [
       "ShapiroResult(statistic=0.7758302092552185, pvalue=0.058016655848620036)"
      ]
     },
     "execution_count": 57,
     "metadata": {},
     "output_type": "execute_result"
    }
   ],
   "source": [
    "shapiro([1,2, 30])  #  Data must be at least length 3."
   ]
  },
  {
   "cell_type": "code",
   "execution_count": 67,
   "id": "1464d935",
   "metadata": {},
   "outputs": [
    {
     "data": {
      "text/plain": [
       "LeveneResult(statistic=2.2387189771872653, pvalue=0.2089273956185376)"
      ]
     },
     "execution_count": 67,
     "metadata": {},
     "output_type": "execute_result"
    }
   ],
   "source": [
    "levene([1, 2, 9], [3, 200, 56])  # 方差齐性检验, 也最好都是三个"
   ]
  },
  {
   "cell_type": "code",
   "execution_count": null,
   "id": "498e4542",
   "metadata": {},
   "outputs": [],
   "source": []
  },
  {
   "cell_type": "markdown",
   "id": "17f738f6",
   "metadata": {},
   "source": [
    "#### equal_var=True的情况，必须其中一个的数量>=2"
   ]
  },
  {
   "cell_type": "code",
   "execution_count": 17,
   "id": "19124b86",
   "metadata": {},
   "outputs": [
    {
     "data": {
      "text/plain": [
       "TtestResult(statistic=-2.886751345948129, pvalue=0.21229561500965655, df=1.0)"
      ]
     },
     "execution_count": 17,
     "metadata": {},
     "output_type": "execute_result"
    }
   ],
   "source": [
    "ttest_ind([1, 0], [3], equal_var=True)"
   ]
  },
  {
   "cell_type": "code",
   "execution_count": 23,
   "id": "9e0cdc8c",
   "metadata": {},
   "outputs": [
    {
     "data": {
      "text/plain": [
       "TtestResult(statistic=-2.886751345948129, pvalue=0.21229561500965655, df=1.0)"
      ]
     },
     "execution_count": 23,
     "metadata": {},
     "output_type": "execute_result"
    }
   ],
   "source": [
    "ttest_ind([1], [3, 4], equal_var=True)"
   ]
  },
  {
   "cell_type": "code",
   "execution_count": null,
   "id": "b918c783",
   "metadata": {},
   "outputs": [],
   "source": []
  },
  {
   "cell_type": "markdown",
   "id": "9d2a9188",
   "metadata": {},
   "source": [
    "#### equal_var=False的情况，两个的数量都要>=2"
   ]
  },
  {
   "cell_type": "code",
   "execution_count": 25,
   "id": "0fb95d26",
   "metadata": {},
   "outputs": [
    {
     "data": {
      "text/plain": [
       "TtestResult(statistic=-3.1304951684997055, pvalue=0.12904783554828336, df=1.4705882352941178)"
      ]
     },
     "execution_count": 25,
     "metadata": {},
     "output_type": "execute_result"
    }
   ],
   "source": [
    "ttest_ind([1, 0], [3, 5], equal_var=False)"
   ]
  },
  {
   "cell_type": "code",
   "execution_count": null,
   "id": "d6410664",
   "metadata": {},
   "outputs": [],
   "source": []
  },
  {
   "cell_type": "markdown",
   "id": "4d3d9f14",
   "metadata": {},
   "source": [
    "#### mannwhitneyu检验，如果都只有一个值，结果永远是pvalue=1.0，无效, 最好两个以上"
   ]
  },
  {
   "cell_type": "code",
   "execution_count": 53,
   "id": "4eadce42",
   "metadata": {},
   "outputs": [
    {
     "data": {
      "text/plain": [
       "MannwhitneyuResult(statistic=0.0, pvalue=0.3333333333333333)"
      ]
     },
     "execution_count": 53,
     "metadata": {},
     "output_type": "execute_result"
    }
   ],
   "source": [
    "mannwhitneyu([-111196, -56], [200, 3])"
   ]
  },
  {
   "cell_type": "code",
   "execution_count": null,
   "id": "9900a0da",
   "metadata": {},
   "outputs": [],
   "source": []
  },
  {
   "cell_type": "code",
   "execution_count": null,
   "id": "04bc3089",
   "metadata": {},
   "outputs": [],
   "source": []
  },
  {
   "cell_type": "code",
   "execution_count": 52,
   "id": "eb6e0bef",
   "metadata": {},
   "outputs": [],
   "source": [
    "# 进行 Mann-Whitney U 检验, P值越小越显著"
   ]
  },
  {
   "cell_type": "code",
   "execution_count": null,
   "id": "165a84bb",
   "metadata": {},
   "outputs": [],
   "source": []
  },
  {
   "cell_type": "code",
   "execution_count": null,
   "id": "8eae05b1",
   "metadata": {},
   "outputs": [],
   "source": []
  },
  {
   "cell_type": "code",
   "execution_count": null,
   "id": "c621d956",
   "metadata": {},
   "outputs": [],
   "source": []
  },
  {
   "cell_type": "code",
   "execution_count": null,
   "id": "ffc032d3",
   "metadata": {},
   "outputs": [],
   "source": []
  }
 ],
 "metadata": {
  "kernelspec": {
   "display_name": "Python 3 (ipykernel)",
   "language": "python",
   "name": "python3"
  },
  "language_info": {
   "codemirror_mode": {
    "name": "ipython",
    "version": 3
   },
   "file_extension": ".py",
   "mimetype": "text/x-python",
   "name": "python",
   "nbconvert_exporter": "python",
   "pygments_lexer": "ipython3",
   "version": "3.9.13"
  }
 },
 "nbformat": 4,
 "nbformat_minor": 5
}
